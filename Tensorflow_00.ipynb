{
  "nbformat": 4,
  "nbformat_minor": 0,
  "metadata": {
    "colab": {
      "provenance": [],
      "gpuType": "T4",
      "toc_visible": true,
      "authorship_tag": "ABX9TyNqUj3gRfdP9ZDmgnxjVMFM",
      "include_colab_link": true
    },
    "kernelspec": {
      "name": "python3",
      "display_name": "Python 3"
    },
    "language_info": {
      "name": "python"
    },
    "accelerator": "GPU"
  },
  "cells": [
    {
      "cell_type": "markdown",
      "metadata": {
        "id": "view-in-github",
        "colab_type": "text"
      },
      "source": [
        "<a href=\"https://colab.research.google.com/github/MohamadMahdiDarvishi/Tensorflow/blob/main/Tensorflow_00.ipynb\" target=\"_parent\"><img src=\"https://colab.research.google.com/assets/colab-badge.svg\" alt=\"Open In Colab\"/></a>"
      ]
    },
    {
      "cell_type": "markdown",
      "source": [
        "# Fundumantals of tensor flow\n",
        "some of topics I am goning to cover in this nootebook :\n",
        "\n",
        "* Creating `scalers` , `vectors` , `variables` and `contants`\n",
        "* creating random tensors , shuffle order of tensor elements\n",
        "*\n"
      ],
      "metadata": {
        "id": "sPsDRgI9vluM"
      }
    },
    {
      "cell_type": "markdown",
      "source": [
        "## Prerequireties"
      ],
      "metadata": {
        "id": "en-96C-ewQcd"
      }
    },
    {
      "cell_type": "code",
      "execution_count": null,
      "metadata": {
        "colab": {
          "base_uri": "https://localhost:8080/",
          "height": 36
        },
        "id": "dOltR2z9D072",
        "outputId": "39f494c9-a536-4531-d79d-5367f23ddb7c"
      },
      "outputs": [
        {
          "output_type": "execute_result",
          "data": {
            "text/plain": [
              "'2.12.0'"
            ],
            "application/vnd.google.colaboratory.intrinsic+json": {
              "type": "string"
            }
          },
          "metadata": {},
          "execution_count": 3
        }
      ],
      "source": [
        " # Imports\n",
        "import tensorflow as tf\n",
        "tf.__version__"
      ]
    },
    {
      "cell_type": "markdown",
      "source": [
        "##Creating `scalers` , `vectors` , `variables` and `contants`\n",
        "\n",
        "as you may get it earlier these are more conceptual aspect of what we are going to cover :\n",
        "\n",
        "* variables - representing different kind of data types (boolean,integer,..) in shape of vectors , tensors , ...\n",
        "* constant - representing constant variables\n",
        "* scalers - representing tensors or matrices with 0 dimension\n",
        "* vectors - matrices with 1 dimension"
      ],
      "metadata": {
        "id": "jP52RdwWxB4-"
      }
    },
    {
      "cell_type": "code",
      "source": [
        "scaler = tf.Variable(5)\n",
        "scaler"
      ],
      "metadata": {
        "colab": {
          "base_uri": "https://localhost:8080/"
        },
        "id": "2TeQSlWDxbIX",
        "outputId": "8fb9f702-3260-42f6-8d70-c57dec221922"
      },
      "execution_count": null,
      "outputs": [
        {
          "output_type": "execute_result",
          "data": {
            "text/plain": [
              "<tf.Variable 'Variable:0' shape=() dtype=int32, numpy=5>"
            ]
          },
          "metadata": {},
          "execution_count": 4
        }
      ]
    },
    {
      "cell_type": "code",
      "source": [
        "vector = tf.Variable([5 , 5])\n",
        "vector"
      ],
      "metadata": {
        "colab": {
          "base_uri": "https://localhost:8080/"
        },
        "id": "v_gyMFaUxbWl",
        "outputId": "5ca34e0c-699a-4e64-e797-b6ad31ec5873"
      },
      "execution_count": null,
      "outputs": [
        {
          "output_type": "execute_result",
          "data": {
            "text/plain": [
              "<tf.Variable 'Variable:0' shape=(2,) dtype=int32, numpy=array([5, 5], dtype=int32)>"
            ]
          },
          "metadata": {},
          "execution_count": 5
        }
      ]
    },
    {
      "cell_type": "code",
      "source": [
        "matrix = tf.Variable([[1 , 2 , 3],\n",
        "                      [4 , 5 , 6]])\n",
        "matrix"
      ],
      "metadata": {
        "colab": {
          "base_uri": "https://localhost:8080/"
        },
        "id": "bNdg4B2e0NYT",
        "outputId": "f4bf1ba5-cfad-4c1c-cd69-16ae0716e033"
      },
      "execution_count": null,
      "outputs": [
        {
          "output_type": "execute_result",
          "data": {
            "text/plain": [
              "<tf.Variable 'Variable:0' shape=(2, 3) dtype=int32, numpy=\n",
              "array([[1, 2, 3],\n",
              "       [4, 5, 6]], dtype=int32)>"
            ]
          },
          "metadata": {},
          "execution_count": 6
        }
      ]
    },
    {
      "cell_type": "code",
      "source": [
        "constant_matrix = tf.constant([[7 , 8 , 9],\n",
        "                              [10 , 11 , 12]])\n",
        "constant_matrix"
      ],
      "metadata": {
        "colab": {
          "base_uri": "https://localhost:8080/"
        },
        "id": "01c1pNMJxbc2",
        "outputId": "ebfb6354-2d2e-4072-cabc-1110f2c4ff14"
      },
      "execution_count": null,
      "outputs": [
        {
          "output_type": "execute_result",
          "data": {
            "text/plain": [
              "<tf.Tensor: shape=(2, 3), dtype=int32, numpy=\n",
              "array([[ 7,  8,  9],\n",
              "       [10, 11, 12]], dtype=int32)>"
            ]
          },
          "metadata": {},
          "execution_count": 7
        }
      ]
    },
    {
      "cell_type": "markdown",
      "source": [
        "**Note :** we can't change matrix elements by assignment operators insted we use `assign()` method"
      ],
      "metadata": {
        "id": "p8bnXbtgBfyE"
      }
    },
    {
      "cell_type": "code",
      "source": [
        "vector[0].assign(10)\n",
        "vector"
      ],
      "metadata": {
        "colab": {
          "base_uri": "https://localhost:8080/"
        },
        "id": "7ize3aFbDIow",
        "outputId": "77e52220-6396-46a0-8df3-68690989afdd"
      },
      "execution_count": null,
      "outputs": [
        {
          "output_type": "execute_result",
          "data": {
            "text/plain": [
              "<tf.Variable 'Variable:0' shape=(2,) dtype=int32, numpy=array([10,  5], dtype=int32)>"
            ]
          },
          "metadata": {},
          "execution_count": 8
        }
      ]
    },
    {
      "cell_type": "markdown",
      "source": [
        "**what is difference between constant and Variable ?** constants are unchangeable"
      ],
      "metadata": {
        "id": "d2pW-R7GxbiV"
      }
    },
    {
      "cell_type": "markdown",
      "source": [
        "looking at some features of tensors :\n",
        "\n",
        "* Rank : `tensor.ndim`\n",
        "* Shape : `tensor.shape`\n",
        "* Size : `tensor.size`\n",
        "* dimensions : `tensor[x,y]`"
      ],
      "metadata": {
        "id": "bkQQnGMeBfXh"
      }
    },
    {
      "cell_type": "code",
      "source": [
        "constant_matrix.ndim"
      ],
      "metadata": {
        "colab": {
          "base_uri": "https://localhost:8080/"
        },
        "id": "poqEIz4JBfKb",
        "outputId": "db847233-6c65-4d5a-a693-b856141cded3"
      },
      "execution_count": null,
      "outputs": [
        {
          "output_type": "execute_result",
          "data": {
            "text/plain": [
              "2"
            ]
          },
          "metadata": {},
          "execution_count": 9
        }
      ]
    },
    {
      "cell_type": "markdown",
      "source": [
        "**Note :** we can not use `ndim` for **non** constant variables"
      ],
      "metadata": {
        "id": "V7BqrMsQGHUJ"
      }
    },
    {
      "cell_type": "code",
      "source": [
        "matrix.shape"
      ],
      "metadata": {
        "colab": {
          "base_uri": "https://localhost:8080/"
        },
        "id": "99k26jQGHrBc",
        "outputId": "9c27518e-8fa5-47f5-d1b7-adc8bff26b45"
      },
      "execution_count": null,
      "outputs": [
        {
          "output_type": "execute_result",
          "data": {
            "text/plain": [
              "TensorShape([2, 3])"
            ]
          },
          "metadata": {},
          "execution_count": 10
        }
      ]
    },
    {
      "cell_type": "code",
      "source": [
        "matrix[1][1] == matrix[1,1]"
      ],
      "metadata": {
        "colab": {
          "base_uri": "https://localhost:8080/"
        },
        "id": "R8YJF5pTHv4D",
        "outputId": "acacf871-5028-42ab-ed2d-26932d346b93"
      },
      "execution_count": null,
      "outputs": [
        {
          "output_type": "execute_result",
          "data": {
            "text/plain": [
              "<tf.Tensor: shape=(), dtype=bool, numpy=True>"
            ]
          },
          "metadata": {},
          "execution_count": 11
        }
      ]
    },
    {
      "cell_type": "markdown",
      "source": [
        "## Creating random tensors and Shuffle tensors\n",
        "\n",
        "by setting seed to same numbers we would get same shuffles (order of elements) and random tensors"
      ],
      "metadata": {
        "id": "ULybm8kKHwB-"
      }
    },
    {
      "cell_type": "code",
      "source": [
        "# creating random tensors\n",
        "random_1 = tf.random.Generator.from_seed(42).normal(shape = (2,2))\n",
        "random_2 = tf.random.Generator.from_seed(42).normal(shape = (2,2))\n",
        "random_2 == random_2"
      ],
      "metadata": {
        "colab": {
          "base_uri": "https://localhost:8080/"
        },
        "id": "Nl5iBnd6HwHJ",
        "outputId": "02d00ead-45cc-4e97-f98d-100498fcfe28"
      },
      "execution_count": null,
      "outputs": [
        {
          "output_type": "execute_result",
          "data": {
            "text/plain": [
              "<tf.Tensor: shape=(2, 2), dtype=bool, numpy=\n",
              "array([[ True,  True],\n",
              "       [ True,  True]])>"
            ]
          },
          "metadata": {},
          "execution_count": 12
        }
      ]
    },
    {
      "cell_type": "markdown",
      "source": [
        "**Note :** as you see by setting random seed we create the **reproducibility**"
      ],
      "metadata": {
        "id": "liMTPhU2HwMO"
      }
    },
    {
      "cell_type": "code",
      "source": [
        "# shuffle tensors (without setting seed)\n",
        "not_shuffled = tf.constant([[1 , 2],\n",
        "                            [3 , 4]])\n",
        "tf.random.shuffle(not_shuffled)"
      ],
      "metadata": {
        "colab": {
          "base_uri": "https://localhost:8080/"
        },
        "id": "D09_XRFIMoY-",
        "outputId": "bb75eef3-ef9c-448a-8714-eb1444b25c00"
      },
      "execution_count": null,
      "outputs": [
        {
          "output_type": "execute_result",
          "data": {
            "text/plain": [
              "<tf.Tensor: shape=(2, 2), dtype=int32, numpy=\n",
              "array([[1, 2],\n",
              "       [3, 4]], dtype=int32)>"
            ]
          },
          "metadata": {},
          "execution_count": 13
        }
      ]
    },
    {
      "cell_type": "code",
      "source": [
        "# shuffled tensors (with setting seed)\n",
        "tf.random.set_seed(42)\n",
        "tf.random.shuffle(not_shuffled , seed = 42)"
      ],
      "metadata": {
        "colab": {
          "base_uri": "https://localhost:8080/"
        },
        "id": "MgtO5ZDMMoeO",
        "outputId": "018d79ac-e3bb-425b-e936-6f2ce76c69e7"
      },
      "execution_count": null,
      "outputs": [
        {
          "output_type": "execute_result",
          "data": {
            "text/plain": [
              "<tf.Tensor: shape=(2, 2), dtype=int32, numpy=\n",
              "array([[3, 4],\n",
              "       [1, 2]], dtype=int32)>"
            ]
          },
          "metadata": {},
          "execution_count": 14
        }
      ]
    },
    {
      "cell_type": "markdown",
      "source": [
        "## Other ways to make tensors\n",
        "\n",
        "* ones\n",
        "* zeros"
      ],
      "metadata": {
        "id": "mL0YU8HS1ohr"
      }
    },
    {
      "cell_type": "code",
      "source": [
        "tf.ones([2 , 3  , 5])"
      ],
      "metadata": {
        "colab": {
          "base_uri": "https://localhost:8080/"
        },
        "id": "AXCMnbDCMoiU",
        "outputId": "ee36039d-54f3-4350-ba03-2679ca586a23"
      },
      "execution_count": null,
      "outputs": [
        {
          "output_type": "execute_result",
          "data": {
            "text/plain": [
              "<tf.Tensor: shape=(2, 3, 5), dtype=float32, numpy=\n",
              "array([[[1., 1., 1., 1., 1.],\n",
              "        [1., 1., 1., 1., 1.],\n",
              "        [1., 1., 1., 1., 1.]],\n",
              "\n",
              "       [[1., 1., 1., 1., 1.],\n",
              "        [1., 1., 1., 1., 1.],\n",
              "        [1., 1., 1., 1., 1.]]], dtype=float32)>"
            ]
          },
          "metadata": {},
          "execution_count": 15
        }
      ]
    },
    {
      "cell_type": "code",
      "source": [
        "tf.zeros(shape = (3 , 4))"
      ],
      "metadata": {
        "colab": {
          "base_uri": "https://localhost:8080/"
        },
        "id": "R81m-s-CMomQ",
        "outputId": "196de41f-3c6d-4217-f3fe-fda75065ad3e"
      },
      "execution_count": null,
      "outputs": [
        {
          "output_type": "execute_result",
          "data": {
            "text/plain": [
              "<tf.Tensor: shape=(3, 4), dtype=float32, numpy=\n",
              "array([[0., 0., 0., 0.],\n",
              "       [0., 0., 0., 0.],\n",
              "       [0., 0., 0., 0.]], dtype=float32)>"
            ]
          },
          "metadata": {},
          "execution_count": 16
        }
      ]
    },
    {
      "cell_type": "markdown",
      "source": [
        "## Turning numpy data unto tensors\n",
        "main difference beteween numpy arrays and tensors is that tensors could run on GPUs or TPUs for faster procesing  "
      ],
      "metadata": {
        "id": "PADfmnFOMoqt"
      }
    },
    {
      "cell_type": "code",
      "source": [
        "import numpy as np\n",
        "np_matrix = np.random.rand(3,2)\n",
        "np_matrix"
      ],
      "metadata": {
        "colab": {
          "base_uri": "https://localhost:8080/"
        },
        "id": "ZW5A7JZKMoua",
        "outputId": "9eb6efa2-30d1-4dea-a184-8362a48b680d"
      },
      "execution_count": null,
      "outputs": [
        {
          "output_type": "execute_result",
          "data": {
            "text/plain": [
              "array([[0.03415142, 0.47904982],\n",
              "       [0.27402042, 0.01874945],\n",
              "       [0.16826989, 0.63833121]])"
            ]
          },
          "metadata": {},
          "execution_count": 17
        }
      ]
    },
    {
      "cell_type": "code",
      "source": [
        "tf_matrix = tf.constant(np_matrix)\n",
        "tf_matrix"
      ],
      "metadata": {
        "colab": {
          "base_uri": "https://localhost:8080/"
        },
        "id": "r6Ya6xhkMoyO",
        "outputId": "7b5a2f1e-c878-4ecb-a10c-0178da61b854"
      },
      "execution_count": null,
      "outputs": [
        {
          "output_type": "execute_result",
          "data": {
            "text/plain": [
              "<tf.Tensor: shape=(3, 2), dtype=float64, numpy=\n",
              "array([[0.03415142, 0.47904982],\n",
              "       [0.27402042, 0.01874945],\n",
              "       [0.16826989, 0.63833121]])>"
            ]
          },
          "metadata": {},
          "execution_count": 18
        }
      ]
    },
    {
      "cell_type": "code",
      "source": [
        "# or\n",
        "tf_another_matrix = tf.constant(np_matrix , shape = (2,3))\n",
        "tf_another_matrix"
      ],
      "metadata": {
        "colab": {
          "base_uri": "https://localhost:8080/"
        },
        "id": "XwzgnD0o4aOf",
        "outputId": "bd24ebc3-2a9c-4fa0-ff32-8d004a7d1488"
      },
      "execution_count": null,
      "outputs": [
        {
          "output_type": "execute_result",
          "data": {
            "text/plain": [
              "<tf.Tensor: shape=(2, 3), dtype=float64, numpy=\n",
              "array([[0.03415142, 0.47904982, 0.27402042],\n",
              "       [0.01874945, 0.16826989, 0.63833121]])>"
            ]
          },
          "metadata": {},
          "execution_count": 19
        }
      ]
    },
    {
      "cell_type": "markdown",
      "source": [
        "## Getting information from tensors\n",
        "\n",
        "* Rank\n",
        "* Shape\n",
        "* Axis or dimension\n",
        "* Size"
      ],
      "metadata": {
        "id": "oFg-TFFL476A"
      }
    },
    {
      "cell_type": "code",
      "source": [
        "# Shape\n",
        "tf_matrix.shape"
      ],
      "metadata": {
        "colab": {
          "base_uri": "https://localhost:8080/"
        },
        "id": "zsdyp9ZT5TJh",
        "outputId": "ab45b8cb-3c0f-40ed-a4e8-b22a870820d8"
      },
      "execution_count": null,
      "outputs": [
        {
          "output_type": "execute_result",
          "data": {
            "text/plain": [
              "TensorShape([3, 2])"
            ]
          },
          "metadata": {},
          "execution_count": 20
        }
      ]
    },
    {
      "cell_type": "code",
      "source": [
        "# Rank\n",
        "tf_matrix.ndim"
      ],
      "metadata": {
        "colab": {
          "base_uri": "https://localhost:8080/"
        },
        "id": "gm2oTNR65TId",
        "outputId": "b78ca48b-c261-449b-87d2-6810152748ff"
      },
      "execution_count": null,
      "outputs": [
        {
          "output_type": "execute_result",
          "data": {
            "text/plain": [
              "2"
            ]
          },
          "metadata": {},
          "execution_count": 21
        }
      ]
    },
    {
      "cell_type": "code",
      "source": [
        "# Size\n",
        "tf.size(tf_matrix).numpy()"
      ],
      "metadata": {
        "colab": {
          "base_uri": "https://localhost:8080/"
        },
        "id": "FdVuUSA85TE3",
        "outputId": "db461ed2-5d9a-4187-f63e-d5e85af908a5"
      },
      "execution_count": null,
      "outputs": [
        {
          "output_type": "execute_result",
          "data": {
            "text/plain": [
              "6"
            ]
          },
          "metadata": {},
          "execution_count": 22
        }
      ]
    },
    {
      "cell_type": "code",
      "source": [
        "# numpy method\n",
        "tf_matrix.numpy()"
      ],
      "metadata": {
        "colab": {
          "base_uri": "https://localhost:8080/"
        },
        "id": "-wOsGLIQ5TDw",
        "outputId": "da687934-e49d-458d-c366-ba0708131559"
      },
      "execution_count": null,
      "outputs": [
        {
          "output_type": "execute_result",
          "data": {
            "text/plain": [
              "array([[0.03415142, 0.47904982],\n",
              "       [0.27402042, 0.01874945],\n",
              "       [0.16826989, 0.63833121]])"
            ]
          },
          "metadata": {},
          "execution_count": 23
        }
      ]
    },
    {
      "cell_type": "code",
      "source": [
        "# tensor data type\n",
        "tf_matrix.dtype"
      ],
      "metadata": {
        "colab": {
          "base_uri": "https://localhost:8080/"
        },
        "id": "76saG1uo5S_V",
        "outputId": "0acc1b80-88f8-4379-e11c-4a7300edf364"
      },
      "execution_count": null,
      "outputs": [
        {
          "output_type": "execute_result",
          "data": {
            "text/plain": [
              "tf.float64"
            ]
          },
          "metadata": {},
          "execution_count": 24
        }
      ]
    },
    {
      "cell_type": "markdown",
      "source": [
        "## Indexing tensors\n",
        "tensorflow tensors can be indexed just like python lists"
      ],
      "metadata": {
        "id": "x7iMcPfj5S-Z"
      }
    },
    {
      "cell_type": "code",
      "source": [
        "rank_2_tensor = tf.constant([[1 , 2],\n",
        "                             [3 , 4]])\n",
        "rank_2_tensor[1,1]"
      ],
      "metadata": {
        "colab": {
          "base_uri": "https://localhost:8080/"
        },
        "id": "vE_2-Rlf5S6o",
        "outputId": "7d76fd4d-7370-4275-ed04-c06a11d5056d"
      },
      "execution_count": null,
      "outputs": [
        {
          "output_type": "execute_result",
          "data": {
            "text/plain": [
              "<tf.Tensor: shape=(), dtype=int32, numpy=4>"
            ]
          },
          "metadata": {},
          "execution_count": 25
        }
      ]
    },
    {
      "cell_type": "code",
      "source": [
        "# or\n",
        "rank_2_tensor[1][1].numpy()"
      ],
      "metadata": {
        "colab": {
          "base_uri": "https://localhost:8080/"
        },
        "id": "YcS7ghER5S5j",
        "outputId": "0305cdae-04c8-4e15-f862-ff5c0520f846"
      },
      "execution_count": null,
      "outputs": [
        {
          "output_type": "execute_result",
          "data": {
            "text/plain": [
              "4"
            ]
          },
          "metadata": {},
          "execution_count": 26
        }
      ]
    },
    {
      "cell_type": "markdown",
      "source": [
        "**Note :** adding extra dimensions to our tensor\n",
        "\n",
        "it would be really usefull when working with models inputs or outputs"
      ],
      "metadata": {
        "id": "D5pfKEGYD8YG"
      }
    },
    {
      "cell_type": "code",
      "source": [
        "rank_3_tensor = tf.expand_dims(rank_2_tensor , axis = 0)\n",
        "rank_3_tensor"
      ],
      "metadata": {
        "colab": {
          "base_uri": "https://localhost:8080/"
        },
        "id": "CmwGYOmKD8dQ",
        "outputId": "9b9f1697-f50d-4a87-c3a5-7eec42ec749b"
      },
      "execution_count": null,
      "outputs": [
        {
          "output_type": "execute_result",
          "data": {
            "text/plain": [
              "<tf.Tensor: shape=(1, 2, 2), dtype=int32, numpy=\n",
              "array([[[1, 2],\n",
              "        [3, 4]]], dtype=int32)>"
            ]
          },
          "metadata": {},
          "execution_count": 27
        }
      ]
    },
    {
      "cell_type": "code",
      "source": [
        "# or\n",
        "rank_3_tensor = rank_2_tensor[...,tf.newaxis]\n",
        "rank_3_tensor"
      ],
      "metadata": {
        "colab": {
          "base_uri": "https://localhost:8080/"
        },
        "id": "6ifFPyRKD8iI",
        "outputId": "34977fc6-363a-461f-87a2-7eff98280fb8"
      },
      "execution_count": null,
      "outputs": [
        {
          "output_type": "execute_result",
          "data": {
            "text/plain": [
              "<tf.Tensor: shape=(2, 2, 1), dtype=int32, numpy=\n",
              "array([[[1],\n",
              "        [2]],\n",
              "\n",
              "       [[3],\n",
              "        [4]]], dtype=int32)>"
            ]
          },
          "metadata": {},
          "execution_count": 28
        }
      ]
    },
    {
      "cell_type": "markdown",
      "source": [
        "## Mainipulating tensors\n",
        "\n",
        "arithmetic operations : `+`,`-`,`*`,`/`\n",
        "\n",
        "arithmetic operations in tensorflow would hapen on every elemnents of tensors"
      ],
      "metadata": {
        "id": "VbXW0OKaD8mT"
      }
    },
    {
      "cell_type": "code",
      "source": [
        "tf.random.set_seed(42)\n",
        "sample_tensor = tf.random.uniform(shape = (2,2) , dtype = tf.int32 , maxval = 20 , seed = 42)\n",
        "sample_tensor"
      ],
      "metadata": {
        "colab": {
          "base_uri": "https://localhost:8080/"
        },
        "id": "qjzyBDoSD8qj",
        "outputId": "0aadba76-df5a-4776-fae4-9b8b71144c3a"
      },
      "execution_count": null,
      "outputs": [
        {
          "output_type": "execute_result",
          "data": {
            "text/plain": [
              "<tf.Tensor: shape=(2, 2), dtype=int32, numpy=\n",
              "array([[13, 18],\n",
              "       [10, 14]], dtype=int32)>"
            ]
          },
          "metadata": {},
          "execution_count": 29
        }
      ]
    },
    {
      "cell_type": "code",
      "source": [
        "sample_tensor * 10"
      ],
      "metadata": {
        "id": "MOEpujWtD8u_",
        "colab": {
          "base_uri": "https://localhost:8080/"
        },
        "outputId": "ed1007d9-423f-4494-fe01-dca3f981ab2e"
      },
      "execution_count": null,
      "outputs": [
        {
          "output_type": "execute_result",
          "data": {
            "text/plain": [
              "<tf.Tensor: shape=(2, 2), dtype=int32, numpy=\n",
              "array([[130, 180],\n",
              "       [100, 140]], dtype=int32)>"
            ]
          },
          "metadata": {},
          "execution_count": 30
        }
      ]
    },
    {
      "cell_type": "code",
      "source": [
        "sample_tensor + 10"
      ],
      "metadata": {
        "colab": {
          "base_uri": "https://localhost:8080/"
        },
        "id": "rINi7QErD8zZ",
        "outputId": "3b62f013-2892-4a67-c24d-b4d826dfd510"
      },
      "execution_count": null,
      "outputs": [
        {
          "output_type": "execute_result",
          "data": {
            "text/plain": [
              "<tf.Tensor: shape=(2, 2), dtype=int32, numpy=\n",
              "array([[23, 28],\n",
              "       [20, 24]], dtype=int32)>"
            ]
          },
          "metadata": {},
          "execution_count": 31
        }
      ]
    },
    {
      "cell_type": "markdown",
      "source": [
        "**Matrix multiplication**\n",
        "\n",
        "there are two important rules for matrix multiplication :\n",
        "\n",
        "* the inner dimensions must be the same\n",
        "* the resulting matrix would have outter dimensions\n"
      ],
      "metadata": {
        "id": "ZW33CBk5KkpU"
      }
    },
    {
      "cell_type": "code",
      "source": [
        "tf.random.set_seed(42)\n",
        "sample_tensor_2 = tf.random.uniform(shape = (2,3) , maxval = 20 , dtype = tf.int32 , seed = 42)\n",
        "sample_tensor_2"
      ],
      "metadata": {
        "colab": {
          "base_uri": "https://localhost:8080/"
        },
        "id": "2DMGmmelKkuU",
        "outputId": "708c5974-01c5-4e68-ae1e-a657d3e00bcb"
      },
      "execution_count": null,
      "outputs": [
        {
          "output_type": "execute_result",
          "data": {
            "text/plain": [
              "<tf.Tensor: shape=(2, 3), dtype=int32, numpy=\n",
              "array([[13, 18, 10],\n",
              "       [14,  8,  1]], dtype=int32)>"
            ]
          },
          "metadata": {},
          "execution_count": 32
        }
      ]
    },
    {
      "cell_type": "code",
      "source": [
        "# as we could see inner dimensions have same value and resulting tensor would have shape : (2,3)\n",
        "sample_tensor , sample_tensor_2"
      ],
      "metadata": {
        "colab": {
          "base_uri": "https://localhost:8080/"
        },
        "id": "qzhpoZZ-Kkyc",
        "outputId": "5815492b-5de1-43da-a786-b9c5f954aaa9"
      },
      "execution_count": null,
      "outputs": [
        {
          "output_type": "execute_result",
          "data": {
            "text/plain": [
              "(<tf.Tensor: shape=(2, 2), dtype=int32, numpy=\n",
              " array([[13, 18],\n",
              "        [10, 14]], dtype=int32)>,\n",
              " <tf.Tensor: shape=(2, 3), dtype=int32, numpy=\n",
              " array([[13, 18, 10],\n",
              "        [14,  8,  1]], dtype=int32)>)"
            ]
          },
          "metadata": {},
          "execution_count": 33
        }
      ]
    },
    {
      "cell_type": "code",
      "source": [
        "tf.matmul(sample_tensor , sample_tensor_2)"
      ],
      "metadata": {
        "colab": {
          "base_uri": "https://localhost:8080/"
        },
        "id": "ZNVPfGH2Kk2W",
        "outputId": "fc01cf23-0dd3-4bf3-dbd7-cf861415e2c8"
      },
      "execution_count": null,
      "outputs": [
        {
          "output_type": "execute_result",
          "data": {
            "text/plain": [
              "<tf.Tensor: shape=(2, 3), dtype=int32, numpy=\n",
              "array([[421, 378, 148],\n",
              "       [326, 292, 114]], dtype=int32)>"
            ]
          },
          "metadata": {},
          "execution_count": 34
        }
      ]
    },
    {
      "cell_type": "code",
      "source": [
        "# or using python \"@\" operator\n",
        "sample_tensor @ sample_tensor_2"
      ],
      "metadata": {
        "colab": {
          "base_uri": "https://localhost:8080/"
        },
        "id": "pGvwEOoLKk6Q",
        "outputId": "6b29cdae-d0ce-4c31-a5ec-309106f695b8"
      },
      "execution_count": null,
      "outputs": [
        {
          "output_type": "execute_result",
          "data": {
            "text/plain": [
              "<tf.Tensor: shape=(2, 3), dtype=int32, numpy=\n",
              "array([[421, 378, 148],\n",
              "       [326, 292, 114]], dtype=int32)>"
            ]
          },
          "metadata": {},
          "execution_count": 35
        }
      ]
    },
    {
      "cell_type": "code",
      "source": [
        "# creating a tensor that its dimensions doesn't match\n",
        "tf.random.set_seed(42)\n",
        "sample_tensor_3 = tf.random.uniform(shape = (3,2) , maxval = 20 ,seed = 42 , dtype = tf.int32)\n",
        "sample_tensor_3"
      ],
      "metadata": {
        "colab": {
          "base_uri": "https://localhost:8080/"
        },
        "id": "ajSLr86VKk-b",
        "outputId": "cc531116-f11d-4808-8523-b89d63121db1"
      },
      "execution_count": null,
      "outputs": [
        {
          "output_type": "execute_result",
          "data": {
            "text/plain": [
              "<tf.Tensor: shape=(3, 2), dtype=int32, numpy=\n",
              "array([[13, 18],\n",
              "       [10, 14],\n",
              "       [ 8,  1]], dtype=int32)>"
            ]
          },
          "metadata": {},
          "execution_count": 36
        }
      ]
    },
    {
      "cell_type": "code",
      "source": [
        "sample_tensor , sample_tensor_3"
      ],
      "metadata": {
        "colab": {
          "base_uri": "https://localhost:8080/"
        },
        "id": "U-ZaFmDQSSqm",
        "outputId": "60ef0261-3ec4-4133-f57d-df955f7d62e2"
      },
      "execution_count": null,
      "outputs": [
        {
          "output_type": "execute_result",
          "data": {
            "text/plain": [
              "(<tf.Tensor: shape=(2, 2), dtype=int32, numpy=\n",
              " array([[13, 18],\n",
              "        [10, 14]], dtype=int32)>,\n",
              " <tf.Tensor: shape=(3, 2), dtype=int32, numpy=\n",
              " array([[13, 18],\n",
              "        [10, 14],\n",
              "        [ 8,  1]], dtype=int32)>)"
            ]
          },
          "metadata": {},
          "execution_count": 37
        }
      ]
    },
    {
      "cell_type": "code",
      "source": [
        "sample_tensor_reshape = tf.reshape(sample_tensor_3 , shape = (2,3))\n",
        "sample_tensor_reshape"
      ],
      "metadata": {
        "colab": {
          "base_uri": "https://localhost:8080/"
        },
        "id": "VvjjvCZdSe4k",
        "outputId": "407caf3a-391f-493d-d706-cacf0dec872b"
      },
      "execution_count": null,
      "outputs": [
        {
          "output_type": "execute_result",
          "data": {
            "text/plain": [
              "<tf.Tensor: shape=(2, 3), dtype=int32, numpy=\n",
              "array([[13, 18, 10],\n",
              "       [14,  8,  1]], dtype=int32)>"
            ]
          },
          "metadata": {},
          "execution_count": 38
        }
      ]
    },
    {
      "cell_type": "code",
      "source": [
        "# resulting tensor shape would be : (2,3)\n",
        "sample_tensor @ sample_tensor_reshape"
      ],
      "metadata": {
        "colab": {
          "base_uri": "https://localhost:8080/"
        },
        "id": "VVNZ4gNfSe-H",
        "outputId": "722b75e5-22cf-498a-c76b-360f6d457efc"
      },
      "execution_count": null,
      "outputs": [
        {
          "output_type": "execute_result",
          "data": {
            "text/plain": [
              "<tf.Tensor: shape=(2, 3), dtype=int32, numpy=\n",
              "array([[421, 378, 148],\n",
              "       [326, 292, 114]], dtype=int32)>"
            ]
          },
          "metadata": {},
          "execution_count": 39
        }
      ]
    },
    {
      "cell_type": "code",
      "source": [
        "# or we could use transpose\n",
        "sample_tensor_transpose  = tf.transpose(sample_tensor_3)\n",
        "sample_tensor_transpose"
      ],
      "metadata": {
        "colab": {
          "base_uri": "https://localhost:8080/"
        },
        "id": "nAjlKhPoSfCw",
        "outputId": "9a4c0114-6ede-4524-a3bd-dd8ec362ff90"
      },
      "execution_count": null,
      "outputs": [
        {
          "output_type": "execute_result",
          "data": {
            "text/plain": [
              "<tf.Tensor: shape=(2, 3), dtype=int32, numpy=\n",
              "array([[13, 10,  8],\n",
              "       [18, 14,  1]], dtype=int32)>"
            ]
          },
          "metadata": {},
          "execution_count": 40
        }
      ]
    },
    {
      "cell_type": "code",
      "source": [
        "tf.matmul(sample_tensor , sample_tensor_transpose )"
      ],
      "metadata": {
        "colab": {
          "base_uri": "https://localhost:8080/"
        },
        "id": "8t04MWLXSfHE",
        "outputId": "5a456069-21e7-49bb-a995-8656e0243681"
      },
      "execution_count": null,
      "outputs": [
        {
          "output_type": "execute_result",
          "data": {
            "text/plain": [
              "<tf.Tensor: shape=(2, 3), dtype=int32, numpy=\n",
              "array([[493, 382, 122],\n",
              "       [382, 296,  94]], dtype=int32)>"
            ]
          },
          "metadata": {},
          "execution_count": 41
        }
      ]
    },
    {
      "cell_type": "markdown",
      "source": [
        "**Note :**\n",
        "\n",
        "tensor with same dimensions could be multiplied by `*` operator but resulting tensor is not produced by matrix multiplications and is just result of multiply of every element on same element on other matrix"
      ],
      "metadata": {
        "id": "tQNnht2yTj92"
      }
    },
    {
      "cell_type": "markdown",
      "source": [
        "**dot product**\n",
        "\n",
        "Matrix multiplicaton is  also refered as dot product and we could `tf.tensordot` for doing that"
      ],
      "metadata": {
        "id": "JSvKIaGrUKBl"
      }
    },
    {
      "cell_type": "code",
      "source": [
        "tf.tensordot(sample_tensor , sample_tensor_2 , axes = 1)"
      ],
      "metadata": {
        "colab": {
          "base_uri": "https://localhost:8080/"
        },
        "id": "8TnW8lA9UKAe",
        "outputId": "d5e4780f-47d2-4ec0-b9c1-4a4aa11eec54"
      },
      "execution_count": null,
      "outputs": [
        {
          "output_type": "execute_result",
          "data": {
            "text/plain": [
              "<tf.Tensor: shape=(2, 3), dtype=int32, numpy=\n",
              "array([[421, 378, 148],\n",
              "       [326, 292, 114]], dtype=int32)>"
            ]
          },
          "metadata": {},
          "execution_count": 42
        }
      ]
    },
    {
      "cell_type": "markdown",
      "source": [
        "## changing data type of tensors\n",
        "\n",
        "* we can determine data type of tensors when we are creating tensors\n",
        "* by the way we could change data type of created tensors by `tf.cast` function"
      ],
      "metadata": {
        "id": "uvIpwzxyUJ9b"
      }
    },
    {
      "cell_type": "code",
      "source": [
        "tensor_dtype = tf.constant([1.2 , 2.3] , dtype = tf.float32)\n",
        "tensor_dtype.dtype"
      ],
      "metadata": {
        "id": "CZffVk_NUJ8N",
        "colab": {
          "base_uri": "https://localhost:8080/"
        },
        "outputId": "d3611cc0-3026-4d5a-a9e1-ac4b9cedbb86"
      },
      "execution_count": null,
      "outputs": [
        {
          "output_type": "execute_result",
          "data": {
            "text/plain": [
              "tf.float32"
            ]
          },
          "metadata": {},
          "execution_count": 43
        }
      ]
    },
    {
      "cell_type": "code",
      "source": [
        "tensor_dtype_2 = tf.cast(tensor_dtype , dtype = tf.float16)\n",
        "tensor_dtype_2.dtype"
      ],
      "metadata": {
        "colab": {
          "base_uri": "https://localhost:8080/"
        },
        "id": "rwfI8-1OU-v_",
        "outputId": "e4f2d83a-f034-4aec-f631-9d7ac2e68ef6"
      },
      "execution_count": null,
      "outputs": [
        {
          "output_type": "execute_result",
          "data": {
            "text/plain": [
              "tf.float16"
            ]
          },
          "metadata": {},
          "execution_count": 44
        }
      ]
    },
    {
      "cell_type": "markdown",
      "source": [
        "## Aggregating tensors\n",
        "\n",
        "**Aggregating tensors** means to put tensors with multiple values and get smaller  amount of values\n",
        "\n",
        "some forms of tensors aggregation :\n",
        "\n",
        "* get minimum value of tensor elements\n",
        "* get maximum value of tensor elements\n",
        "* get mean of tensor elements\n",
        "* get sum of tensor elements"
      ],
      "metadata": {
        "id": "9eelz_wOU-1f"
      }
    },
    {
      "cell_type": "code",
      "source": [
        "aggregate_tensor = tf.constant(np.arange(20 , dtype = np.int32))\n",
        "aggregate_tensor"
      ],
      "metadata": {
        "colab": {
          "base_uri": "https://localhost:8080/"
        },
        "id": "of9E55rSU-6c",
        "outputId": "70929168-7c8b-49f7-8466-46cebceb255e"
      },
      "execution_count": null,
      "outputs": [
        {
          "output_type": "execute_result",
          "data": {
            "text/plain": [
              "<tf.Tensor: shape=(20,), dtype=int32, numpy=\n",
              "array([ 0,  1,  2,  3,  4,  5,  6,  7,  8,  9, 10, 11, 12, 13, 14, 15, 16,\n",
              "       17, 18, 19], dtype=int32)>"
            ]
          },
          "metadata": {},
          "execution_count": 45
        }
      ]
    },
    {
      "cell_type": "code",
      "source": [
        "tf.reduce_min(aggregate_tensor).numpy()"
      ],
      "metadata": {
        "colab": {
          "base_uri": "https://localhost:8080/"
        },
        "id": "OakrkFiFifsc",
        "outputId": "64c6cf3e-3de4-413b-d9d1-1706b2ee8fb6"
      },
      "execution_count": null,
      "outputs": [
        {
          "output_type": "execute_result",
          "data": {
            "text/plain": [
              "0"
            ]
          },
          "metadata": {},
          "execution_count": 46
        }
      ]
    },
    {
      "cell_type": "code",
      "source": [
        "tf.reduce_max(aggregate_tensor).numpy()"
      ],
      "metadata": {
        "colab": {
          "base_uri": "https://localhost:8080/"
        },
        "id": "5lYZ5kTWifog",
        "outputId": "94ed4dc5-5286-4d99-e0f5-92cefa826e01"
      },
      "execution_count": null,
      "outputs": [
        {
          "output_type": "execute_result",
          "data": {
            "text/plain": [
              "19"
            ]
          },
          "metadata": {},
          "execution_count": 47
        }
      ]
    },
    {
      "cell_type": "code",
      "source": [
        "tf.reduce_mean(aggregate_tensor).numpy()"
      ],
      "metadata": {
        "colab": {
          "base_uri": "https://localhost:8080/"
        },
        "id": "yvuUbBtWifnT",
        "outputId": "8a654e49-7ebe-4255-e310-629a564ec4f7"
      },
      "execution_count": null,
      "outputs": [
        {
          "output_type": "execute_result",
          "data": {
            "text/plain": [
              "9"
            ]
          },
          "metadata": {},
          "execution_count": 48
        }
      ]
    },
    {
      "cell_type": "code",
      "source": [
        "#  and if we want to get accurate answer we must change data type to float\n",
        "tf.reduce_mean(tf.cast(aggregate_tensor , dtype = tf.float32)).numpy()"
      ],
      "metadata": {
        "colab": {
          "base_uri": "https://localhost:8080/"
        },
        "id": "c1WHztEVjceV",
        "outputId": "2c6903a1-3d36-475a-a255-09ed462eba43"
      },
      "execution_count": null,
      "outputs": [
        {
          "output_type": "execute_result",
          "data": {
            "text/plain": [
              "9.5"
            ]
          },
          "metadata": {},
          "execution_count": 49
        }
      ]
    },
    {
      "cell_type": "code",
      "source": [
        "tf.reduce_sum(aggregate_tensor).numpy()"
      ],
      "metadata": {
        "colab": {
          "base_uri": "https://localhost:8080/"
        },
        "id": "7mukhkL2jcj2",
        "outputId": "2baf1481-c03c-468f-9b84-c8e22dec9f64"
      },
      "execution_count": null,
      "outputs": [
        {
          "output_type": "execute_result",
          "data": {
            "text/plain": [
              "190"
            ]
          },
          "metadata": {},
          "execution_count": 50
        }
      ]
    },
    {
      "cell_type": "markdown",
      "source": [
        "**Note :** we could get absolute value of every elemnt of tensor by `tf.abs()`"
      ],
      "metadata": {
        "id": "ljJvJEkGkcJJ"
      }
    },
    {
      "cell_type": "code",
      "source": [
        "tf.abs(tf.constant([-20 , -30]))"
      ],
      "metadata": {
        "colab": {
          "base_uri": "https://localhost:8080/"
        },
        "id": "YY392bUGjcpC",
        "outputId": "cd037dc4-660f-4b15-b960-00ab50055fe9"
      },
      "execution_count": null,
      "outputs": [
        {
          "output_type": "execute_result",
          "data": {
            "text/plain": [
              "<tf.Tensor: shape=(2,), dtype=int32, numpy=array([20, 30], dtype=int32)>"
            ]
          },
          "metadata": {},
          "execution_count": 51
        }
      ]
    },
    {
      "cell_type": "markdown",
      "source": [
        "we also could get following data of tensors :\n",
        "\n",
        "* variation\n",
        "* standar deviation"
      ],
      "metadata": {
        "id": "EEPA1RG3k99S"
      }
    },
    {
      "cell_type": "code",
      "source": [
        "# variation\n",
        "import tensorflow_probability as tfp\n",
        "tfp.stats.variance(aggregate_tensor).numpy()"
      ],
      "metadata": {
        "colab": {
          "base_uri": "https://localhost:8080/"
        },
        "id": "2E_EQHbglkHX",
        "outputId": "d022faa7-891d-4155-87d5-9673af87eb75"
      },
      "execution_count": null,
      "outputs": [
        {
          "output_type": "execute_result",
          "data": {
            "text/plain": [
              "33"
            ]
          },
          "metadata": {},
          "execution_count": 52
        }
      ]
    },
    {
      "cell_type": "markdown",
      "source": [
        "**Note :** before getting standar deviation we must change data type to float"
      ],
      "metadata": {
        "id": "Y7FEzdqNmZD5"
      }
    },
    {
      "cell_type": "code",
      "source": [
        "# standat deviation\n",
        "tf.math.reduce_std(tf.cast(aggregate_tensor, dtype = tf.float64)).numpy"
      ],
      "metadata": {
        "colab": {
          "base_uri": "https://localhost:8080/"
        },
        "id": "JPnaACOulkL3",
        "outputId": "4dd2b84e-9c2a-4fac-e72f-b1c0ebb28f7e"
      },
      "execution_count": null,
      "outputs": [
        {
          "output_type": "execute_result",
          "data": {
            "text/plain": [
              "<bound method _EagerTensorBase.numpy of <tf.Tensor: shape=(), dtype=float64, numpy=5.766281297335398>>"
            ]
          },
          "metadata": {},
          "execution_count": 53
        }
      ]
    },
    {
      "cell_type": "code",
      "source": [
        "# vriance (another way)\n",
        "tf.math.reduce_variance(tf.cast(aggregate_tensor , dtype = tf.float64)).numpy()"
      ],
      "metadata": {
        "colab": {
          "base_uri": "https://localhost:8080/"
        },
        "id": "85y-lLb-lkQs",
        "outputId": "b516a665-0cc5-4046-f270-ad6d8cef3c1a"
      },
      "execution_count": null,
      "outputs": [
        {
          "output_type": "execute_result",
          "data": {
            "text/plain": [
              "33.25"
            ]
          },
          "metadata": {},
          "execution_count": 54
        }
      ]
    },
    {
      "cell_type": "markdown",
      "source": [
        "## Find positional maximum and minimum"
      ],
      "metadata": {
        "id": "-bmOBgIElkVW"
      }
    },
    {
      "cell_type": "code",
      "source": [
        "tf.random.set_seed(42)\n",
        "pos_max_min_tensor = tf.random.uniform(shape = (1,50) , seed = 42)\n",
        "pos_max_min_tensor"
      ],
      "metadata": {
        "colab": {
          "base_uri": "https://localhost:8080/"
        },
        "id": "xBIlIum5lkaJ",
        "outputId": "feb2354e-e88e-4a2e-a99c-d71aafc913de"
      },
      "execution_count": null,
      "outputs": [
        {
          "output_type": "execute_result",
          "data": {
            "text/plain": [
              "<tf.Tensor: shape=(1, 50), dtype=float32, numpy=\n",
              "array([[0.4163028 , 0.26858163, 0.47968316, 0.36457133, 0.95471144,\n",
              "        0.9418646 , 0.61483395, 0.35842144, 0.5936024 , 0.21551096,\n",
              "        0.07745171, 0.57921314, 0.29180396, 0.26718032, 0.37012458,\n",
              "        0.7161033 , 0.45877767, 0.11764562, 0.21073711, 0.5441973 ,\n",
              "        0.9898069 , 0.38395858, 0.04683566, 0.8718462 , 0.25881708,\n",
              "        0.873135  , 0.64698434, 0.41981232, 0.24148273, 0.09550059,\n",
              "        0.9820819 , 0.1570208 , 0.2997682 , 0.36795306, 0.9453716 ,\n",
              "        0.11056781, 0.52287626, 0.8305441 , 0.0020721 , 0.9594034 ,\n",
              "        0.85630023, 0.3944497 , 0.22028875, 0.67066073, 0.01875746,\n",
              "        0.48057055, 0.5953454 , 0.6847329 , 0.18988943, 0.12489867]],\n",
              "      dtype=float32)>"
            ]
          },
          "metadata": {},
          "execution_count": 55
        }
      ]
    },
    {
      "cell_type": "code",
      "source": [
        "# maximum value position\n",
        "tf.argmax(pos_max_min_tensor , axis = 1)"
      ],
      "metadata": {
        "colab": {
          "base_uri": "https://localhost:8080/"
        },
        "id": "0rkGtVUilkfN",
        "outputId": "94d4de94-e5da-4b79-a7ca-ee05bfb25514"
      },
      "execution_count": null,
      "outputs": [
        {
          "output_type": "execute_result",
          "data": {
            "text/plain": [
              "<tf.Tensor: shape=(1,), dtype=int64, numpy=array([20])>"
            ]
          },
          "metadata": {},
          "execution_count": 56
        }
      ]
    },
    {
      "cell_type": "code",
      "source": [
        "# minimum value position\n",
        "tf.argmin(pos_max_min_tensor , axis = 1)"
      ],
      "metadata": {
        "colab": {
          "base_uri": "https://localhost:8080/"
        },
        "id": "Du9BeHHrH_Eb",
        "outputId": "3d0b932d-e159-4ac6-9779-126f1eaddd11"
      },
      "execution_count": null,
      "outputs": [
        {
          "output_type": "execute_result",
          "data": {
            "text/plain": [
              "<tf.Tensor: shape=(1,), dtype=int64, numpy=array([38])>"
            ]
          },
          "metadata": {},
          "execution_count": 57
        }
      ]
    },
    {
      "cell_type": "code",
      "source": [
        "# we could use position value to find maximum value\n",
        "pos_max_min_tensor[0 , tf.squeeze(tf.argmax(pos_max_min_tensor , axis = 1) , axis = 0)]"
      ],
      "metadata": {
        "colab": {
          "base_uri": "https://localhost:8080/"
        },
        "id": "wstZbZ-yH_J7",
        "outputId": "ee061296-320d-4ab5-d608-832a35442c64"
      },
      "execution_count": null,
      "outputs": [
        {
          "output_type": "execute_result",
          "data": {
            "text/plain": [
              "<tf.Tensor: shape=(), dtype=float32, numpy=0.9898069>"
            ]
          },
          "metadata": {},
          "execution_count": 58
        }
      ]
    },
    {
      "cell_type": "markdown",
      "source": [
        "## Squeeze dimension (reducing dimensions)"
      ],
      "metadata": {
        "id": "BbHvSUS-KCYn"
      }
    },
    {
      "cell_type": "code",
      "source": [
        "not_squeeze = tf.constant([[[ 22 , 23]]])\n",
        "not_squeeze.shape"
      ],
      "metadata": {
        "colab": {
          "base_uri": "https://localhost:8080/"
        },
        "id": "F2v4Z7OFKCXR",
        "outputId": "076c4f2c-10f3-41ba-9018-b7e42f938388"
      },
      "execution_count": null,
      "outputs": [
        {
          "output_type": "execute_result",
          "data": {
            "text/plain": [
              "TensorShape([1, 1, 2])"
            ]
          },
          "metadata": {},
          "execution_count": 59
        }
      ]
    },
    {
      "cell_type": "code",
      "source": [
        "squeeze_tensor = tf.squeeze(not_squeeze , axis = 0)\n",
        "squeeze_tensor.shape"
      ],
      "metadata": {
        "colab": {
          "base_uri": "https://localhost:8080/"
        },
        "id": "zTWg1VaHKCTg",
        "outputId": "170078a3-d328-49bd-d79c-5a4cc35ad4c8"
      },
      "execution_count": null,
      "outputs": [
        {
          "output_type": "execute_result",
          "data": {
            "text/plain": [
              "TensorShape([1, 2])"
            ]
          },
          "metadata": {},
          "execution_count": 60
        }
      ]
    },
    {
      "cell_type": "markdown",
      "source": [
        "##  some mathematical functions\n",
        "\n",
        "* logaritm\n",
        "* squaring\n",
        "* squar root"
      ],
      "metadata": {
        "id": "PpPJoN5JKCSN"
      }
    },
    {
      "cell_type": "markdown",
      "source": [
        "**Note :** at first we use `tf.range` just like range function of python"
      ],
      "metadata": {
        "id": "hL0FY81UKCPM"
      }
    },
    {
      "cell_type": "code",
      "source": [
        "math_tensor = tf.range(10)\n",
        "math_tensor"
      ],
      "metadata": {
        "colab": {
          "base_uri": "https://localhost:8080/"
        },
        "id": "HTBD7e4kKCNp",
        "outputId": "6c43d0ea-71b9-418f-d272-9af7ca926066"
      },
      "execution_count": null,
      "outputs": [
        {
          "output_type": "execute_result",
          "data": {
            "text/plain": [
              "<tf.Tensor: shape=(10,), dtype=int32, numpy=array([0, 1, 2, 3, 4, 5, 6, 7, 8, 9], dtype=int32)>"
            ]
          },
          "metadata": {},
          "execution_count": 61
        }
      ]
    },
    {
      "cell_type": "code",
      "source": [
        "# Squaring\n",
        "tf.square(math_tensor)"
      ],
      "metadata": {
        "colab": {
          "base_uri": "https://localhost:8080/"
        },
        "id": "VQEKrxPoMQs4",
        "outputId": "e3fea39f-aecf-40f0-829a-3697d6abcb2d"
      },
      "execution_count": null,
      "outputs": [
        {
          "output_type": "execute_result",
          "data": {
            "text/plain": [
              "<tf.Tensor: shape=(10,), dtype=int32, numpy=array([ 0,  1,  4,  9, 16, 25, 36, 49, 64, 81], dtype=int32)>"
            ]
          },
          "metadata": {},
          "execution_count": 62
        }
      ]
    },
    {
      "cell_type": "code",
      "source": [
        "# finding square root\n",
        "tf.sqrt(tf.cast(math_tensor , dtype = tf.float32))"
      ],
      "metadata": {
        "colab": {
          "base_uri": "https://localhost:8080/"
        },
        "id": "eG0fDhE0MQoI",
        "outputId": "8339e569-1d20-4bdd-8500-d376586ad30e"
      },
      "execution_count": null,
      "outputs": [
        {
          "output_type": "execute_result",
          "data": {
            "text/plain": [
              "<tf.Tensor: shape=(10,), dtype=float32, numpy=\n",
              "array([0.       , 1.       , 1.4142135, 1.7320508, 2.       , 2.2360678,\n",
              "       2.4494896, 2.6457512, 2.828427 , 3.       ], dtype=float32)>"
            ]
          },
          "metadata": {},
          "execution_count": 63
        }
      ]
    },
    {
      "cell_type": "code",
      "source": [
        "# logaritm\n",
        "tf.math.log(tf.cast(math_tensor , dtype = tf.float32))"
      ],
      "metadata": {
        "colab": {
          "base_uri": "https://localhost:8080/"
        },
        "id": "XR32r5BOMQm4",
        "outputId": "8b5aa38a-2cf5-4d58-df5c-b8e409de81e8"
      },
      "execution_count": null,
      "outputs": [
        {
          "output_type": "execute_result",
          "data": {
            "text/plain": [
              "<tf.Tensor: shape=(10,), dtype=float32, numpy=\n",
              "array([     -inf, 0.       , 0.6931472, 1.0986123, 1.3862944, 1.609438 ,\n",
              "       1.7917595, 1.9459102, 2.0794415, 2.1972246], dtype=float32)>"
            ]
          },
          "metadata": {},
          "execution_count": 64
        }
      ]
    },
    {
      "cell_type": "markdown",
      "source": [
        "## \\** one-hot encoding tensors \\**"
      ],
      "metadata": {
        "id": "FfdoKVqlMQkk"
      }
    },
    {
      "cell_type": "code",
      "source": [
        "some_list = [2,5,7]\n",
        "tf.one_hot(some_list , depth = 10)"
      ],
      "metadata": {
        "colab": {
          "base_uri": "https://localhost:8080/"
        },
        "id": "2mU5ENjpMQi9",
        "outputId": "2708d872-3c55-41e6-9c46-0b21085ffadf"
      },
      "execution_count": null,
      "outputs": [
        {
          "output_type": "execute_result",
          "data": {
            "text/plain": [
              "<tf.Tensor: shape=(3, 10), dtype=float32, numpy=\n",
              "array([[0., 0., 1., 0., 0., 0., 0., 0., 0., 0.],\n",
              "       [0., 0., 0., 0., 0., 1., 0., 0., 0., 0.],\n",
              "       [0., 0., 0., 0., 0., 0., 0., 1., 0., 0.]], dtype=float32)>"
            ]
          },
          "metadata": {},
          "execution_count": 65
        }
      ]
    },
    {
      "cell_type": "code",
      "source": [
        "# another way\n",
        "tf.one_hot(some_list , on_value = \"yes\" , off_value = \"No\" , depth = 9)"
      ],
      "metadata": {
        "colab": {
          "base_uri": "https://localhost:8080/"
        },
        "id": "-8MB3rShfev7",
        "outputId": "af61207d-9b77-468e-f81c-d5a84063471a"
      },
      "execution_count": null,
      "outputs": [
        {
          "output_type": "execute_result",
          "data": {
            "text/plain": [
              "<tf.Tensor: shape=(3, 9), dtype=string, numpy=\n",
              "array([[b'No', b'No', b'yes', b'No', b'No', b'No', b'No', b'No', b'No'],\n",
              "       [b'No', b'No', b'No', b'No', b'No', b'yes', b'No', b'No', b'No'],\n",
              "       [b'No', b'No', b'No', b'No', b'No', b'No', b'No', b'yes', b'No']],\n",
              "      dtype=object)>"
            ]
          },
          "metadata": {},
          "execution_count": 67
        }
      ]
    },
    {
      "cell_type": "markdown",
      "source": [
        "## finding access to GPU\n",
        "\n",
        "**Note :**\n",
        "\n",
        "bfore running below code cell we should firstly change runtime type from runtime menu to `T4 GPU`"
      ],
      "metadata": {
        "id": "kZl0K9auKlCU"
      }
    },
    {
      "cell_type": "code",
      "source": [
        "import tensorflow as tf\n",
        "tf.config.list_physical_devices(\"GPU\")"
      ],
      "metadata": {
        "colab": {
          "base_uri": "https://localhost:8080/"
        },
        "id": "U4pDrxtiM_T6",
        "outputId": "c77d2b9d-9b04-48a2-bb4b-f8ca23c94cb4"
      },
      "execution_count": null,
      "outputs": [
        {
          "output_type": "execute_result",
          "data": {
            "text/plain": [
              "[PhysicalDevice(name='/physical_device:GPU:0', device_type='GPU')]"
            ]
          },
          "metadata": {},
          "execution_count": 68
        }
      ]
    },
    {
      "cell_type": "code",
      "source": [
        "!nvidia-smi"
      ],
      "metadata": {
        "id": "AU83hlqyM_bf",
        "colab": {
          "base_uri": "https://localhost:8080/"
        },
        "outputId": "7c1bb74a-aa0d-44bd-b0d8-f482f6332093"
      },
      "execution_count": null,
      "outputs": [
        {
          "output_type": "stream",
          "name": "stdout",
          "text": [
            "Sun Aug 20 19:51:02 2023       \n",
            "+-----------------------------------------------------------------------------+\n",
            "| NVIDIA-SMI 525.105.17   Driver Version: 525.105.17   CUDA Version: 12.0     |\n",
            "|-------------------------------+----------------------+----------------------+\n",
            "| GPU  Name        Persistence-M| Bus-Id        Disp.A | Volatile Uncorr. ECC |\n",
            "| Fan  Temp  Perf  Pwr:Usage/Cap|         Memory-Usage | GPU-Util  Compute M. |\n",
            "|                               |                      |               MIG M. |\n",
            "|===============================+======================+======================|\n",
            "|   0  Tesla T4            Off  | 00000000:00:04.0 Off |                    0 |\n",
            "| N/A   48C    P0    28W /  70W |    389MiB / 15360MiB |      0%      Default |\n",
            "|                               |                      |                  N/A |\n",
            "+-------------------------------+----------------------+----------------------+\n",
            "                                                                               \n",
            "+-----------------------------------------------------------------------------+\n",
            "| Processes:                                                                  |\n",
            "|  GPU   GI   CI        PID   Type   Process name                  GPU Memory |\n",
            "|        ID   ID                                                   Usage      |\n",
            "|=============================================================================|\n",
            "+-----------------------------------------------------------------------------+\n"
          ]
        }
      ]
    }
  ]
}