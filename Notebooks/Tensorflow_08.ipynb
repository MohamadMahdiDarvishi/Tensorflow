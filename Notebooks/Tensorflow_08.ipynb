{
  "cells": [
    {
      "cell_type": "markdown",
      "metadata": {
        "id": "view-in-github",
        "colab_type": "text"
      },
      "source": [
        "<a href=\"https://colab.research.google.com/github/MohamadMahdiDarvishi/Tensorflow/blob/main/Notebooks/Tensorflow_08.ipynb\" target=\"_parent\"><img src=\"https://colab.research.google.com/assets/colab-badge.svg\" alt=\"Open In Colab\"/></a>"
      ]
    },
    {
      "cell_type": "markdown",
      "metadata": {
        "id": "YsPg_LgLwXGv"
      },
      "source": [
        "# Introduction to NLP Fundumentals in TensorFlow\n",
        "\n",
        "* `NPL` usually is referred to as driving data from their naturall language (could  be text or speech)\n",
        "\n",
        "* in other hand `NLP` is used for sequence to sequence problems"
      ]
    },
    {
      "cell_type": "markdown",
      "metadata": {
        "id": "h_PvkJ_f_JTO"
      },
      "source": [
        "## Prerequirities"
      ]
    },
    {
      "cell_type": "code",
      "execution_count": null,
      "metadata": {
        "id": "gaIahB-l-wO4"
      },
      "outputs": [],
      "source": [
        "# Imports\n",
        "import tensorflow as tf\n",
        "import matplotlib.pyplot as plt\n",
        "import numpy as np\n",
        "import pandas as pd\n",
        "import requests\n",
        "import random\n",
        "from tensorflow.keras.utils import plot_model"
      ]
    },
    {
      "cell_type": "code",
      "execution_count": null,
      "metadata": {
        "colab": {
          "base_uri": "https://localhost:8080/"
        },
        "id": "c47gTnr8_R_t",
        "outputId": "97bc91fb-110b-41fb-aae2-7cc8a954ce80"
      },
      "outputs": [
        {
          "name": "stdout",
          "output_type": "stream",
          "text": [
            "--2023-09-11 12:15:56--  https://raw.githubusercontent.com/mrdbourke/tensorflow-deep-learning/main/extras/helper_functions.py\n",
            "Resolving raw.githubusercontent.com (raw.githubusercontent.com)... 185.199.109.133, 185.199.111.133, 185.199.110.133, ...\n",
            "Connecting to raw.githubusercontent.com (raw.githubusercontent.com)|185.199.109.133|:443... connected.\n",
            "HTTP request sent, awaiting response... 200 OK\n",
            "Length: 10246 (10K) [text/plain]\n",
            "Saving to: ‘helper_functions.py.1’\n",
            "\n",
            "\rhelper_functions.py   0%[                    ]       0  --.-KB/s               \rhelper_functions.py 100%[===================>]  10.01K  --.-KB/s    in 0s      \n",
            "\n",
            "2023-09-11 12:15:56 (56.1 MB/s) - ‘helper_functions.py.1’ saved [10246/10246]\n",
            "\n"
          ]
        }
      ],
      "source": [
        "# get helper functions\n",
        "!wget https://raw.githubusercontent.com/mrdbourke/tensorflow-deep-learning/main/extras/helper_functions.py\n",
        "\n",
        "from helper_functions import compare_historys , plot_loss_curves , unzip_data , create_tensorboard_callback"
      ]
    },
    {
      "cell_type": "code",
      "execution_count": null,
      "metadata": {
        "colab": {
          "base_uri": "https://localhost:8080/"
        },
        "id": "WdsCMnOV_w6s",
        "outputId": "c6d2e772-2098-41a4-e609-798454b9b2b9"
      },
      "outputs": [
        {
          "name": "stdout",
          "output_type": "stream",
          "text": [
            "/bin/bash: line 1: nvidia-smi: command not found\n"
          ]
        }
      ],
      "source": [
        "# testing GPU\n",
        "!nvidia-smi -L"
      ]
    },
    {
      "cell_type": "markdown",
      "metadata": {
        "id": "jpc9ar5h_4t0"
      },
      "source": [
        "## Get data"
      ]
    },
    {
      "cell_type": "code",
      "execution_count": null,
      "metadata": {
        "colab": {
          "base_uri": "https://localhost:8080/"
        },
        "id": "wp1DJJHv_4yi",
        "outputId": "22f38ce0-8b62-4495-c3b8-a67b07a68559"
      },
      "outputs": [
        {
          "name": "stdout",
          "output_type": "stream",
          "text": [
            "--2023-09-11 12:15:56--  https://storage.googleapis.com/ztm_tf_course/nlp_getting_started.zip\n",
            "Resolving storage.googleapis.com (storage.googleapis.com)... 173.194.216.207, 173.194.217.207, 173.194.218.207, ...\n",
            "Connecting to storage.googleapis.com (storage.googleapis.com)|173.194.216.207|:443... connected.\n",
            "HTTP request sent, awaiting response... 200 OK\n",
            "Length: 607343 (593K) [application/zip]\n",
            "Saving to: ‘nlp_getting_started.zip.1’\n",
            "\n",
            "nlp_getting_started 100%[===================>] 593.11K  --.-KB/s    in 0.01s   \n",
            "\n",
            "2023-09-11 12:15:56 (56.7 MB/s) - ‘nlp_getting_started.zip.1’ saved [607343/607343]\n",
            "\n"
          ]
        }
      ],
      "source": [
        "# Download data\n",
        "!wget https://storage.googleapis.com/ztm_tf_course/nlp_getting_started.zip\n",
        "# unzip data\n",
        "unzip_data(\"nlp_getting_started.zip\")"
      ]
    },
    {
      "cell_type": "markdown",
      "metadata": {
        "id": "9AAGxeKQ_42s"
      },
      "source": [
        "### A glance at data set\n",
        "\n",
        "* read data using `pd.read_csv()` -> `train_df` , `test_df`\n",
        "* readig top five records using `train_df.head()`\n",
        "* shuffling record using `train_df.sample(frac=1 , random_state=42)`\n",
        "* counting targets by the classes by `train_df.target.value_counts()`\n",
        "* looking at number of train and test samples `len(train_df)` , `len(test_df)`\n",
        "* finally sampling 5 records with their details"
      ]
    },
    {
      "cell_type": "code",
      "execution_count": null,
      "metadata": {
        "id": "riRI8MBg_468"
      },
      "outputs": [],
      "source": [
        "train_df = pd.read_csv(\"train.csv\")\n",
        "test_df = pd.read_csv(\"test.csv\")"
      ]
    },
    {
      "cell_type": "code",
      "execution_count": null,
      "metadata": {
        "colab": {
          "base_uri": "https://localhost:8080/",
          "height": 206
        },
        "id": "ZOfmh0sU_4_N",
        "outputId": "4e5fc1ad-30c5-47bd-be7b-b4a65ccb8763"
      },
      "outputs": [
        {
          "data": {
            "text/html": [
              "\n",
              "  <div id=\"df-439e078e-8b50-4e45-83c1-6ce2183f4739\" class=\"colab-df-container\">\n",
              "    <div>\n",
              "<style scoped>\n",
              "    .dataframe tbody tr th:only-of-type {\n",
              "        vertical-align: middle;\n",
              "    }\n",
              "\n",
              "    .dataframe tbody tr th {\n",
              "        vertical-align: top;\n",
              "    }\n",
              "\n",
              "    .dataframe thead th {\n",
              "        text-align: right;\n",
              "    }\n",
              "</style>\n",
              "<table border=\"1\" class=\"dataframe\">\n",
              "  <thead>\n",
              "    <tr style=\"text-align: right;\">\n",
              "      <th></th>\n",
              "      <th>id</th>\n",
              "      <th>keyword</th>\n",
              "      <th>location</th>\n",
              "      <th>text</th>\n",
              "      <th>target</th>\n",
              "    </tr>\n",
              "  </thead>\n",
              "  <tbody>\n",
              "    <tr>\n",
              "      <th>0</th>\n",
              "      <td>1</td>\n",
              "      <td>NaN</td>\n",
              "      <td>NaN</td>\n",
              "      <td>Our Deeds are the Reason of this #earthquake M...</td>\n",
              "      <td>1</td>\n",
              "    </tr>\n",
              "    <tr>\n",
              "      <th>1</th>\n",
              "      <td>4</td>\n",
              "      <td>NaN</td>\n",
              "      <td>NaN</td>\n",
              "      <td>Forest fire near La Ronge Sask. Canada</td>\n",
              "      <td>1</td>\n",
              "    </tr>\n",
              "    <tr>\n",
              "      <th>2</th>\n",
              "      <td>5</td>\n",
              "      <td>NaN</td>\n",
              "      <td>NaN</td>\n",
              "      <td>All residents asked to 'shelter in place' are ...</td>\n",
              "      <td>1</td>\n",
              "    </tr>\n",
              "    <tr>\n",
              "      <th>3</th>\n",
              "      <td>6</td>\n",
              "      <td>NaN</td>\n",
              "      <td>NaN</td>\n",
              "      <td>13,000 people receive #wildfires evacuation or...</td>\n",
              "      <td>1</td>\n",
              "    </tr>\n",
              "    <tr>\n",
              "      <th>4</th>\n",
              "      <td>7</td>\n",
              "      <td>NaN</td>\n",
              "      <td>NaN</td>\n",
              "      <td>Just got sent this photo from Ruby #Alaska as ...</td>\n",
              "      <td>1</td>\n",
              "    </tr>\n",
              "  </tbody>\n",
              "</table>\n",
              "</div>\n",
              "    <div class=\"colab-df-buttons\">\n",
              "\n",
              "  <div class=\"colab-df-container\">\n",
              "    <button class=\"colab-df-convert\" onclick=\"convertToInteractive('df-439e078e-8b50-4e45-83c1-6ce2183f4739')\"\n",
              "            title=\"Convert this dataframe to an interactive table.\"\n",
              "            style=\"display:none;\">\n",
              "\n",
              "  <svg xmlns=\"http://www.w3.org/2000/svg\" height=\"24px\" viewBox=\"0 -960 960 960\">\n",
              "    <path d=\"M120-120v-720h720v720H120Zm60-500h600v-160H180v160Zm220 220h160v-160H400v160Zm0 220h160v-160H400v160ZM180-400h160v-160H180v160Zm440 0h160v-160H620v160ZM180-180h160v-160H180v160Zm440 0h160v-160H620v160Z\"/>\n",
              "  </svg>\n",
              "    </button>\n",
              "\n",
              "  <style>\n",
              "    .colab-df-container {\n",
              "      display:flex;\n",
              "      gap: 12px;\n",
              "    }\n",
              "\n",
              "    .colab-df-convert {\n",
              "      background-color: #E8F0FE;\n",
              "      border: none;\n",
              "      border-radius: 50%;\n",
              "      cursor: pointer;\n",
              "      display: none;\n",
              "      fill: #1967D2;\n",
              "      height: 32px;\n",
              "      padding: 0 0 0 0;\n",
              "      width: 32px;\n",
              "    }\n",
              "\n",
              "    .colab-df-convert:hover {\n",
              "      background-color: #E2EBFA;\n",
              "      box-shadow: 0px 1px 2px rgba(60, 64, 67, 0.3), 0px 1px 3px 1px rgba(60, 64, 67, 0.15);\n",
              "      fill: #174EA6;\n",
              "    }\n",
              "\n",
              "    .colab-df-buttons div {\n",
              "      margin-bottom: 4px;\n",
              "    }\n",
              "\n",
              "    [theme=dark] .colab-df-convert {\n",
              "      background-color: #3B4455;\n",
              "      fill: #D2E3FC;\n",
              "    }\n",
              "\n",
              "    [theme=dark] .colab-df-convert:hover {\n",
              "      background-color: #434B5C;\n",
              "      box-shadow: 0px 1px 3px 1px rgba(0, 0, 0, 0.15);\n",
              "      filter: drop-shadow(0px 1px 2px rgba(0, 0, 0, 0.3));\n",
              "      fill: #FFFFFF;\n",
              "    }\n",
              "  </style>\n",
              "\n",
              "    <script>\n",
              "      const buttonEl =\n",
              "        document.querySelector('#df-439e078e-8b50-4e45-83c1-6ce2183f4739 button.colab-df-convert');\n",
              "      buttonEl.style.display =\n",
              "        google.colab.kernel.accessAllowed ? 'block' : 'none';\n",
              "\n",
              "      async function convertToInteractive(key) {\n",
              "        const element = document.querySelector('#df-439e078e-8b50-4e45-83c1-6ce2183f4739');\n",
              "        const dataTable =\n",
              "          await google.colab.kernel.invokeFunction('convertToInteractive',\n",
              "                                                    [key], {});\n",
              "        if (!dataTable) return;\n",
              "\n",
              "        const docLinkHtml = 'Like what you see? Visit the ' +\n",
              "          '<a target=\"_blank\" href=https://colab.research.google.com/notebooks/data_table.ipynb>data table notebook</a>'\n",
              "          + ' to learn more about interactive tables.';\n",
              "        element.innerHTML = '';\n",
              "        dataTable['output_type'] = 'display_data';\n",
              "        await google.colab.output.renderOutput(dataTable, element);\n",
              "        const docLink = document.createElement('div');\n",
              "        docLink.innerHTML = docLinkHtml;\n",
              "        element.appendChild(docLink);\n",
              "      }\n",
              "    </script>\n",
              "  </div>\n",
              "\n",
              "\n",
              "<div id=\"df-b8c431b0-b3c4-41dd-84e8-6f33743c78d4\">\n",
              "  <button class=\"colab-df-quickchart\" onclick=\"quickchart('df-b8c431b0-b3c4-41dd-84e8-6f33743c78d4')\"\n",
              "            title=\"Suggest charts.\"\n",
              "            style=\"display:none;\">\n",
              "\n",
              "<svg xmlns=\"http://www.w3.org/2000/svg\" height=\"24px\"viewBox=\"0 0 24 24\"\n",
              "     width=\"24px\">\n",
              "    <g>\n",
              "        <path d=\"M19 3H5c-1.1 0-2 .9-2 2v14c0 1.1.9 2 2 2h14c1.1 0 2-.9 2-2V5c0-1.1-.9-2-2-2zM9 17H7v-7h2v7zm4 0h-2V7h2v10zm4 0h-2v-4h2v4z\"/>\n",
              "    </g>\n",
              "</svg>\n",
              "  </button>\n",
              "\n",
              "<style>\n",
              "  .colab-df-quickchart {\n",
              "      --bg-color: #E8F0FE;\n",
              "      --fill-color: #1967D2;\n",
              "      --hover-bg-color: #E2EBFA;\n",
              "      --hover-fill-color: #174EA6;\n",
              "      --disabled-fill-color: #AAA;\n",
              "      --disabled-bg-color: #DDD;\n",
              "  }\n",
              "\n",
              "  [theme=dark] .colab-df-quickchart {\n",
              "      --bg-color: #3B4455;\n",
              "      --fill-color: #D2E3FC;\n",
              "      --hover-bg-color: #434B5C;\n",
              "      --hover-fill-color: #FFFFFF;\n",
              "      --disabled-bg-color: #3B4455;\n",
              "      --disabled-fill-color: #666;\n",
              "  }\n",
              "\n",
              "  .colab-df-quickchart {\n",
              "    background-color: var(--bg-color);\n",
              "    border: none;\n",
              "    border-radius: 50%;\n",
              "    cursor: pointer;\n",
              "    display: none;\n",
              "    fill: var(--fill-color);\n",
              "    height: 32px;\n",
              "    padding: 0;\n",
              "    width: 32px;\n",
              "  }\n",
              "\n",
              "  .colab-df-quickchart:hover {\n",
              "    background-color: var(--hover-bg-color);\n",
              "    box-shadow: 0 1px 2px rgba(60, 64, 67, 0.3), 0 1px 3px 1px rgba(60, 64, 67, 0.15);\n",
              "    fill: var(--button-hover-fill-color);\n",
              "  }\n",
              "\n",
              "  .colab-df-quickchart-complete:disabled,\n",
              "  .colab-df-quickchart-complete:disabled:hover {\n",
              "    background-color: var(--disabled-bg-color);\n",
              "    fill: var(--disabled-fill-color);\n",
              "    box-shadow: none;\n",
              "  }\n",
              "\n",
              "  .colab-df-spinner {\n",
              "    border: 2px solid var(--fill-color);\n",
              "    border-color: transparent;\n",
              "    border-bottom-color: var(--fill-color);\n",
              "    animation:\n",
              "      spin 1s steps(1) infinite;\n",
              "  }\n",
              "\n",
              "  @keyframes spin {\n",
              "    0% {\n",
              "      border-color: transparent;\n",
              "      border-bottom-color: var(--fill-color);\n",
              "      border-left-color: var(--fill-color);\n",
              "    }\n",
              "    20% {\n",
              "      border-color: transparent;\n",
              "      border-left-color: var(--fill-color);\n",
              "      border-top-color: var(--fill-color);\n",
              "    }\n",
              "    30% {\n",
              "      border-color: transparent;\n",
              "      border-left-color: var(--fill-color);\n",
              "      border-top-color: var(--fill-color);\n",
              "      border-right-color: var(--fill-color);\n",
              "    }\n",
              "    40% {\n",
              "      border-color: transparent;\n",
              "      border-right-color: var(--fill-color);\n",
              "      border-top-color: var(--fill-color);\n",
              "    }\n",
              "    60% {\n",
              "      border-color: transparent;\n",
              "      border-right-color: var(--fill-color);\n",
              "    }\n",
              "    80% {\n",
              "      border-color: transparent;\n",
              "      border-right-color: var(--fill-color);\n",
              "      border-bottom-color: var(--fill-color);\n",
              "    }\n",
              "    90% {\n",
              "      border-color: transparent;\n",
              "      border-bottom-color: var(--fill-color);\n",
              "    }\n",
              "  }\n",
              "</style>\n",
              "\n",
              "  <script>\n",
              "    async function quickchart(key) {\n",
              "      const quickchartButtonEl =\n",
              "        document.querySelector('#' + key + ' button');\n",
              "      quickchartButtonEl.disabled = true;  // To prevent multiple clicks.\n",
              "      quickchartButtonEl.classList.add('colab-df-spinner');\n",
              "      try {\n",
              "        const charts = await google.colab.kernel.invokeFunction(\n",
              "            'suggestCharts', [key], {});\n",
              "      } catch (error) {\n",
              "        console.error('Error during call to suggestCharts:', error);\n",
              "      }\n",
              "      quickchartButtonEl.classList.remove('colab-df-spinner');\n",
              "      quickchartButtonEl.classList.add('colab-df-quickchart-complete');\n",
              "    }\n",
              "    (() => {\n",
              "      let quickchartButtonEl =\n",
              "        document.querySelector('#df-b8c431b0-b3c4-41dd-84e8-6f33743c78d4 button');\n",
              "      quickchartButtonEl.style.display =\n",
              "        google.colab.kernel.accessAllowed ? 'block' : 'none';\n",
              "    })();\n",
              "  </script>\n",
              "</div>\n",
              "    </div>\n",
              "  </div>\n"
            ],
            "text/plain": [
              "   id keyword location                                               text  \\\n",
              "0   1     NaN      NaN  Our Deeds are the Reason of this #earthquake M...   \n",
              "1   4     NaN      NaN             Forest fire near La Ronge Sask. Canada   \n",
              "2   5     NaN      NaN  All residents asked to 'shelter in place' are ...   \n",
              "3   6     NaN      NaN  13,000 people receive #wildfires evacuation or...   \n",
              "4   7     NaN      NaN  Just got sent this photo from Ruby #Alaska as ...   \n",
              "\n",
              "   target  \n",
              "0       1  \n",
              "1       1  \n",
              "2       1  \n",
              "3       1  \n",
              "4       1  "
            ]
          },
          "execution_count": 54,
          "metadata": {},
          "output_type": "execute_result"
        }
      ],
      "source": [
        "# head method in pandas returns the first 5 records of data\n",
        "train_df.head()"
      ]
    },
    {
      "cell_type": "markdown",
      "metadata": {
        "id": "kdmh_ITcLY5U"
      },
      "source": [
        "❗ **Note**\n",
        "\n",
        "test data doesn't have target lables"
      ]
    },
    {
      "cell_type": "code",
      "execution_count": null,
      "metadata": {
        "colab": {
          "base_uri": "https://localhost:8080/",
          "height": 206
        },
        "id": "1BuCeUFDLTmA",
        "outputId": "30a357ce-b2be-4dff-9f46-e60c5f48409f"
      },
      "outputs": [
        {
          "data": {
            "text/html": [
              "\n",
              "  <div id=\"df-c828596c-35cb-44d7-81d6-e8ab1225b0a9\" class=\"colab-df-container\">\n",
              "    <div>\n",
              "<style scoped>\n",
              "    .dataframe tbody tr th:only-of-type {\n",
              "        vertical-align: middle;\n",
              "    }\n",
              "\n",
              "    .dataframe tbody tr th {\n",
              "        vertical-align: top;\n",
              "    }\n",
              "\n",
              "    .dataframe thead th {\n",
              "        text-align: right;\n",
              "    }\n",
              "</style>\n",
              "<table border=\"1\" class=\"dataframe\">\n",
              "  <thead>\n",
              "    <tr style=\"text-align: right;\">\n",
              "      <th></th>\n",
              "      <th>id</th>\n",
              "      <th>keyword</th>\n",
              "      <th>location</th>\n",
              "      <th>text</th>\n",
              "    </tr>\n",
              "  </thead>\n",
              "  <tbody>\n",
              "    <tr>\n",
              "      <th>0</th>\n",
              "      <td>0</td>\n",
              "      <td>NaN</td>\n",
              "      <td>NaN</td>\n",
              "      <td>Just happened a terrible car crash</td>\n",
              "    </tr>\n",
              "    <tr>\n",
              "      <th>1</th>\n",
              "      <td>2</td>\n",
              "      <td>NaN</td>\n",
              "      <td>NaN</td>\n",
              "      <td>Heard about #earthquake is different cities, s...</td>\n",
              "    </tr>\n",
              "    <tr>\n",
              "      <th>2</th>\n",
              "      <td>3</td>\n",
              "      <td>NaN</td>\n",
              "      <td>NaN</td>\n",
              "      <td>there is a forest fire at spot pond, geese are...</td>\n",
              "    </tr>\n",
              "    <tr>\n",
              "      <th>3</th>\n",
              "      <td>9</td>\n",
              "      <td>NaN</td>\n",
              "      <td>NaN</td>\n",
              "      <td>Apocalypse lighting. #Spokane #wildfires</td>\n",
              "    </tr>\n",
              "    <tr>\n",
              "      <th>4</th>\n",
              "      <td>11</td>\n",
              "      <td>NaN</td>\n",
              "      <td>NaN</td>\n",
              "      <td>Typhoon Soudelor kills 28 in China and Taiwan</td>\n",
              "    </tr>\n",
              "  </tbody>\n",
              "</table>\n",
              "</div>\n",
              "    <div class=\"colab-df-buttons\">\n",
              "\n",
              "  <div class=\"colab-df-container\">\n",
              "    <button class=\"colab-df-convert\" onclick=\"convertToInteractive('df-c828596c-35cb-44d7-81d6-e8ab1225b0a9')\"\n",
              "            title=\"Convert this dataframe to an interactive table.\"\n",
              "            style=\"display:none;\">\n",
              "\n",
              "  <svg xmlns=\"http://www.w3.org/2000/svg\" height=\"24px\" viewBox=\"0 -960 960 960\">\n",
              "    <path d=\"M120-120v-720h720v720H120Zm60-500h600v-160H180v160Zm220 220h160v-160H400v160Zm0 220h160v-160H400v160ZM180-400h160v-160H180v160Zm440 0h160v-160H620v160ZM180-180h160v-160H180v160Zm440 0h160v-160H620v160Z\"/>\n",
              "  </svg>\n",
              "    </button>\n",
              "\n",
              "  <style>\n",
              "    .colab-df-container {\n",
              "      display:flex;\n",
              "      gap: 12px;\n",
              "    }\n",
              "\n",
              "    .colab-df-convert {\n",
              "      background-color: #E8F0FE;\n",
              "      border: none;\n",
              "      border-radius: 50%;\n",
              "      cursor: pointer;\n",
              "      display: none;\n",
              "      fill: #1967D2;\n",
              "      height: 32px;\n",
              "      padding: 0 0 0 0;\n",
              "      width: 32px;\n",
              "    }\n",
              "\n",
              "    .colab-df-convert:hover {\n",
              "      background-color: #E2EBFA;\n",
              "      box-shadow: 0px 1px 2px rgba(60, 64, 67, 0.3), 0px 1px 3px 1px rgba(60, 64, 67, 0.15);\n",
              "      fill: #174EA6;\n",
              "    }\n",
              "\n",
              "    .colab-df-buttons div {\n",
              "      margin-bottom: 4px;\n",
              "    }\n",
              "\n",
              "    [theme=dark] .colab-df-convert {\n",
              "      background-color: #3B4455;\n",
              "      fill: #D2E3FC;\n",
              "    }\n",
              "\n",
              "    [theme=dark] .colab-df-convert:hover {\n",
              "      background-color: #434B5C;\n",
              "      box-shadow: 0px 1px 3px 1px rgba(0, 0, 0, 0.15);\n",
              "      filter: drop-shadow(0px 1px 2px rgba(0, 0, 0, 0.3));\n",
              "      fill: #FFFFFF;\n",
              "    }\n",
              "  </style>\n",
              "\n",
              "    <script>\n",
              "      const buttonEl =\n",
              "        document.querySelector('#df-c828596c-35cb-44d7-81d6-e8ab1225b0a9 button.colab-df-convert');\n",
              "      buttonEl.style.display =\n",
              "        google.colab.kernel.accessAllowed ? 'block' : 'none';\n",
              "\n",
              "      async function convertToInteractive(key) {\n",
              "        const element = document.querySelector('#df-c828596c-35cb-44d7-81d6-e8ab1225b0a9');\n",
              "        const dataTable =\n",
              "          await google.colab.kernel.invokeFunction('convertToInteractive',\n",
              "                                                    [key], {});\n",
              "        if (!dataTable) return;\n",
              "\n",
              "        const docLinkHtml = 'Like what you see? Visit the ' +\n",
              "          '<a target=\"_blank\" href=https://colab.research.google.com/notebooks/data_table.ipynb>data table notebook</a>'\n",
              "          + ' to learn more about interactive tables.';\n",
              "        element.innerHTML = '';\n",
              "        dataTable['output_type'] = 'display_data';\n",
              "        await google.colab.output.renderOutput(dataTable, element);\n",
              "        const docLink = document.createElement('div');\n",
              "        docLink.innerHTML = docLinkHtml;\n",
              "        element.appendChild(docLink);\n",
              "      }\n",
              "    </script>\n",
              "  </div>\n",
              "\n",
              "\n",
              "<div id=\"df-774ecb14-a685-43da-8fdb-c8bd29c53200\">\n",
              "  <button class=\"colab-df-quickchart\" onclick=\"quickchart('df-774ecb14-a685-43da-8fdb-c8bd29c53200')\"\n",
              "            title=\"Suggest charts.\"\n",
              "            style=\"display:none;\">\n",
              "\n",
              "<svg xmlns=\"http://www.w3.org/2000/svg\" height=\"24px\"viewBox=\"0 0 24 24\"\n",
              "     width=\"24px\">\n",
              "    <g>\n",
              "        <path d=\"M19 3H5c-1.1 0-2 .9-2 2v14c0 1.1.9 2 2 2h14c1.1 0 2-.9 2-2V5c0-1.1-.9-2-2-2zM9 17H7v-7h2v7zm4 0h-2V7h2v10zm4 0h-2v-4h2v4z\"/>\n",
              "    </g>\n",
              "</svg>\n",
              "  </button>\n",
              "\n",
              "<style>\n",
              "  .colab-df-quickchart {\n",
              "      --bg-color: #E8F0FE;\n",
              "      --fill-color: #1967D2;\n",
              "      --hover-bg-color: #E2EBFA;\n",
              "      --hover-fill-color: #174EA6;\n",
              "      --disabled-fill-color: #AAA;\n",
              "      --disabled-bg-color: #DDD;\n",
              "  }\n",
              "\n",
              "  [theme=dark] .colab-df-quickchart {\n",
              "      --bg-color: #3B4455;\n",
              "      --fill-color: #D2E3FC;\n",
              "      --hover-bg-color: #434B5C;\n",
              "      --hover-fill-color: #FFFFFF;\n",
              "      --disabled-bg-color: #3B4455;\n",
              "      --disabled-fill-color: #666;\n",
              "  }\n",
              "\n",
              "  .colab-df-quickchart {\n",
              "    background-color: var(--bg-color);\n",
              "    border: none;\n",
              "    border-radius: 50%;\n",
              "    cursor: pointer;\n",
              "    display: none;\n",
              "    fill: var(--fill-color);\n",
              "    height: 32px;\n",
              "    padding: 0;\n",
              "    width: 32px;\n",
              "  }\n",
              "\n",
              "  .colab-df-quickchart:hover {\n",
              "    background-color: var(--hover-bg-color);\n",
              "    box-shadow: 0 1px 2px rgba(60, 64, 67, 0.3), 0 1px 3px 1px rgba(60, 64, 67, 0.15);\n",
              "    fill: var(--button-hover-fill-color);\n",
              "  }\n",
              "\n",
              "  .colab-df-quickchart-complete:disabled,\n",
              "  .colab-df-quickchart-complete:disabled:hover {\n",
              "    background-color: var(--disabled-bg-color);\n",
              "    fill: var(--disabled-fill-color);\n",
              "    box-shadow: none;\n",
              "  }\n",
              "\n",
              "  .colab-df-spinner {\n",
              "    border: 2px solid var(--fill-color);\n",
              "    border-color: transparent;\n",
              "    border-bottom-color: var(--fill-color);\n",
              "    animation:\n",
              "      spin 1s steps(1) infinite;\n",
              "  }\n",
              "\n",
              "  @keyframes spin {\n",
              "    0% {\n",
              "      border-color: transparent;\n",
              "      border-bottom-color: var(--fill-color);\n",
              "      border-left-color: var(--fill-color);\n",
              "    }\n",
              "    20% {\n",
              "      border-color: transparent;\n",
              "      border-left-color: var(--fill-color);\n",
              "      border-top-color: var(--fill-color);\n",
              "    }\n",
              "    30% {\n",
              "      border-color: transparent;\n",
              "      border-left-color: var(--fill-color);\n",
              "      border-top-color: var(--fill-color);\n",
              "      border-right-color: var(--fill-color);\n",
              "    }\n",
              "    40% {\n",
              "      border-color: transparent;\n",
              "      border-right-color: var(--fill-color);\n",
              "      border-top-color: var(--fill-color);\n",
              "    }\n",
              "    60% {\n",
              "      border-color: transparent;\n",
              "      border-right-color: var(--fill-color);\n",
              "    }\n",
              "    80% {\n",
              "      border-color: transparent;\n",
              "      border-right-color: var(--fill-color);\n",
              "      border-bottom-color: var(--fill-color);\n",
              "    }\n",
              "    90% {\n",
              "      border-color: transparent;\n",
              "      border-bottom-color: var(--fill-color);\n",
              "    }\n",
              "  }\n",
              "</style>\n",
              "\n",
              "  <script>\n",
              "    async function quickchart(key) {\n",
              "      const quickchartButtonEl =\n",
              "        document.querySelector('#' + key + ' button');\n",
              "      quickchartButtonEl.disabled = true;  // To prevent multiple clicks.\n",
              "      quickchartButtonEl.classList.add('colab-df-spinner');\n",
              "      try {\n",
              "        const charts = await google.colab.kernel.invokeFunction(\n",
              "            'suggestCharts', [key], {});\n",
              "      } catch (error) {\n",
              "        console.error('Error during call to suggestCharts:', error);\n",
              "      }\n",
              "      quickchartButtonEl.classList.remove('colab-df-spinner');\n",
              "      quickchartButtonEl.classList.add('colab-df-quickchart-complete');\n",
              "    }\n",
              "    (() => {\n",
              "      let quickchartButtonEl =\n",
              "        document.querySelector('#df-774ecb14-a685-43da-8fdb-c8bd29c53200 button');\n",
              "      quickchartButtonEl.style.display =\n",
              "        google.colab.kernel.accessAllowed ? 'block' : 'none';\n",
              "    })();\n",
              "  </script>\n",
              "</div>\n",
              "    </div>\n",
              "  </div>\n"
            ],
            "text/plain": [
              "   id keyword location                                               text\n",
              "0   0     NaN      NaN                 Just happened a terrible car crash\n",
              "1   2     NaN      NaN  Heard about #earthquake is different cities, s...\n",
              "2   3     NaN      NaN  there is a forest fire at spot pond, geese are...\n",
              "3   9     NaN      NaN           Apocalypse lighting. #Spokane #wildfires\n",
              "4  11     NaN      NaN      Typhoon Soudelor kills 28 in China and Taiwan"
            ]
          },
          "execution_count": 55,
          "metadata": {},
          "output_type": "execute_result"
        }
      ],
      "source": [
        "# looking test data\n",
        "test_df.head()"
      ]
    },
    {
      "cell_type": "code",
      "execution_count": null,
      "metadata": {
        "colab": {
          "base_uri": "https://localhost:8080/",
          "height": 206
        },
        "id": "QN7hoBwU_5C6",
        "outputId": "919060ed-5b64-4061-c0d8-06f80a2f80f1"
      },
      "outputs": [
        {
          "data": {
            "text/html": [
              "\n",
              "  <div id=\"df-5034924c-4a21-41b1-9449-7b58e5817ceb\" class=\"colab-df-container\">\n",
              "    <div>\n",
              "<style scoped>\n",
              "    .dataframe tbody tr th:only-of-type {\n",
              "        vertical-align: middle;\n",
              "    }\n",
              "\n",
              "    .dataframe tbody tr th {\n",
              "        vertical-align: top;\n",
              "    }\n",
              "\n",
              "    .dataframe thead th {\n",
              "        text-align: right;\n",
              "    }\n",
              "</style>\n",
              "<table border=\"1\" class=\"dataframe\">\n",
              "  <thead>\n",
              "    <tr style=\"text-align: right;\">\n",
              "      <th></th>\n",
              "      <th>id</th>\n",
              "      <th>keyword</th>\n",
              "      <th>location</th>\n",
              "      <th>text</th>\n",
              "      <th>target</th>\n",
              "    </tr>\n",
              "  </thead>\n",
              "  <tbody>\n",
              "    <tr>\n",
              "      <th>2644</th>\n",
              "      <td>3796</td>\n",
              "      <td>destruction</td>\n",
              "      <td>NaN</td>\n",
              "      <td>So you have a new weapon that can cause un-ima...</td>\n",
              "      <td>1</td>\n",
              "    </tr>\n",
              "    <tr>\n",
              "      <th>2227</th>\n",
              "      <td>3185</td>\n",
              "      <td>deluge</td>\n",
              "      <td>NaN</td>\n",
              "      <td>The f$&amp;amp;@ing things I do for #GISHWHES Just...</td>\n",
              "      <td>0</td>\n",
              "    </tr>\n",
              "    <tr>\n",
              "      <th>5448</th>\n",
              "      <td>7769</td>\n",
              "      <td>police</td>\n",
              "      <td>UK</td>\n",
              "      <td>DT @georgegalloway: RT @Galloway4Mayor: ÛÏThe...</td>\n",
              "      <td>1</td>\n",
              "    </tr>\n",
              "    <tr>\n",
              "      <th>132</th>\n",
              "      <td>191</td>\n",
              "      <td>aftershock</td>\n",
              "      <td>NaN</td>\n",
              "      <td>Aftershock back to school kick off was great. ...</td>\n",
              "      <td>0</td>\n",
              "    </tr>\n",
              "    <tr>\n",
              "      <th>6845</th>\n",
              "      <td>9810</td>\n",
              "      <td>trauma</td>\n",
              "      <td>Montgomery County, MD</td>\n",
              "      <td>in response to trauma Children of Addicts deve...</td>\n",
              "      <td>0</td>\n",
              "    </tr>\n",
              "  </tbody>\n",
              "</table>\n",
              "</div>\n",
              "    <div class=\"colab-df-buttons\">\n",
              "\n",
              "  <div class=\"colab-df-container\">\n",
              "    <button class=\"colab-df-convert\" onclick=\"convertToInteractive('df-5034924c-4a21-41b1-9449-7b58e5817ceb')\"\n",
              "            title=\"Convert this dataframe to an interactive table.\"\n",
              "            style=\"display:none;\">\n",
              "\n",
              "  <svg xmlns=\"http://www.w3.org/2000/svg\" height=\"24px\" viewBox=\"0 -960 960 960\">\n",
              "    <path d=\"M120-120v-720h720v720H120Zm60-500h600v-160H180v160Zm220 220h160v-160H400v160Zm0 220h160v-160H400v160ZM180-400h160v-160H180v160Zm440 0h160v-160H620v160ZM180-180h160v-160H180v160Zm440 0h160v-160H620v160Z\"/>\n",
              "  </svg>\n",
              "    </button>\n",
              "\n",
              "  <style>\n",
              "    .colab-df-container {\n",
              "      display:flex;\n",
              "      gap: 12px;\n",
              "    }\n",
              "\n",
              "    .colab-df-convert {\n",
              "      background-color: #E8F0FE;\n",
              "      border: none;\n",
              "      border-radius: 50%;\n",
              "      cursor: pointer;\n",
              "      display: none;\n",
              "      fill: #1967D2;\n",
              "      height: 32px;\n",
              "      padding: 0 0 0 0;\n",
              "      width: 32px;\n",
              "    }\n",
              "\n",
              "    .colab-df-convert:hover {\n",
              "      background-color: #E2EBFA;\n",
              "      box-shadow: 0px 1px 2px rgba(60, 64, 67, 0.3), 0px 1px 3px 1px rgba(60, 64, 67, 0.15);\n",
              "      fill: #174EA6;\n",
              "    }\n",
              "\n",
              "    .colab-df-buttons div {\n",
              "      margin-bottom: 4px;\n",
              "    }\n",
              "\n",
              "    [theme=dark] .colab-df-convert {\n",
              "      background-color: #3B4455;\n",
              "      fill: #D2E3FC;\n",
              "    }\n",
              "\n",
              "    [theme=dark] .colab-df-convert:hover {\n",
              "      background-color: #434B5C;\n",
              "      box-shadow: 0px 1px 3px 1px rgba(0, 0, 0, 0.15);\n",
              "      filter: drop-shadow(0px 1px 2px rgba(0, 0, 0, 0.3));\n",
              "      fill: #FFFFFF;\n",
              "    }\n",
              "  </style>\n",
              "\n",
              "    <script>\n",
              "      const buttonEl =\n",
              "        document.querySelector('#df-5034924c-4a21-41b1-9449-7b58e5817ceb button.colab-df-convert');\n",
              "      buttonEl.style.display =\n",
              "        google.colab.kernel.accessAllowed ? 'block' : 'none';\n",
              "\n",
              "      async function convertToInteractive(key) {\n",
              "        const element = document.querySelector('#df-5034924c-4a21-41b1-9449-7b58e5817ceb');\n",
              "        const dataTable =\n",
              "          await google.colab.kernel.invokeFunction('convertToInteractive',\n",
              "                                                    [key], {});\n",
              "        if (!dataTable) return;\n",
              "\n",
              "        const docLinkHtml = 'Like what you see? Visit the ' +\n",
              "          '<a target=\"_blank\" href=https://colab.research.google.com/notebooks/data_table.ipynb>data table notebook</a>'\n",
              "          + ' to learn more about interactive tables.';\n",
              "        element.innerHTML = '';\n",
              "        dataTable['output_type'] = 'display_data';\n",
              "        await google.colab.output.renderOutput(dataTable, element);\n",
              "        const docLink = document.createElement('div');\n",
              "        docLink.innerHTML = docLinkHtml;\n",
              "        element.appendChild(docLink);\n",
              "      }\n",
              "    </script>\n",
              "  </div>\n",
              "\n",
              "\n",
              "<div id=\"df-a698a26c-aeff-4b5f-8081-79148a46a45f\">\n",
              "  <button class=\"colab-df-quickchart\" onclick=\"quickchart('df-a698a26c-aeff-4b5f-8081-79148a46a45f')\"\n",
              "            title=\"Suggest charts.\"\n",
              "            style=\"display:none;\">\n",
              "\n",
              "<svg xmlns=\"http://www.w3.org/2000/svg\" height=\"24px\"viewBox=\"0 0 24 24\"\n",
              "     width=\"24px\">\n",
              "    <g>\n",
              "        <path d=\"M19 3H5c-1.1 0-2 .9-2 2v14c0 1.1.9 2 2 2h14c1.1 0 2-.9 2-2V5c0-1.1-.9-2-2-2zM9 17H7v-7h2v7zm4 0h-2V7h2v10zm4 0h-2v-4h2v4z\"/>\n",
              "    </g>\n",
              "</svg>\n",
              "  </button>\n",
              "\n",
              "<style>\n",
              "  .colab-df-quickchart {\n",
              "      --bg-color: #E8F0FE;\n",
              "      --fill-color: #1967D2;\n",
              "      --hover-bg-color: #E2EBFA;\n",
              "      --hover-fill-color: #174EA6;\n",
              "      --disabled-fill-color: #AAA;\n",
              "      --disabled-bg-color: #DDD;\n",
              "  }\n",
              "\n",
              "  [theme=dark] .colab-df-quickchart {\n",
              "      --bg-color: #3B4455;\n",
              "      --fill-color: #D2E3FC;\n",
              "      --hover-bg-color: #434B5C;\n",
              "      --hover-fill-color: #FFFFFF;\n",
              "      --disabled-bg-color: #3B4455;\n",
              "      --disabled-fill-color: #666;\n",
              "  }\n",
              "\n",
              "  .colab-df-quickchart {\n",
              "    background-color: var(--bg-color);\n",
              "    border: none;\n",
              "    border-radius: 50%;\n",
              "    cursor: pointer;\n",
              "    display: none;\n",
              "    fill: var(--fill-color);\n",
              "    height: 32px;\n",
              "    padding: 0;\n",
              "    width: 32px;\n",
              "  }\n",
              "\n",
              "  .colab-df-quickchart:hover {\n",
              "    background-color: var(--hover-bg-color);\n",
              "    box-shadow: 0 1px 2px rgba(60, 64, 67, 0.3), 0 1px 3px 1px rgba(60, 64, 67, 0.15);\n",
              "    fill: var(--button-hover-fill-color);\n",
              "  }\n",
              "\n",
              "  .colab-df-quickchart-complete:disabled,\n",
              "  .colab-df-quickchart-complete:disabled:hover {\n",
              "    background-color: var(--disabled-bg-color);\n",
              "    fill: var(--disabled-fill-color);\n",
              "    box-shadow: none;\n",
              "  }\n",
              "\n",
              "  .colab-df-spinner {\n",
              "    border: 2px solid var(--fill-color);\n",
              "    border-color: transparent;\n",
              "    border-bottom-color: var(--fill-color);\n",
              "    animation:\n",
              "      spin 1s steps(1) infinite;\n",
              "  }\n",
              "\n",
              "  @keyframes spin {\n",
              "    0% {\n",
              "      border-color: transparent;\n",
              "      border-bottom-color: var(--fill-color);\n",
              "      border-left-color: var(--fill-color);\n",
              "    }\n",
              "    20% {\n",
              "      border-color: transparent;\n",
              "      border-left-color: var(--fill-color);\n",
              "      border-top-color: var(--fill-color);\n",
              "    }\n",
              "    30% {\n",
              "      border-color: transparent;\n",
              "      border-left-color: var(--fill-color);\n",
              "      border-top-color: var(--fill-color);\n",
              "      border-right-color: var(--fill-color);\n",
              "    }\n",
              "    40% {\n",
              "      border-color: transparent;\n",
              "      border-right-color: var(--fill-color);\n",
              "      border-top-color: var(--fill-color);\n",
              "    }\n",
              "    60% {\n",
              "      border-color: transparent;\n",
              "      border-right-color: var(--fill-color);\n",
              "    }\n",
              "    80% {\n",
              "      border-color: transparent;\n",
              "      border-right-color: var(--fill-color);\n",
              "      border-bottom-color: var(--fill-color);\n",
              "    }\n",
              "    90% {\n",
              "      border-color: transparent;\n",
              "      border-bottom-color: var(--fill-color);\n",
              "    }\n",
              "  }\n",
              "</style>\n",
              "\n",
              "  <script>\n",
              "    async function quickchart(key) {\n",
              "      const quickchartButtonEl =\n",
              "        document.querySelector('#' + key + ' button');\n",
              "      quickchartButtonEl.disabled = true;  // To prevent multiple clicks.\n",
              "      quickchartButtonEl.classList.add('colab-df-spinner');\n",
              "      try {\n",
              "        const charts = await google.colab.kernel.invokeFunction(\n",
              "            'suggestCharts', [key], {});\n",
              "      } catch (error) {\n",
              "        console.error('Error during call to suggestCharts:', error);\n",
              "      }\n",
              "      quickchartButtonEl.classList.remove('colab-df-spinner');\n",
              "      quickchartButtonEl.classList.add('colab-df-quickchart-complete');\n",
              "    }\n",
              "    (() => {\n",
              "      let quickchartButtonEl =\n",
              "        document.querySelector('#df-a698a26c-aeff-4b5f-8081-79148a46a45f button');\n",
              "      quickchartButtonEl.style.display =\n",
              "        google.colab.kernel.accessAllowed ? 'block' : 'none';\n",
              "    })();\n",
              "  </script>\n",
              "</div>\n",
              "    </div>\n",
              "  </div>\n"
            ],
            "text/plain": [
              "        id      keyword               location  \\\n",
              "2644  3796  destruction                    NaN   \n",
              "2227  3185       deluge                    NaN   \n",
              "5448  7769       police                     UK   \n",
              "132    191   aftershock                    NaN   \n",
              "6845  9810       trauma  Montgomery County, MD   \n",
              "\n",
              "                                                   text  target  \n",
              "2644  So you have a new weapon that can cause un-ima...       1  \n",
              "2227  The f$&amp;@ing things I do for #GISHWHES Just...       0  \n",
              "5448  DT @georgegalloway: RT @Galloway4Mayor: ÛÏThe...       1  \n",
              "132   Aftershock back to school kick off was great. ...       0  \n",
              "6845  in response to trauma Children of Addicts deve...       0  "
            ]
          },
          "execution_count": 56,
          "metadata": {},
          "output_type": "execute_result"
        }
      ],
      "source": [
        "# shuffling train_data\n",
        "train_df_shuffled = train_df.sample(frac = 1 , random_state = 42)\n",
        "train_df_shuffled.head()"
      ]
    },
    {
      "cell_type": "code",
      "execution_count": null,
      "metadata": {
        "colab": {
          "base_uri": "https://localhost:8080/"
        },
        "id": "nKm9G2rp_5G_",
        "outputId": "74174a1b-57c6-4fef-d5d9-c40f1c7509f2"
      },
      "outputs": [
        {
          "data": {
            "text/plain": [
              "0    4342\n",
              "1    3271\n",
              "Name: target, dtype: int64"
            ]
          },
          "execution_count": 57,
          "metadata": {},
          "output_type": "execute_result"
        }
      ],
      "source": [
        "# how many examples of each class\n",
        "train_df.target.value_counts()"
      ]
    },
    {
      "cell_type": "code",
      "execution_count": null,
      "metadata": {
        "colab": {
          "base_uri": "https://localhost:8080/"
        },
        "id": "YGLRe3rM_5LD",
        "outputId": "3f1a8a94-e1c3-4615-8802-2519c3c321ae"
      },
      "outputs": [
        {
          "name": "stdout",
          "output_type": "stream",
          "text": [
            "train_samples : 7613\n",
            "test_samples : 3263\n"
          ]
        }
      ],
      "source": [
        "# how samples in train and test datasets\n",
        "print(f\"train_samples : {len(train_df)}\")\n",
        "print(f\"test_samples : {len(test_df)}\")"
      ]
    },
    {
      "cell_type": "code",
      "execution_count": null,
      "metadata": {
        "colab": {
          "base_uri": "https://localhost:8080/"
        },
        "id": "M29Hduy1Cr9J",
        "outputId": "a4a99a46-ec41-494f-8fdc-ad793cad7c2e"
      },
      "outputs": [
        {
          "name": "stdout",
          "output_type": "stream",
          "text": [
            "Sample id : 10045\n",
            "Sample target is 0  (not real diaster)\n",
            "sample text is : TWISTER DANCE Game  Dance Console Instructions Cable 5 Pre Loaded Songs http://t.co/BcsXyEc4ji http://t.co/DfXI76kvX0\n",
            "----------\n",
            "\n",
            "Sample id : 9971\n",
            "Sample target is 0  (not real diaster)\n",
            "sample text is : #BBShelli seems pretty sure she's the one that's going to stay! #BB17\n",
            "----------\n",
            "\n",
            "Sample id : 1318\n",
            "Sample target is 0  (not real diaster)\n",
            "sample text is : Meet the bloody RS5 http://t.co/RVczMimfVx\n",
            "----------\n",
            "\n",
            "Sample id : 7862\n",
            "Sample target is 1  (real diaster)\n",
            "sample text is : #hot  Reddit's new content policy goes into effect many horrible subreddits banned or quarantined http://t.co/nGKrZPza45 #prebreak #best\n",
            "----------\n",
            "\n",
            "Sample id : 8515\n",
            "Sample target is 0  (not real diaster)\n",
            "sample text is : @stvmlly Sorry for screaming at you and @Safferoonicle from the car I just kinda 'I KNOW THOSE PEOPLE LET'S YELL!' :/\n",
            "----------\n",
            "\n"
          ]
        }
      ],
      "source": [
        "# taking some random samples\n",
        "random_index = random.sample(k = 5 , population = sorted(train_df[\"id\"]))\n",
        "for i in random_index :\n",
        "  id = list(train_df[train_df[\"id\"] == i][\"id\"])[0]\n",
        "  target = list(train_df[train_df[\"id\"] == i][\"target\"])[0]\n",
        "  text = list(train_df[train_df[\"id\"] == i][\"text\"])[0]\n",
        "  print(f\"Sample id : {id}\")\n",
        "  print(f\"Sample target is {target} \" , \"(real diaster)\" if target > 0 else \"(not real diaster)\" )\n",
        "  print(f\"sample text is : {text}\")\n",
        "  print(f\"----------\\n\")"
      ]
    },
    {
      "cell_type": "markdown",
      "metadata": {
        "id": "d8jVYB_BCrzN"
      },
      "source": [
        "### spliting train data to training and validation datasets"
      ]
    },
    {
      "cell_type": "code",
      "execution_count": null,
      "metadata": {
        "id": "cwDM7wriCrw5"
      },
      "outputs": [],
      "source": [
        "from sklearn.model_selection import train_test_split\n",
        "\n",
        "train_sentences , val_sentences , train_lables , val_lables = train_test_split(train_df_shuffled[\"text\"].to_numpy() ,\n",
        "                                                                                train_df_shuffled[\"target\"].to_numpy(),\n",
        "                                                                                test_size = 0.1 , # assigning 10% of data for validation dataset\n",
        "                                                                                random_state = 42)"
      ]
    },
    {
      "cell_type": "code",
      "execution_count": null,
      "metadata": {
        "colab": {
          "base_uri": "https://localhost:8080/"
        },
        "id": "J9F8LXkaCrro",
        "outputId": "a00edc54-cc67-40ed-dfb1-74b765e1a47c"
      },
      "outputs": [
        {
          "name": "stdout",
          "output_type": "stream",
          "text": [
            "number training sentences : 6851\n",
            "number of validation senteces : 762\n"
          ]
        }
      ],
      "source": [
        "print(f\"number training sentences : {len(train_sentences)}\")\n",
        "print(f\"number of validation senteces : {len(val_sentences)}\")"
      ]
    },
    {
      "cell_type": "code",
      "execution_count": null,
      "metadata": {
        "colab": {
          "base_uri": "https://localhost:8080/"
        },
        "id": "0yPWssegCro5",
        "outputId": "9d89db7e-afdc-4011-8804-c3a602743590"
      },
      "outputs": [
        {
          "data": {
            "text/plain": [
              "array(['@mogacola @zamtriossu i screamed after hitting tweet',\n",
              "       'Imagine getting flattened by Kurt Zouma',\n",
              "       '@Gurmeetramrahim #MSGDoing111WelfareWorks Green S welfare force ke appx 65000 members har time disaster victim ki help ke liye tyar hai....',\n",
              "       \"@shakjn @C7 @Magnums im shaking in fear he's gonna hack the planet\",\n",
              "       'Somehow find you and I collide http://t.co/Ee8RpOahPk'],\n",
              "      dtype=object)"
            ]
          },
          "execution_count": 62,
          "metadata": {},
          "output_type": "execute_result"
        }
      ],
      "source": [
        "train_sentences[:5]"
      ]
    },
    {
      "cell_type": "markdown",
      "metadata": {
        "id": "pkrafFkFCrhz"
      },
      "source": [
        "### Converting text into numbers\n",
        "\n",
        "* Tokeniziation\n",
        "* Embedding"
      ]
    },
    {
      "cell_type": "markdown",
      "metadata": {
        "id": "cvBE1taOCrfV"
      },
      "source": [
        "#### Text Vectorization (Tokenziziation)"
      ]
    },
    {
      "cell_type": "code",
      "execution_count": null,
      "metadata": {
        "id": "of7HSBUXTH4P"
      },
      "outputs": [],
      "source": [
        "# importing\n",
        "from tensorflow.keras.layers.experimental.preprocessing import TextVectorization\n",
        "\n",
        "# making a instance with deuafalt text vectorization parameters\n",
        "text_vectorizer = TextVectorization(max_tokens = 1000 , # number of words in vocabulary\n",
        "                                    ngrams = None , # number of group n words\n",
        "                                    output_sequence_length = None , # how long the output sequence to be\n",
        "                                    split = \"whitespace\" ,\n",
        "                                    standardize = \"lower_and_strip_punctuation\" ,\n",
        "                                    output_mode = \"int\" ,\n",
        "                                    pad_to_max_tokens= True)"
      ]
    },
    {
      "cell_type": "code",
      "execution_count": null,
      "metadata": {
        "colab": {
          "base_uri": "https://localhost:8080/"
        },
        "id": "TLxsGXA7hZv-",
        "outputId": "0aa32389-6260-4d7a-88a2-9f6a4992a0af"
      },
      "outputs": [
        {
          "data": {
            "text/plain": [
              "15"
            ]
          },
          "execution_count": 64,
          "metadata": {},
          "output_type": "execute_result"
        }
      ],
      "source": [
        "# finding the average words in sentences\n",
        "round(sum(list(len(text.split()) for text in train_sentences))/len(train_sentences))"
      ]
    },
    {
      "cell_type": "code",
      "execution_count": null,
      "metadata": {
        "id": "ZuPoECiAVLXr"
      },
      "outputs": [],
      "source": [
        "# setuping text vectorization variables\n",
        "text_vectorizer = TextVectorization(max_tokens = 1000 , # maximum words to check\n",
        "                                    output_mode = \"int\" , # output mode of tokeniztion\n",
        "                                    output_sequence_length = 15) # maximum lenght of sentences"
      ]
    },
    {
      "cell_type": "code",
      "execution_count": null,
      "metadata": {
        "id": "ND8MdXNEVLcK"
      },
      "outputs": [],
      "source": [
        "# Fitting text vectorizer to a training data set using adapt method\n",
        "text_vectorizer.adapt(train_sentences)"
      ]
    },
    {
      "cell_type": "code",
      "execution_count": null,
      "metadata": {
        "colab": {
          "base_uri": "https://localhost:8080/"
        },
        "id": "sAYV-ZLHrWg5",
        "outputId": "b9f65cf4-0a50-4292-d2db-cf446b2a36b9"
      },
      "outputs": [
        {
          "name": "stdout",
          "output_type": "stream",
          "text": [
            "top most 5 words used in train sentenceses : ['', '[UNK]', 'the', 'a', 'in']\n",
            "top least 5 words used in train sentenceses : ['reported', 'r', 'pray', 'playlist', 'patience']\n"
          ]
        }
      ],
      "source": [
        "vocabulary = text_vectorizer.get_vocabulary()\n",
        "# top 5 most used sentenceses in vocabulary\n",
        "print(f\"top most 5 words used in train sentenceses : {vocabulary[:5]}\")\n",
        "print(f\"top least 5 words used in train sentenceses : {vocabulary[-5:]}\")"
      ]
    },
    {
      "cell_type": "code",
      "execution_count": null,
      "metadata": {
        "colab": {
          "base_uri": "https://localhost:8080/"
        },
        "id": "G4JD46VGtL-p",
        "outputId": "8bca97e0-654a-4b90-d4c8-a295ec67709e"
      },
      "outputs": [
        {
          "data": {
            "text/plain": [
              "1000"
            ]
          },
          "execution_count": 68,
          "metadata": {},
          "output_type": "execute_result"
        }
      ],
      "source": [
        "len(vocabulary)"
      ]
    },
    {
      "cell_type": "code",
      "execution_count": null,
      "metadata": {
        "colab": {
          "base_uri": "https://localhost:8080/"
        },
        "id": "9kwVkI5_VLn9",
        "outputId": "a95cdc36-a176-40e3-aa81-cff7f71863e5"
      },
      "outputs": [
        {
          "data": {
            "text/plain": [
              "array([ 8, 24,  3,  1,  0,  0,  0,  0,  0,  0,  0,  0,  0,  0,  0])"
            ]
          },
          "execution_count": 69,
          "metadata": {},
          "output_type": "execute_result"
        }
      ],
      "source": [
        "# vectorizing a sample sentences from\n",
        "sample_sentence = \"I have a tea\"\n",
        "text_vectorizer(sample_sentence).numpy()"
      ]
    },
    {
      "cell_type": "code",
      "execution_count": null,
      "metadata": {
        "colab": {
          "base_uri": "https://localhost:8080/"
        },
        "id": "Yt7xZS-XVLtG",
        "outputId": "08b4677b-1f56-4611-965f-01814454830f"
      },
      "outputs": [
        {
          "name": "stdout",
          "output_type": "stream",
          "text": [
            "original sentence : Rainstorm Destroys 600 Houses In Yobe | iReporter https://t.co/0rNY349UnT via @sharethis\n",
            "vectorized sentence : [569   1   1 889   4   1   1   1  49   1   0   0   0   0   0]\n"
          ]
        }
      ],
      "source": [
        "# vectorizing a random sentence from train_sentences\n",
        "random_sentences = random.sample(k=1 , population = list(train_sentences))\n",
        "text_vectorized = text_vectorizer(random_sentences)\n",
        "print(f\"original sentence : {random_sentences[0]}\")\n",
        "print(f\"vectorized sentence : {text_vectorized[0]}\")"
      ]
    },
    {
      "cell_type": "markdown",
      "metadata": {
        "id": "IKpalNTdVLxj"
      },
      "source": [
        "#### Creating an Embedding using a embedding layer"
      ]
    },
    {
      "cell_type": "code",
      "execution_count": null,
      "metadata": {
        "id": "Y9jhYmvDVL1Z"
      },
      "outputs": [],
      "source": [
        "embedding = tf.keras.layers.Embedding(output_dim = 128 ,\n",
        "                                      embeddings_initializer = \"uniform\" , # firstly initialize tensors with random values\n",
        "                                      input_dim = 1000 ,\n",
        "                                      input_length = 15)"
      ]
    },
    {
      "cell_type": "code",
      "execution_count": null,
      "metadata": {
        "colab": {
          "base_uri": "https://localhost:8080/"
        },
        "id": "Axann3DNVL5n",
        "outputId": "07807639-4092-488c-ffd0-64d9082c56df"
      },
      "outputs": [
        {
          "name": "stdout",
          "output_type": "stream",
          "text": [
            "original sentence : \n",
            " Rainstorm Destroys 600 Houses In Yobe | iReporter https://t.co/0rNY349UnT via @sharethis\n",
            "\n",
            "embedded sentence : \n",
            " [[ 0.03086212  0.03146299 -0.0111385  ... -0.01688785  0.03517629\n",
            "  -0.00922697]\n",
            " [ 0.00281017 -0.03257195  0.02538886 ...  0.02245313 -0.02829835\n",
            "   0.00244151]\n",
            " [ 0.01345586 -0.00078679 -0.00284276 ...  0.02456346 -0.04108254\n",
            "  -0.02238947]\n",
            " ...\n",
            " [-0.03370773 -0.04548356 -0.02206467 ... -0.0241585   0.00787045\n",
            "  -0.01708555]\n",
            " [ 0.04301823 -0.03930904  0.0164105  ...  0.03296581  0.0099923\n",
            "  -0.01548431]\n",
            " [ 0.00281017 -0.03257195  0.02538886 ...  0.02245313 -0.02829835\n",
            "   0.00244151]]\n",
            "\n",
            "embedded sentence shape : (1, 15, 128)\n"
          ]
        }
      ],
      "source": [
        "# embedding a random sentence from train_sentences\n",
        "random_sentences_vectorized = text_vectorizer(random.sample(k=1 , population = list(train_sentences)))\n",
        "text_embedded = embedding(random_sentences_vectorized)\n",
        "print(f\"original sentence : \\n {random_sentences[0]}\\n\")\n",
        "print(f\"embedded sentence : \\n {text_embedded[0]}\\n\")\n",
        "print(f\"embedded sentence shape : {text_embedded.shape}\")"
      ]
    },
    {
      "cell_type": "markdown",
      "metadata": {
        "id": "LZbGrwH4VL9m"
      },
      "source": [
        "## Build Model\n",
        "\n",
        "models for working on text datasets :\n",
        "\n",
        "* `model_0` - Naive Bayes (baseline model) getting from scikit-learn\n",
        "* `model_1` - Feed-Forward (Dense layer model)\n",
        "* `model_2` - LSTM model\n",
        "* `model_3` - GRU model\n",
        "* `model_4` - bidirectional LSTM\n",
        "* `model_5` - 1D Convoloutional Neural Network\n",
        "* `model_6` - Tensorflow hub pretrained word embedding (Feature Extraction)\n",
        "* `model_7` - same as last model but with 10%  of data\n",
        "\n",
        "⚡ steps for each model :\n",
        "\n",
        "1. construct model\n",
        "2. train model\n",
        "3. making predictions\n",
        "4. tracking evaluatiom metrics"
      ]
    },
    {
      "cell_type": "markdown",
      "metadata": {
        "id": "YUT808J97h5U"
      },
      "source": [
        "### **model_0**\n",
        "\n",
        " baseline model  "
      ]
    },
    {
      "cell_type": "code",
      "execution_count": null,
      "metadata": {
        "colab": {
          "base_uri": "https://localhost:8080/",
          "height": 125
        },
        "id": "RSxwytKJVMB4",
        "outputId": "4f79e813-f038-4eac-8cd3-02e8c3fbb336"
      },
      "outputs": [
        {
          "data": {
            "text/html": [
              "<style>#sk-container-id-2 {color: black;background-color: white;}#sk-container-id-2 pre{padding: 0;}#sk-container-id-2 div.sk-toggleable {background-color: white;}#sk-container-id-2 label.sk-toggleable__label {cursor: pointer;display: block;width: 100%;margin-bottom: 0;padding: 0.3em;box-sizing: border-box;text-align: center;}#sk-container-id-2 label.sk-toggleable__label-arrow:before {content: \"▸\";float: left;margin-right: 0.25em;color: #696969;}#sk-container-id-2 label.sk-toggleable__label-arrow:hover:before {color: black;}#sk-container-id-2 div.sk-estimator:hover label.sk-toggleable__label-arrow:before {color: black;}#sk-container-id-2 div.sk-toggleable__content {max-height: 0;max-width: 0;overflow: hidden;text-align: left;background-color: #f0f8ff;}#sk-container-id-2 div.sk-toggleable__content pre {margin: 0.2em;color: black;border-radius: 0.25em;background-color: #f0f8ff;}#sk-container-id-2 input.sk-toggleable__control:checked~div.sk-toggleable__content {max-height: 200px;max-width: 100%;overflow: auto;}#sk-container-id-2 input.sk-toggleable__control:checked~label.sk-toggleable__label-arrow:before {content: \"▾\";}#sk-container-id-2 div.sk-estimator input.sk-toggleable__control:checked~label.sk-toggleable__label {background-color: #d4ebff;}#sk-container-id-2 div.sk-label input.sk-toggleable__control:checked~label.sk-toggleable__label {background-color: #d4ebff;}#sk-container-id-2 input.sk-hidden--visually {border: 0;clip: rect(1px 1px 1px 1px);clip: rect(1px, 1px, 1px, 1px);height: 1px;margin: -1px;overflow: hidden;padding: 0;position: absolute;width: 1px;}#sk-container-id-2 div.sk-estimator {font-family: monospace;background-color: #f0f8ff;border: 1px dotted black;border-radius: 0.25em;box-sizing: border-box;margin-bottom: 0.5em;}#sk-container-id-2 div.sk-estimator:hover {background-color: #d4ebff;}#sk-container-id-2 div.sk-parallel-item::after {content: \"\";width: 100%;border-bottom: 1px solid gray;flex-grow: 1;}#sk-container-id-2 div.sk-label:hover label.sk-toggleable__label {background-color: #d4ebff;}#sk-container-id-2 div.sk-serial::before {content: \"\";position: absolute;border-left: 1px solid gray;box-sizing: border-box;top: 0;bottom: 0;left: 50%;z-index: 0;}#sk-container-id-2 div.sk-serial {display: flex;flex-direction: column;align-items: center;background-color: white;padding-right: 0.2em;padding-left: 0.2em;position: relative;}#sk-container-id-2 div.sk-item {position: relative;z-index: 1;}#sk-container-id-2 div.sk-parallel {display: flex;align-items: stretch;justify-content: center;background-color: white;position: relative;}#sk-container-id-2 div.sk-item::before, #sk-container-id-2 div.sk-parallel-item::before {content: \"\";position: absolute;border-left: 1px solid gray;box-sizing: border-box;top: 0;bottom: 0;left: 50%;z-index: -1;}#sk-container-id-2 div.sk-parallel-item {display: flex;flex-direction: column;z-index: 1;position: relative;background-color: white;}#sk-container-id-2 div.sk-parallel-item:first-child::after {align-self: flex-end;width: 50%;}#sk-container-id-2 div.sk-parallel-item:last-child::after {align-self: flex-start;width: 50%;}#sk-container-id-2 div.sk-parallel-item:only-child::after {width: 0;}#sk-container-id-2 div.sk-dashed-wrapped {border: 1px dashed gray;margin: 0 0.4em 0.5em 0.4em;box-sizing: border-box;padding-bottom: 0.4em;background-color: white;}#sk-container-id-2 div.sk-label label {font-family: monospace;font-weight: bold;display: inline-block;line-height: 1.2em;}#sk-container-id-2 div.sk-label-container {text-align: center;}#sk-container-id-2 div.sk-container {/* jupyter's `normalize.less` sets `[hidden] { display: none; }` but bootstrap.min.css set `[hidden] { display: none !important; }` so we also need the `!important` here to be able to override the default hidden behavior on the sphinx rendered scikit-learn.org. See: https://github.com/scikit-learn/scikit-learn/issues/21755 */display: inline-block !important;position: relative;}#sk-container-id-2 div.sk-text-repr-fallback {display: none;}</style><div id=\"sk-container-id-2\" class=\"sk-top-container\"><div class=\"sk-text-repr-fallback\"><pre>Pipeline(steps=[(&#x27;Tfidf&#x27;, TfidfVectorizer()), (&#x27;clf&#x27;, MultinomialNB())])</pre><b>In a Jupyter environment, please rerun this cell to show the HTML representation or trust the notebook. <br />On GitHub, the HTML representation is unable to render, please try loading this page with nbviewer.org.</b></div><div class=\"sk-container\" hidden><div class=\"sk-item sk-dashed-wrapped\"><div class=\"sk-label-container\"><div class=\"sk-label sk-toggleable\"><input class=\"sk-toggleable__control sk-hidden--visually\" id=\"sk-estimator-id-4\" type=\"checkbox\" ><label for=\"sk-estimator-id-4\" class=\"sk-toggleable__label sk-toggleable__label-arrow\">Pipeline</label><div class=\"sk-toggleable__content\"><pre>Pipeline(steps=[(&#x27;Tfidf&#x27;, TfidfVectorizer()), (&#x27;clf&#x27;, MultinomialNB())])</pre></div></div></div><div class=\"sk-serial\"><div class=\"sk-item\"><div class=\"sk-estimator sk-toggleable\"><input class=\"sk-toggleable__control sk-hidden--visually\" id=\"sk-estimator-id-5\" type=\"checkbox\" ><label for=\"sk-estimator-id-5\" class=\"sk-toggleable__label sk-toggleable__label-arrow\">TfidfVectorizer</label><div class=\"sk-toggleable__content\"><pre>TfidfVectorizer()</pre></div></div></div><div class=\"sk-item\"><div class=\"sk-estimator sk-toggleable\"><input class=\"sk-toggleable__control sk-hidden--visually\" id=\"sk-estimator-id-6\" type=\"checkbox\" ><label for=\"sk-estimator-id-6\" class=\"sk-toggleable__label sk-toggleable__label-arrow\">MultinomialNB</label><div class=\"sk-toggleable__content\"><pre>MultinomialNB()</pre></div></div></div></div></div></div></div>"
            ],
            "text/plain": [
              "Pipeline(steps=[('Tfidf', TfidfVectorizer()), ('clf', MultinomialNB())])"
            ]
          },
          "execution_count": 73,
          "metadata": {},
          "output_type": "execute_result"
        }
      ],
      "source": [
        "# Imports\n",
        "from sklearn.feature_extraction.text import TfidfVectorizer\n",
        "from sklearn.pipeline import Pipeline\n",
        "from sklearn.naive_bayes import MultinomialNB\n",
        "\n",
        "model_0 = Pipeline([\n",
        "    (\"Tfidf\" , TfidfVectorizer()) , # converting texts to numbers for finding patterns\n",
        "    (\"clf\" , MultinomialNB()) # deep learning engine of model (looking for patterns)\n",
        "])\n",
        "\n",
        "model_0.fit(train_sentences , train_lables)"
      ]
    },
    {
      "cell_type": "code",
      "execution_count": null,
      "metadata": {
        "colab": {
          "base_uri": "https://localhost:8080/"
        },
        "id": "KA18FbURVMF9",
        "outputId": "b90b53c9-fbf2-4804-e8b9-61c0db278b97"
      },
      "outputs": [
        {
          "name": "stdout",
          "output_type": "stream",
          "text": [
            "Our baseline model achived the accuarcy of : 79.27%\n"
          ]
        }
      ],
      "source": [
        "baseline_score = model_0.score(val_sentences , val_lables)\n",
        "print(f\"Our baseline model achived the accuarcy of : {baseline_score*100:.2f}%\")"
      ]
    },
    {
      "cell_type": "code",
      "execution_count": null,
      "metadata": {
        "colab": {
          "base_uri": "https://localhost:8080/"
        },
        "id": "jfnTLC12VMKI",
        "outputId": "f0955493-f7fe-44d0-804e-99e7dbc11dba"
      },
      "outputs": [
        {
          "data": {
            "text/plain": [
              "(array([1, 0, 0, 0, 1]), array([0, 0, 0, 0, 0]))"
            ]
          },
          "execution_count": 75,
          "metadata": {},
          "output_type": "execute_result"
        }
      ],
      "source": [
        "# making prediction on validation_data\n",
        "model_0.predict(val_sentences)[20:25] , train_lables[20:25]"
      ]
    },
    {
      "cell_type": "markdown",
      "metadata": {
        "id": "gpenLCSU6NIK"
      },
      "source": [
        "Creating a function for calculating models accuracy :\n",
        "\n",
        "* Accuracy\n",
        "* Precision\n",
        "* Recall\n",
        "* fscore (F-1 Score)"
      ]
    },
    {
      "cell_type": "code",
      "execution_count": null,
      "metadata": {
        "id": "v8x9EdAt6NG3"
      },
      "outputs": [],
      "source": [
        "from sklearn.metrics import accuracy_score , precision_recall_fscore_support\n",
        "\n",
        "def acc_func(y_true , y_pred) :\n",
        "  model_accuracy = accuracy_score(y_true , y_pred) * 100\n",
        "  model_precision , model_recall , fscore_acc , _ = precision_recall_fscore_support(y_true , y_pred)\n",
        "  results = {\n",
        "      \"accuracy\" : model_accuracy ,\n",
        "      \"precision\" : (sum(list(i for i in model_precision))/2) ,\n",
        "      \"recall\" : sum(list(i for i in model_recall))/2 ,\n",
        "      \"fscore\" : sum(list(i for i in fscore_acc))/2\n",
        "  }\n",
        "\n",
        "  return results"
      ]
    },
    {
      "cell_type": "code",
      "execution_count": null,
      "metadata": {
        "colab": {
          "base_uri": "https://localhost:8080/"
        },
        "id": "WBiigtj49hIf",
        "outputId": "04ecc577-0eb8-43bf-e4ac-ca8c709b4340"
      },
      "outputs": [
        {
          "data": {
            "text/plain": [
              "{'accuracy': 79.26509186351706,\n",
              " 'precision': 0.817120438646247,\n",
              " 'recall': 0.7794019656838247,\n",
              " 'fscore': 0.7820571304442272}"
            ]
          },
          "execution_count": 77,
          "metadata": {},
          "output_type": "execute_result"
        }
      ],
      "source": [
        "# testing our function for calculating accuracy\n",
        "baseline_preds = model_0.predict(val_sentences)\n",
        "baseline_result = acc_func(y_true = val_lables ,\n",
        "                           y_pred = baseline_preds)\n",
        "baseline_result"
      ]
    },
    {
      "cell_type": "code",
      "execution_count": null,
      "metadata": {
        "id": "4dW6qPUHyDom"
      },
      "outputs": [],
      "source": [
        "model_0_results = baseline_result"
      ]
    },
    {
      "cell_type": "markdown",
      "metadata": {
        "id": "KgBaGSU96NCi"
      },
      "source": [
        "### **model_1**\n",
        "\n",
        "feed-forward model"
      ]
    },
    {
      "cell_type": "code",
      "execution_count": null,
      "metadata": {
        "colab": {
          "base_uri": "https://localhost:8080/"
        },
        "id": "kox6z2oE6NBY",
        "outputId": "cdf2e674-7621-4138-a2df-3a1af394b8dc"
      },
      "outputs": [
        {
          "name": "stdout",
          "output_type": "stream",
          "text": [
            "Saving TensorBoard log files to: text_problem/feed_forward/20230911-121559\n",
            "Epoch 1/5\n",
            "215/215 [==============================] - 5s 15ms/step - loss: 0.6226 - accuracy: 0.6668 - val_loss: 0.5617 - val_accuracy: 0.7349\n",
            "Epoch 2/5\n",
            "215/215 [==============================] - 2s 10ms/step - loss: 0.4936 - accuracy: 0.7811 - val_loss: 0.5000 - val_accuracy: 0.7690\n",
            "Epoch 3/5\n",
            "215/215 [==============================] - 3s 15ms/step - loss: 0.4387 - accuracy: 0.8051 - val_loss: 0.4889 - val_accuracy: 0.7795\n",
            "Epoch 4/5\n",
            "215/215 [==============================] - 3s 14ms/step - loss: 0.4112 - accuracy: 0.8178 - val_loss: 0.4855 - val_accuracy: 0.7769\n",
            "Epoch 5/5\n",
            "215/215 [==============================] - 3s 14ms/step - loss: 0.3943 - accuracy: 0.8237 - val_loss: 0.4967 - val_accuracy: 0.7835\n"
          ]
        },
        {
          "data": {
            "text/plain": [
              "<keras.src.callbacks.History at 0x7fcedd80eaa0>"
            ]
          },
          "execution_count": 79,
          "metadata": {},
          "output_type": "execute_result"
        }
      ],
      "source": [
        "# Create model\n",
        "inputs = tf.keras.Input(shape = (1,) , dtype = tf.string , name = \"input_layer\")\n",
        "x = embedding(text_vectorizer(inputs))\n",
        "x = tf.keras.layers.GlobalAveragePooling1D(name = \"global_average_pooling_1d\")(x)\n",
        "outputs = tf.keras.layers.Dense(1 , activation = \"sigmoid\" , name = \"output_layer\")(x)\n",
        "model_1 = tf.keras.Model(inputs , outputs , name = \"model_1_forward_feed\")\n",
        "# compile model\n",
        "model_1.compile(loss = tf.keras.losses.binary_crossentropy ,\n",
        "                optimizer = tf.keras.optimizers.Adam() ,\n",
        "                metrics = [\"accuracy\"])\n",
        "# fit model\n",
        "model_1.fit(epochs = 5,\n",
        "            x = train_sentences ,\n",
        "            y = train_lables ,\n",
        "            validation_data = (val_sentences , val_lables) ,\n",
        "            callbacks = [create_tensorboard_callback(dir_name = \"text_problem\" ,\n",
        "                                                     experiment_name= \"feed_forward\")])"
      ]
    },
    {
      "cell_type": "code",
      "execution_count": null,
      "metadata": {
        "colab": {
          "base_uri": "https://localhost:8080/"
        },
        "id": "ePmPYgBq6M8M",
        "outputId": "54371f28-feba-4bdb-8e04-76408dff0bfe"
      },
      "outputs": [
        {
          "data": {
            "text/plain": [
              "(array([0, 0, 0, 0, 0]),\n",
              " <tf.Tensor: shape=(5, 1), dtype=float32, numpy=\n",
              " array([[0.],\n",
              "        [0.],\n",
              "        [1.],\n",
              "        [0.],\n",
              "        [0.]], dtype=float32)>)"
            ]
          },
          "execution_count": 80,
          "metadata": {},
          "output_type": "execute_result"
        }
      ],
      "source": [
        "# making prediction\n",
        "model_1_pred = model_1.predict(val_sentences , verbose = 0)\n",
        "# turning prediction probilities to prediction lables\n",
        "model_1_pred = tf.round(model_1_pred)\n",
        "# a glance\n",
        "val_lables[-5:] , model_1_pred[-5:]"
      ]
    },
    {
      "cell_type": "code",
      "execution_count": null,
      "metadata": {
        "colab": {
          "base_uri": "https://localhost:8080/"
        },
        "id": "cJiSY8nh6M6_",
        "outputId": "6419388a-50b7-43d8-abbb-c81edc911977"
      },
      "outputs": [
        {
          "data": {
            "text/plain": [
              "{'accuracy': 78.34645669291339,\n",
              " 'precision': 0.7948830310793501,\n",
              " 'recall': 0.7732383808095952,\n",
              " 'fscore': 0.7757876322082591}"
            ]
          },
          "execution_count": 81,
          "metadata": {},
          "output_type": "execute_result"
        }
      ],
      "source": [
        "model_1_results = acc_func(y_pred=model_1_pred ,\n",
        "                           y_true = val_lables)\n",
        "model_1_results"
      ]
    },
    {
      "cell_type": "markdown",
      "metadata": {
        "id": "7gffTYKM6M3e"
      },
      "source": [
        "**Looking through embedding layer** - Actully in embedding layer we are looking for diffrent limensions of words for helping our  model to learn the relationship between words"
      ]
    },
    {
      "cell_type": "code",
      "execution_count": null,
      "metadata": {
        "colab": {
          "base_uri": "https://localhost:8080/",
          "height": 466
        },
        "id": "IjKihoN96M2O",
        "outputId": "12c33f2c-340f-45ca-bda4-81a53ab615c2"
      },
      "outputs": [
        {
          "data": {
            "image/png": "[encoded data removed]",
            "text/plain": [
              "<IPython.core.display.Image object>"
            ]
          },
          "execution_count": 82,
          "metadata": {},
          "output_type": "execute_result"
        }
      ],
      "source": [
        "plot_model(model_1)"
      ]
    },
    {
      "cell_type": "code",
      "execution_count": null,
      "metadata": {
        "colab": {
          "base_uri": "https://localhost:8080/"
        },
        "id": "xGLIItBE6Myi",
        "outputId": "75c71c07-ce53-4a32-8903-a417d36a4c3a"
      },
      "outputs": [
        {
          "data": {
            "text/plain": [
              "TensorShape([1000, 128])"
            ]
          },
          "execution_count": 83,
          "metadata": {},
          "output_type": "execute_result"
        }
      ],
      "source": [
        "embedding_weights = model_1.layers[2].weights[0]\n",
        "embedding_weights.shape # 1000 = words in vocabulary , 128 = output dimension of embedding"
      ]
    },
    {
      "cell_type": "markdown",
      "metadata": {
        "id": "oiOOsMwS6MxY"
      },
      "source": [
        "👽 **code to save trained embedding to file**"
      ]
    },
    {
      "cell_type": "code",
      "execution_count": null,
      "metadata": {
        "colab": {
          "base_uri": "https://localhost:8080/"
        },
        "id": "ICf0wWus6Mtz",
        "outputId": "1e24aa55-43d7-42fa-8db7-40beb4ce0b6f"
      },
      "outputs": [
        {
          "data": {
            "text/plain": [
              "<function TextIOWrapper.close()>"
            ]
          },
          "execution_count": 84,
          "metadata": {},
          "output_type": "execute_result"
        }
      ],
      "source": [
        "# 1 . getting words in vocabulary\n",
        "words_in_vocab = text_vectorizer.get_vocabulary()\n",
        "# 2 . importing io library\n",
        "import io\n",
        "# 3 .openning files\n",
        "out_v = io.open('vectors.tsv' , 'w' , encoding = 'utf-8')\n",
        "out_m = io.open('metadata.tsv' , 'w' , encoding = 'utf-8')\n",
        "# 4 . writitng data into files\n",
        "for index , word in enumerate(words_in_vocab) :\n",
        "  if index == 0 :\n",
        "    continue\n",
        "  vec = embedding_weights[index]\n",
        "  out_v.write('\\t'.join([str(i) for i in vec]) + '\\n')\n",
        "  out_m.write(word + '\\n')\n",
        "\n",
        "out_v.close()\n",
        "out_m.close"
      ]
    },
    {
      "cell_type": "code",
      "execution_count": null,
      "metadata": {
        "colab": {
          "base_uri": "https://localhost:8080/",
          "height": 17
        },
        "id": "MeDmPSoELCcT",
        "outputId": "978da515-59a6-4995-f30f-170c72d4ac7a"
      },
      "outputs": [
        {
          "data": {
            "application/javascript": [
              "\n",
              "    async function download(id, filename, size) {\n",
              "      if (!google.colab.kernel.accessAllowed) {\n",
              "        return;\n",
              "      }\n",
              "      const div = document.createElement('div');\n",
              "      const label = document.createElement('label');\n",
              "      label.textContent = `Downloading \"${filename}\": `;\n",
              "      div.appendChild(label);\n",
              "      const progress = document.createElement('progress');\n",
              "      progress.max = size;\n",
              "      div.appendChild(progress);\n",
              "      document.body.appendChild(div);\n",
              "\n",
              "      const buffers = [];\n",
              "      let downloaded = 0;\n",
              "\n",
              "      const channel = await google.colab.kernel.comms.open(id);\n",
              "      // Send a message to notify the kernel that we're ready.\n",
              "      channel.send({})\n",
              "\n",
              "      for await (const message of channel.messages) {\n",
              "        // Send a message to notify the kernel that we're ready.\n",
              "        channel.send({})\n",
              "        if (message.buffers) {\n",
              "          for (const buffer of message.buffers) {\n",
              "            buffers.push(buffer);\n",
              "            downloaded += buffer.byteLength;\n",
              "            progress.value = downloaded;\n",
              "          }\n",
              "        }\n",
              "      }\n",
              "      const blob = new Blob(buffers, {type: 'application/binary'});\n",
              "      const a = document.createElement('a');\n",
              "      a.href = window.URL.createObjectURL(blob);\n",
              "      a.download = filename;\n",
              "      div.appendChild(a);\n",
              "      a.click();\n",
              "      div.remove();\n",
              "    }\n",
              "  "
            ],
            "text/plain": [
              "<IPython.core.display.Javascript object>"
            ]
          },
          "metadata": {},
          "output_type": "display_data"
        },
        {
          "data": {
            "application/javascript": [
              "download(\"download_c3fca71d-b42c-4b58-8465-732d3baa8f7e\", \"vectors.tsv\", 6119194)"
            ],
            "text/plain": [
              "<IPython.core.display.Javascript object>"
            ]
          },
          "metadata": {},
          "output_type": "display_data"
        },
        {
          "data": {
            "application/javascript": [
              "\n",
              "    async function download(id, filename, size) {\n",
              "      if (!google.colab.kernel.accessAllowed) {\n",
              "        return;\n",
              "      }\n",
              "      const div = document.createElement('div');\n",
              "      const label = document.createElement('label');\n",
              "      label.textContent = `Downloading \"${filename}\": `;\n",
              "      div.appendChild(label);\n",
              "      const progress = document.createElement('progress');\n",
              "      progress.max = size;\n",
              "      div.appendChild(progress);\n",
              "      document.body.appendChild(div);\n",
              "\n",
              "      const buffers = [];\n",
              "      let downloaded = 0;\n",
              "\n",
              "      const channel = await google.colab.kernel.comms.open(id);\n",
              "      // Send a message to notify the kernel that we're ready.\n",
              "      channel.send({})\n",
              "\n",
              "      for await (const message of channel.messages) {\n",
              "        // Send a message to notify the kernel that we're ready.\n",
              "        channel.send({})\n",
              "        if (message.buffers) {\n",
              "          for (const buffer of message.buffers) {\n",
              "            buffers.push(buffer);\n",
              "            downloaded += buffer.byteLength;\n",
              "            progress.value = downloaded;\n",
              "          }\n",
              "        }\n",
              "      }\n",
              "      const blob = new Blob(buffers, {type: 'application/binary'});\n",
              "      const a = document.createElement('a');\n",
              "      a.href = window.URL.createObjectURL(blob);\n",
              "      a.download = filename;\n",
              "      div.appendChild(a);\n",
              "      a.click();\n",
              "      div.remove();\n",
              "    }\n",
              "  "
            ],
            "text/plain": [
              "<IPython.core.display.Javascript object>"
            ]
          },
          "metadata": {},
          "output_type": "display_data"
        },
        {
          "data": {
            "application/javascript": [
              "download(\"download_8b289cbb-7709-450b-a70c-aa8120e3b44e\", \"metadata.tsv\", 0)"
            ],
            "text/plain": [
              "<IPython.core.display.Javascript object>"
            ]
          },
          "metadata": {},
          "output_type": "display_data"
        }
      ],
      "source": [
        "# Download saved embedding\n",
        "from google.colab import files\n",
        "try:\n",
        "  files.download('vectors.tsv')\n",
        "  files.download('metadata.tsv')\n",
        "except Exception :\n",
        "  pass"
      ]
    },
    {
      "cell_type": "markdown",
      "metadata": {
        "id": "9lit86k7LBld"
      },
      "source": [
        "### **model_2**\n",
        "\n",
        "LSTM (Long Short-Term Memory) Kind of RNN models"
      ]
    },
    {
      "cell_type": "code",
      "execution_count": null,
      "metadata": {
        "colab": {
          "base_uri": "https://localhost:8080/"
        },
        "id": "8IkqKHt_71-T",
        "outputId": "694c1146-ca56-4c76-d979-f30be59d2670"
      },
      "outputs": [
        {
          "name": "stdout",
          "output_type": "stream",
          "text": [
            "data shape after embedding : (None, 15, 128)\n",
            "data shape after LSTM layer : (None, 64)\n",
            "Saving TensorBoard log files to: text_problem/LSTM model/20230911-121758\n",
            "Epoch 1/5\n",
            "215/215 [==============================] - 8s 23ms/step - loss: 0.4047 - accuracy: 0.8212 - val_loss: 0.4890 - val_accuracy: 0.7690\n",
            "Epoch 2/5\n",
            "215/215 [==============================] - 4s 20ms/step - loss: 0.3803 - accuracy: 0.8342 - val_loss: 0.5260 - val_accuracy: 0.7743\n",
            "Epoch 3/5\n",
            "215/215 [==============================] - 7s 32ms/step - loss: 0.3707 - accuracy: 0.8380 - val_loss: 0.5033 - val_accuracy: 0.7651\n",
            "Epoch 4/5\n",
            "215/215 [==============================] - 9s 41ms/step - loss: 0.3601 - accuracy: 0.8440 - val_loss: 0.4995 - val_accuracy: 0.7835\n",
            "Epoch 5/5\n",
            "215/215 [==============================] - 6s 30ms/step - loss: 0.3399 - accuracy: 0.8533 - val_loss: 0.5267 - val_accuracy: 0.7703\n"
          ]
        },
        {
          "data": {
            "text/plain": [
              "<keras.src.callbacks.History at 0x7fced63664a0>"
            ]
          },
          "execution_count": 86,
          "metadata": {},
          "output_type": "execute_result"
        }
      ],
      "source": [
        "# Create model\n",
        "inputs = tf.keras.Input(shape = (1,) , dtype = tf.string , name = \"input_layer \")\n",
        "x = embedding(text_vectorizer(inputs))\n",
        "print(f\"data shape after embedding : {x.shape}\")\n",
        "x = tf.keras.layers.LSTM(64 , activation = tf.keras.activations.tanh)(x)\n",
        "print(f\"data shape after LSTM layer : {x.shape}\")\n",
        "outputs = tf.keras.layers.Dense(1 , activation = tf.keras.activations.sigmoid , name = \"output_layer\")(x)\n",
        "model_2 = tf.keras.Model(inputs , outputs)\n",
        "\n",
        "# compile model\n",
        "model_2.compile(loss = tf.keras.losses.binary_crossentropy ,\n",
        "                optimizer = tf.keras.optimizers.Adam() ,\n",
        "                metrics = [\"accuracy\"])\n",
        "\n",
        "# fit model\n",
        "model_2.fit(epochs = 5,\n",
        "            x = train_sentences ,\n",
        "            y = train_lables,\n",
        "            validation_data = (val_sentences , val_lables) ,\n",
        "            callbacks = [create_tensorboard_callback(dir_name = \"text_problem\" ,\n",
        "                                                     experiment_name = \"LSTM model\")])"
      ]
    },
    {
      "cell_type": "code",
      "execution_count": null,
      "metadata": {
        "colab": {
          "base_uri": "https://localhost:8080/"
        },
        "id": "XOxT1MfK719D",
        "outputId": "c58e8452-6391-4fe2-a9a9-f92552bf49c5"
      },
      "outputs": [
        {
          "data": {
            "text/plain": [
              "(<tf.Tensor: shape=(5, 1), dtype=float32, numpy=\n",
              " array([[0.],\n",
              "        [0.],\n",
              "        [1.],\n",
              "        [0.],\n",
              "        [0.]], dtype=float32)>,\n",
              " array([0, 0, 0, 0, 0]))"
            ]
          },
          "execution_count": 87,
          "metadata": {},
          "output_type": "execute_result"
        }
      ],
      "source": [
        "# make_prediction\n",
        "model_2_pred = model_2.predict(val_sentences , verbose = 0)\n",
        "# turning prediction probilities to prediction lables\n",
        "model_2_pred = tf.round(model_2_pred)\n",
        "# A glance\n",
        "model_2_pred[-5:] , val_lables[-5:]"
      ]
    },
    {
      "cell_type": "code",
      "execution_count": null,
      "metadata": {
        "colab": {
          "base_uri": "https://localhost:8080/"
        },
        "id": "0EjlHXTh715L",
        "outputId": "2e2e0711-6811-4e12-f0b9-93a74494db6f"
      },
      "outputs": [
        {
          "data": {
            "text/plain": [
              "{'accuracy': 77.03412073490814,\n",
              " 'precision': 0.770455783805204,\n",
              " 'recall': 0.7652840246543395,\n",
              " 'fscore': 0.766715242145555}"
            ]
          },
          "execution_count": 88,
          "metadata": {},
          "output_type": "execute_result"
        }
      ],
      "source": [
        "# getting accuracy metrics\n",
        "model_2_results = acc_func(y_true = val_lables ,\n",
        "                           y_pred = model_2_pred)\n",
        "model_2_results"
      ]
    },
    {
      "cell_type": "markdown",
      "metadata": {
        "id": "W0pYMBMl713g"
      },
      "source": [
        "❗ **Note**\n",
        "\n",
        "returned values for fscore , recall and precision are in shape of [2] which representing correct prediction percentage for `val_sentences` with target of 0 , 1 in order"
      ]
    },
    {
      "cell_type": "markdown",
      "metadata": {
        "id": "irLGngih71zc"
      },
      "source": [
        "### **model_3**\n",
        "\n",
        " GRU (Gated Recurrent Unit) Building an RNN using GRU"
      ]
    },
    {
      "cell_type": "code",
      "execution_count": null,
      "metadata": {
        "colab": {
          "base_uri": "https://localhost:8080/"
        },
        "id": "q6YzYSxl71us",
        "outputId": "2b6d6446-8d1a-43df-a80d-92f9f0b4b300"
      },
      "outputs": [
        {
          "name": "stdout",
          "output_type": "stream",
          "text": [
            "Saving TensorBoard log files to: text_problem/GRU model/20230911-121836\n",
            "Epoch 1/5\n",
            "215/215 [==============================] - 8s 19ms/step - loss: 0.3896 - accuracy: 0.8269 - val_loss: 0.5203 - val_accuracy: 0.7835\n",
            "Epoch 2/5\n",
            "215/215 [==============================] - 7s 33ms/step - loss: 0.3358 - accuracy: 0.8602 - val_loss: 0.5369 - val_accuracy: 0.7559\n",
            "Epoch 3/5\n",
            "215/215 [==============================] - 4s 18ms/step - loss: 0.3181 - accuracy: 0.8666 - val_loss: 0.5284 - val_accuracy: 0.7664\n",
            "Epoch 4/5\n",
            "215/215 [==============================] - 4s 20ms/step - loss: 0.2992 - accuracy: 0.8768 - val_loss: 0.5456 - val_accuracy: 0.7703\n",
            "Epoch 5/5\n",
            "215/215 [==============================] - 6s 26ms/step - loss: 0.2833 - accuracy: 0.8850 - val_loss: 0.5501 - val_accuracy: 0.7651\n"
          ]
        },
        {
          "data": {
            "text/plain": [
              "<keras.src.callbacks.History at 0x7fced892dcc0>"
            ]
          },
          "execution_count": 89,
          "metadata": {},
          "output_type": "execute_result"
        }
      ],
      "source": [
        "# Create model\n",
        "inputs = tf.keras.Input(shape = (1,) , dtype = tf.string , name = \"input_layer\")\n",
        "x = embedding(text_vectorizer(inputs))\n",
        "x = tf.keras.layers.GRU(64 , activation = tf.keras.activations.tanh)(x)\n",
        "outputs = tf.keras.layers.Dense(1 , activation = tf.keras.activations.sigmoid , name = \"output_layer\")(x)\n",
        "model_3 = tf.keras.Model(inputs , outputs)\n",
        "\n",
        "# compile model\n",
        "model_3.compile(loss = tf.keras.losses.binary_crossentropy ,\n",
        "                optimizer = tf.keras.optimizers.Adam() ,\n",
        "                metrics = [\"accuracy\"])\n",
        "# fit model\n",
        "model_3.fit(epochs = 5,\n",
        "            x = train_sentences ,\n",
        "            y = train_lables ,\n",
        "            validation_data = (val_sentences , val_lables) ,\n",
        "            callbacks = [create_tensorboard_callback(dir_name = \"text_problem\" ,\n",
        "                                                     experiment_name = \"GRU model\")])"
      ]
    },
    {
      "cell_type": "code",
      "execution_count": null,
      "metadata": {
        "colab": {
          "base_uri": "https://localhost:8080/"
        },
        "id": "aweUL04h71tp",
        "outputId": "cc8dfbba-fec6-40d8-8739-7ec03d6cf778"
      },
      "outputs": [
        {
          "data": {
            "text/plain": [
              "(array([0., 0., 1., 0., 0.], dtype=float32), array([0, 0, 0, 0, 0]))"
            ]
          },
          "execution_count": 90,
          "metadata": {},
          "output_type": "execute_result"
        }
      ],
      "source": [
        "# making predictions\n",
        "model_3_pred = model_3.predict(val_sentences , verbose = 0)\n",
        "# turning prediction probilities to prediction lables\n",
        "model_3_pred = tf.squeeze(tf.round(model_3_pred))\n",
        "# A glance\n",
        "model_3_pred[-5:].numpy() , val_lables[-5:]"
      ]
    },
    {
      "cell_type": "code",
      "execution_count": null,
      "metadata": {
        "colab": {
          "base_uri": "https://localhost:8080/"
        },
        "id": "wowfJo7y6Mox",
        "outputId": "13297a68-2d8d-41f7-9555-9792824c0930"
      },
      "outputs": [
        {
          "data": {
            "text/plain": [
              "{'accuracy': 76.50918635170603,\n",
              " 'precision': 0.7704009597869741,\n",
              " 'recall': 0.756559220389805,\n",
              " 'fscore': 0.758595728639214}"
            ]
          },
          "execution_count": 91,
          "metadata": {},
          "output_type": "execute_result"
        }
      ],
      "source": [
        "model_3_results = acc_func(y_true = val_lables ,\n",
        "                           y_pred = model_3_pred.numpy())\n",
        "model_3_results"
      ]
    },
    {
      "cell_type": "markdown",
      "metadata": {
        "id": "JN2ECWq96Mnn"
      },
      "source": [
        "### **model_4**\n",
        "\n",
        " Bidirectional RNN model\n",
        "\n",
        "❗ **Note**\n",
        "\n",
        "we don't have `tanh` activation for our core layer"
      ]
    },
    {
      "cell_type": "code",
      "execution_count": null,
      "metadata": {
        "colab": {
          "base_uri": "https://localhost:8080/"
        },
        "id": "OOAltVkQ6Mj8",
        "outputId": "39eab899-7de5-4101-ab48-28a366595fb5"
      },
      "outputs": [
        {
          "name": "stdout",
          "output_type": "stream",
          "text": [
            "Saving TensorBoard log files to: text_problem/Bidirectional model/20230911-121906\n",
            "Epoch 1/5\n",
            "215/215 [==============================] - 15s 33ms/step - loss: 0.3575 - accuracy: 0.8516 - val_loss: 0.5613 - val_accuracy: 0.7638\n",
            "Epoch 2/5\n",
            "215/215 [==============================] - 7s 32ms/step - loss: 0.2912 - accuracy: 0.8825 - val_loss: 0.5873 - val_accuracy: 0.7625\n",
            "Epoch 3/5\n",
            "215/215 [==============================] - 6s 26ms/step - loss: 0.2749 - accuracy: 0.8894 - val_loss: 0.6139 - val_accuracy: 0.7493\n",
            "Epoch 4/5\n",
            "215/215 [==============================] - 11s 49ms/step - loss: 0.2519 - accuracy: 0.8999 - val_loss: 0.6337 - val_accuracy: 0.7559\n",
            "Epoch 5/5\n",
            "215/215 [==============================] - 13s 59ms/step - loss: 0.2357 - accuracy: 0.9045 - val_loss: 0.7074 - val_accuracy: 0.7480\n"
          ]
        },
        {
          "data": {
            "text/plain": [
              "<keras.src.callbacks.History at 0x7fcee5679a50>"
            ]
          },
          "execution_count": 92,
          "metadata": {},
          "output_type": "execute_result"
        }
      ],
      "source": [
        "# create model\n",
        "inputs = tf.keras.Input(shape = (1,) , dtype = tf.string , name = \"input_layer\")\n",
        "x = embedding(text_vectorizer(inputs))\n",
        "x = tf.keras.layers.Bidirectional(tf.keras.layers.LSTM(64))(x)\n",
        "outputs = tf.keras.layers.Dense(1 , activation = \"sigmoid\" , name = \"output_layer\")(x)\n",
        "model_4 = tf.keras.Model(inputs , outputs)\n",
        "# compile model\n",
        "model_4.compile(loss = tf.keras.losses.binary_crossentropy ,\n",
        "                optimizer = tf.keras.optimizers.Adam() ,\n",
        "                metrics = [\"accuracy\"])\n",
        "# fit model\n",
        "model_4.fit(epochs = 5 ,\n",
        "            x = train_sentences ,\n",
        "            y = train_lables ,\n",
        "            validation_data = (val_sentences , val_lables) ,\n",
        "            callbacks = [create_tensorboard_callback(dir_name = \"text_problem\" ,\n",
        "                                                     experiment_name = \"Bidirectional model\")])"
      ]
    },
    {
      "cell_type": "code",
      "execution_count": null,
      "metadata": {
        "colab": {
          "base_uri": "https://localhost:8080/"
        },
        "id": "aYRK9vW46Miy",
        "outputId": "87d1a7de-9303-47bd-d2b4-09c14e6e12f7"
      },
      "outputs": [
        {
          "data": {
            "text/plain": [
              "(array([1., 1., 1., 0., 0.], dtype=float32), array([0, 0, 0, 0, 0]))"
            ]
          },
          "execution_count": 93,
          "metadata": {},
          "output_type": "execute_result"
        }
      ],
      "source": [
        "# make prediction\n",
        "model_4_pred = model_4.predict(val_sentences , verbose = 0)\n",
        "# turning prediction lables to prediction lables\n",
        "model_4_pred = tf.squeeze(tf.round(model_4_pred))\n",
        "# A glance\n",
        "model_4_pred [-5:].numpy() , val_lables[-5:]"
      ]
    },
    {
      "cell_type": "code",
      "execution_count": null,
      "metadata": {
        "colab": {
          "base_uri": "https://localhost:8080/"
        },
        "id": "uuDfWfnX6MfX",
        "outputId": "2da4249f-a4ee-4ac6-ed80-8f512b575577"
      },
      "outputs": [
        {
          "data": {
            "text/plain": [
              "{'accuracy': 74.80314960629921,\n",
              " 'precision': 0.7483333333333333,\n",
              " 'recall': 0.7420039980009996,\n",
              " 'fscore': 0.7434343434343434}"
            ]
          },
          "execution_count": 94,
          "metadata": {},
          "output_type": "execute_result"
        }
      ],
      "source": [
        "model_4_results = acc_func(y_true = val_lables ,\n",
        "                           y_pred = model_4_pred)\n",
        "model_4_results"
      ]
    },
    {
      "cell_type": "markdown",
      "metadata": {
        "id": "Dxxb76uA6MeN"
      },
      "source": [
        "### **model_5**\n",
        "\n",
        " Conv1D layer"
      ]
    },
    {
      "cell_type": "code",
      "execution_count": null,
      "metadata": {
        "colab": {
          "base_uri": "https://localhost:8080/"
        },
        "id": "Y-nd5S5_TbjV",
        "outputId": "e3bc339a-55dd-4180-d67a-455a8ae667c8"
      },
      "outputs": [
        {
          "name": "stdout",
          "output_type": "stream",
          "text": [
            "Saving TensorBoard log files to: text_problem/Conv 1D/20230911-122037\n",
            "Epoch 1/5\n",
            "215/215 [==============================] - 5s 17ms/step - loss: 0.3748 - accuracy: 0.8374 - val_loss: 0.5544 - val_accuracy: 0.7651\n",
            "Epoch 2/5\n",
            "215/215 [==============================] - 3s 13ms/step - loss: 0.3374 - accuracy: 0.8583 - val_loss: 0.5699 - val_accuracy: 0.7572\n",
            "Epoch 3/5\n",
            "215/215 [==============================] - 3s 14ms/step - loss: 0.3112 - accuracy: 0.8726 - val_loss: 0.5953 - val_accuracy: 0.7612\n",
            "Epoch 4/5\n",
            "215/215 [==============================] - 3s 13ms/step - loss: 0.2883 - accuracy: 0.8835 - val_loss: 0.6011 - val_accuracy: 0.7651\n",
            "Epoch 5/5\n",
            "215/215 [==============================] - 3s 16ms/step - loss: 0.2580 - accuracy: 0.8997 - val_loss: 0.6146 - val_accuracy: 0.7585\n"
          ]
        },
        {
          "data": {
            "text/plain": [
              "<keras.src.callbacks.History at 0x7fced7141b70>"
            ]
          },
          "execution_count": 95,
          "metadata": {},
          "output_type": "execute_result"
        }
      ],
      "source": [
        "from keras.src import callbacks\n",
        "# create model\n",
        "inputs = tf.keras.Input(shape = (1,) , dtype = tf.string , name = \"input_layer\")\n",
        "x = embedding(text_vectorizer(inputs))\n",
        "x = tf.keras.layers.Conv1D(filters = 32 , kernel_size = 5 , activation = \"relu\")(x)\n",
        "x = tf.keras.layers.GlobalMaxPool1D(name = \"global_max_pool_1d\")(x)\n",
        "outputs = tf.keras.layers.Dense(1 , activation = \"sigmoid\" , name = \"output_layer\")(x)\n",
        "model_5 = tf.keras.Model(inputs , outputs)\n",
        "# compile model\n",
        "model_5.compile(loss = tf.keras.losses.binary_crossentropy ,\n",
        "                optimizer = tf.keras.optimizers.Adam() ,\n",
        "                metrics = [\"accuracy\"])\n",
        "# fit model\n",
        "model_5.fit(epochs = 5,\n",
        "            x = train_sentences ,\n",
        "            y = train_lables ,\n",
        "            batch_size = 32 ,\n",
        "            validation_data = (val_sentences , val_lables) ,\n",
        "            callbacks = [create_tensorboard_callback(dir_name = \"text_problem\" ,\n",
        "                                                     experiment_name = \"Conv 1D\")])"
      ]
    },
    {
      "cell_type": "code",
      "execution_count": null,
      "metadata": {
        "colab": {
          "base_uri": "https://localhost:8080/"
        },
        "id": "t5oIZmylTbni",
        "outputId": "a805e6af-c25c-4151-e7b3-a0f94ea30b1d"
      },
      "outputs": [
        {
          "data": {
            "text/plain": [
              "(array([0., 0., 1., 0., 0.], dtype=float32), array([0, 0, 0, 0, 0]))"
            ]
          },
          "execution_count": 96,
          "metadata": {},
          "output_type": "execute_result"
        }
      ],
      "source": [
        "# make prediction\n",
        "model_5_pred = model_5.predict(val_sentences , verbose = 0)\n",
        "# turning prediction probilities to prediction lables\n",
        "model_5_pred = tf.squeeze(tf.round(model_5_pred))\n",
        "# A glance\n",
        "model_5_pred[-5:].numpy() , val_lables[-5:]"
      ]
    },
    {
      "cell_type": "code",
      "execution_count": null,
      "metadata": {
        "colab": {
          "base_uri": "https://localhost:8080/"
        },
        "id": "9I2IXYHqTbsW",
        "outputId": "10d7bdb0-5b66-45ae-d5ff-1ca37585406c"
      },
      "outputs": [
        {
          "data": {
            "text/plain": [
              "{'accuracy': 75.8530183727034,\n",
              " 'precision': 0.7597688654957377,\n",
              " 'recall': 0.7521239380309845,\n",
              " 'fscore': 0.7537653141508374}"
            ]
          },
          "execution_count": 97,
          "metadata": {},
          "output_type": "execute_result"
        }
      ],
      "source": [
        "model_5_results = acc_func(y_true = val_lables ,\n",
        "                           y_pred = model_5_pred)\n",
        "model_5_results"
      ]
    },
    {
      "cell_type": "markdown",
      "metadata": {
        "id": "ygBSE_jqTbwY"
      },
      "source": [
        "### **model_6**  \n",
        "\n",
        " Tensorflow Hun Pretrained Universal Sentence Encoder (USE)"
      ]
    },
    {
      "cell_type": "code",
      "execution_count": null,
      "metadata": {
        "colab": {
          "base_uri": "https://localhost:8080/"
        },
        "id": "MiR46PAmTb0s",
        "outputId": "97023665-e266-4583-f4c7-cb610500f080"
      },
      "outputs": [
        {
          "name": "stdout",
          "output_type": "stream",
          "text": [
            "Saving TensorBoard log files to: text_problem/tenserflow_hub pretrained model/20230911-125737\n",
            "Epoch 1/5\n",
            "215/215 [==============================] - 14s 41ms/step - loss: 0.5000 - accuracy: 0.7825 - val_loss: 0.4500 - val_accuracy: 0.8005\n",
            "Epoch 2/5\n",
            "215/215 [==============================] - 5s 24ms/step - loss: 0.4147 - accuracy: 0.8139 - val_loss: 0.4409 - val_accuracy: 0.8110\n",
            "Epoch 3/5\n",
            "215/215 [==============================] - 3s 14ms/step - loss: 0.4017 - accuracy: 0.8215 - val_loss: 0.4358 - val_accuracy: 0.8163\n",
            "Epoch 4/5\n",
            "215/215 [==============================] - 4s 18ms/step - loss: 0.3927 - accuracy: 0.8278 - val_loss: 0.4347 - val_accuracy: 0.8110\n",
            "Epoch 5/5\n",
            "215/215 [==============================] - 3s 13ms/step - loss: 0.3866 - accuracy: 0.8283 - val_loss: 0.4357 - val_accuracy: 0.8150\n"
          ]
        },
        {
          "data": {
            "text/plain": [
              "<keras.src.callbacks.History at 0x7fce4f4d2500>"
            ]
          },
          "execution_count": 111,
          "metadata": {},
          "output_type": "execute_result"
        }
      ],
      "source": [
        "# Imports\n",
        "import tensorflow_hub as hub\n",
        "# preparing encoder layer\n",
        "sentence_encoder_layer = hub.KerasLayer(\"https://tfhub.dev/google/universal-sentence-encoder/4\" ,\n",
        "                                        input_shape = [] ,\n",
        "                                        dtype = tf.string ,\n",
        "                                        trainable = False ,\n",
        "                                        name = \"USE\")\n",
        "# create model\n",
        "model_6 = tf.keras.Sequential([\n",
        "    sentence_encoder_layer ,\n",
        "    tf.keras.layers.Dense(64 , activation = \"relu\") ,\n",
        "    tf.keras.layers.Dense(1 , activation = \"sigmoid\" , name = \"output_layer\")\n",
        "] , name = \"model_6\")\n",
        "\n",
        "# compile model\n",
        "model_6.compile(loss = tf.keras.losses.binary_crossentropy ,\n",
        "                optimizer = tf.keras.optimizers.Adam() ,\n",
        "                metrics = [\"accuracy\"])\n",
        "\n",
        "# fit model\n",
        "model_6.fit(epochs = 5 ,\n",
        "            x = train_sentences ,\n",
        "            y = train_lables ,\n",
        "            validation_data = (val_sentences , val_lables) ,\n",
        "            callbacks = [create_tensorboard_callback(dir_name = \"text_problem\" ,\n",
        "                                                     experiment_name = \"tenserflow_hub pretrained model\")])"
      ]
    },
    {
      "cell_type": "code",
      "execution_count": null,
      "metadata": {
        "colab": {
          "base_uri": "https://localhost:8080/"
        },
        "id": "pK5AJxLiTb4Z",
        "outputId": "0bb9d779-0304-4c1b-d9eb-4332bb1dc5f4"
      },
      "outputs": [
        {
          "data": {
            "text/plain": [
              "(array([0., 0., 1., 1., 0.], dtype=float32), array([0, 0, 0, 0, 0]))"
            ]
          },
          "execution_count": 101,
          "metadata": {},
          "output_type": "execute_result"
        }
      ],
      "source": [
        "# make prediction\n",
        "model_6_pred = model_6.predict(val_sentences , verbose = 0)\n",
        "# turning prediction probilities to prediction lables\n",
        "model_6_pred = tf.squeeze(tf.round(model_6_pred))\n",
        "# A glance\n",
        "model_6_pred[-5:].numpy() , val_lables[-5:]"
      ]
    },
    {
      "cell_type": "code",
      "execution_count": null,
      "metadata": {
        "colab": {
          "base_uri": "https://localhost:8080/"
        },
        "id": "DAe2vmorTb8M",
        "outputId": "b2d316b2-ce09-413d-c2fe-d9bb3f86419b"
      },
      "outputs": [
        {
          "data": {
            "text/plain": [
              "{'accuracy': 81.10236220472441,\n",
              " 'precision': 0.8146929824561404,\n",
              " 'recall': 0.8047851074462768,\n",
              " 'fscore': 0.8071496361910788}"
            ]
          },
          "execution_count": 103,
          "metadata": {},
          "output_type": "execute_result"
        }
      ],
      "source": [
        "model_6_results = acc_func(y_pred = model_6_pred ,\n",
        "                           y_true = val_lables)\n",
        "\n",
        "model_6_results"
      ]
    },
    {
      "cell_type": "markdown",
      "metadata": {
        "id": "eNIamFZjTcAK"
      },
      "source": [
        "### **model_7**\n",
        "\n",
        "TF Hub Pretrained model on 10% of training data\n",
        "\n",
        "❗ **Note**\n",
        "\n",
        "in spliting datasets we must be aware of data leakage for example not using the main data like `train_df` for picking 10% of data because we pick the validation data from this data set and cause data leakage from test dataset to train dataset"
      ]
    },
    {
      "cell_type": "code",
      "execution_count": null,
      "metadata": {
        "id": "caQfL6eWTcEC"
      },
      "outputs": [],
      "source": [
        "# prepare data\n",
        "split_border = int(len(train_sentences)/10)\n",
        "train_sentences_10 = train_sentences[:split_border]\n",
        "train_lables_10 = train_lables[:split_border]"
      ]
    },
    {
      "cell_type": "code",
      "execution_count": null,
      "metadata": {
        "colab": {
          "base_uri": "https://localhost:8080/"
        },
        "id": "To22jXxYTcH8",
        "outputId": "cf22ccd5-1286-40b7-8ecb-e9f0a7f7410c"
      },
      "outputs": [
        {
          "data": {
            "text/plain": [
              "0    406\n",
              "1    279\n",
              "dtype: int64"
            ]
          },
          "execution_count": 108,
          "metadata": {},
          "output_type": "execute_result"
        }
      ],
      "source": [
        "pd.Series(np.array(train_lables_10)).value_counts()"
      ]
    },
    {
      "cell_type": "code",
      "execution_count": null,
      "metadata": {
        "colab": {
          "background_save": true
        },
        "id": "dOjKdjZ7TcL1",
        "outputId": "c7a55b53-b739-4f4b-831b-9b0536639937"
      },
      "outputs": [
        {
          "name": "stdout",
          "output_type": "stream",
          "text": [
            "Saving TensorBoard log files to: text_problem/TF Hub with 10% data/20230911-131218\n",
            "Epoch 1/5\n",
            "22/22 [==============================] - 4s 48ms/step - loss: 0.6700 - accuracy: 0.6788 - val_loss: 0.6458 - val_accuracy: 0.7454\n",
            "Epoch 2/5\n",
            "22/22 [==============================] - 1s 27ms/step - loss: 0.5992 - accuracy: 0.7869 - val_loss: 0.5879 - val_accuracy: 0.7612\n",
            "Epoch 3/5\n",
            "22/22 [==============================] - 1s 27ms/step - loss: 0.5232 - accuracy: 0.8117 - val_loss: 0.5315 - val_accuracy: 0.7743\n",
            "Epoch 4/5\n",
            "22/22 [==============================] - 1s 27ms/step - loss: 0.4610 - accuracy: 0.8248 - val_loss: 0.5051 - val_accuracy: 0.7730\n",
            "Epoch 5/5\n",
            "22/22 [==============================] - 1s 27ms/step - loss: 0.4199 - accuracy: 0.8307 - val_loss: 0.4880 - val_accuracy: 0.7782\n"
          ]
        },
        {
          "data": {
            "text/plain": [
              "<keras.src.callbacks.History at 0x7fcef4b59de0>"
            ]
          },
          "execution_count": 121,
          "metadata": {},
          "output_type": "execute_result"
        }
      ],
      "source": [
        "# create model\n",
        "model_7  = tf.keras.models.clone_model(model_6)\n",
        "model_7.name = \"model_7\"\n",
        "compile model\n",
        "model_7.compile(loss = tf.keras.losses.binary_crossentropy ,\n",
        "                optimizer = tf.keras.optimizers.Adam() ,\n",
        "                metrics = [\"accuracy\"])\n",
        "# fit model\n",
        "model_7.fit(epochs = 5 ,\n",
        "            x = train_sentences_10 ,\n",
        "            y = train_lables_10 ,\n",
        "            validation_data = (val_sentences , val_lables) ,\n",
        "            callbacks = [create_tensorboard_callback(dir_name = \"text_problem\",\n",
        "                                                     experiment_name = \"TF Hub with 10% data\")])"
      ]
    },
    {
      "cell_type": "code",
      "execution_count": null,
      "metadata": {
        "colab": {
          "base_uri": "https://localhost:8080/"
        },
        "id": "sqVIKxIsTcQC",
        "outputId": "f63900c7-bb5b-4b81-8662-f4f0298410e1"
      },
      "outputs": [
        {
          "name": "stdout",
          "output_type": "stream",
          "text": [
            "Model: \"model_7\"\n",
            "_________________________________________________________________\n",
            " Layer (type)                Output Shape              Param #   \n",
            "=================================================================\n",
            " USE (KerasLayer)            (None, 512)               256797824 \n",
            "                                                                 \n",
            " dense_2 (Dense)             (None, 64)                32832     \n",
            "                                                                 \n",
            " output_layer (Dense)        (None, 1)                 65        \n",
            "                                                                 \n",
            "=================================================================\n",
            "Total params: 256830721 (979.73 MB)\n",
            "Trainable params: 32897 (128.50 KB)\n",
            "Non-trainable params: 256797824 (979.61 MB)\n",
            "_________________________________________________________________\n"
          ]
        }
      ],
      "source": [
        "model_7.summary()"
      ]
    },
    {
      "cell_type": "code",
      "execution_count": null,
      "metadata": {
        "id": "Njcnq2HlTcT1",
        "colab": {
          "base_uri": "https://localhost:8080/"
        },
        "outputId": "72f1a111-aec5-4ec4-c78f-d5eb8d59925f"
      },
      "outputs": [
        {
          "output_type": "execute_result",
          "data": {
            "text/plain": [
              "(array([0., 1., 1., 0., 1.], dtype=float32), array([0, 0, 1, 1, 1]))"
            ]
          },
          "metadata": {},
          "execution_count": 126
        }
      ],
      "source": [
        "# make prediction\n",
        "model_7_pred = model_7.predict(val_sentences , verbose = 0)\n",
        "# turn prediction probilities to prediction lables\n",
        "model_7_pred = tf.squeeze(tf.round(model_7_pred))\n",
        "# A glance\n",
        "model_7_pred[:5].numpy() , val_lables[:5]"
      ]
    },
    {
      "cell_type": "markdown",
      "source": [
        "❗ **Note**\n",
        "\n",
        "as we pick our data from beginig of `train_sentences` we must index from begining of `val_lables`"
      ],
      "metadata": {
        "id": "gCfT3flHTcX8"
      }
    },
    {
      "cell_type": "code",
      "source": [
        "model_7_results = acc_func(y_true = val_lables ,\n",
        "                           y_pred = model_7_pred)\n",
        "model_7_results"
      ],
      "metadata": {
        "colab": {
          "base_uri": "https://localhost:8080/"
        },
        "id": "Tb-64fICbRL3",
        "outputId": "1b41cb8a-4774-4a99-8376-8d301729e8af"
      },
      "execution_count": null,
      "outputs": [
        {
          "output_type": "execute_result",
          "data": {
            "text/plain": [
              "{'accuracy': 77.82152230971128,\n",
              " 'precision': 0.7800317194967745,\n",
              " 'recall': 0.7720722971847409,\n",
              " 'fscore': 0.7739225692963192}"
            ]
          },
          "metadata": {},
          "execution_count": 128
        }
      ]
    },
    {
      "cell_type": "markdown",
      "source": [
        "## Compare Performane of each model"
      ],
      "metadata": {
        "id": "wspElGK2bRQQ"
      }
    },
    {
      "cell_type": "code",
      "source": [
        "all_model_results = pd.DataFrame({\n",
        "    \"0_baseline\" : model_0_results ,\n",
        "    \"1_forward_feed\" : model_1_results ,\n",
        "    \"2_ LSTM\" : model_2_results ,\n",
        "    \"3_GRU\" : model_3_results ,\n",
        "    \"4_bidirectional\" : model_4_results ,\n",
        "    \"5_Conv1D\" : model_5_results ,\n",
        "    \"6_TF_HUB_USE\" : model_6_results ,\n",
        "    \"7_TF_HUB_USE_10\" : model_7_results\n",
        "})\n",
        "all_model_results = all_model_results.transpose()\n",
        "all_model_results"
      ],
      "metadata": {
        "colab": {
          "base_uri": "https://localhost:8080/",
          "height": 300
        },
        "id": "m0V19fYJclEj",
        "outputId": "0b531510-519c-4ef5-e6e3-12a224cdf230"
      },
      "execution_count": null,
      "outputs": [
        {
          "output_type": "execute_result",
          "data": {
            "text/plain": [
              "                  accuracy  precision    recall    fscore\n",
              "0_baseline       79.265092   0.817120  0.779402  0.782057\n",
              "1_forward_feed   78.346457   0.794883  0.773238  0.775788\n",
              "2_ LSTM          77.034121   0.770456  0.765284  0.766715\n",
              "3_GRU            76.509186   0.770401  0.756559  0.758596\n",
              "4_bidirectional  74.803150   0.748333  0.742004  0.743434\n",
              "5_Conv1D         75.853018   0.759769  0.752124  0.753765\n",
              "6_TF_HUB_USE     81.102362   0.814693  0.804785  0.807150\n",
              "7_TF_HUB_USE_10  77.821522   0.780032  0.772072  0.773923"
            ],
            "text/html": [
              "\n",
              "  <div id=\"df-525312d0-3459-43f9-b008-0c6691df7789\" class=\"colab-df-container\">\n",
              "    <div>\n",
              "<style scoped>\n",
              "    .dataframe tbody tr th:only-of-type {\n",
              "        vertical-align: middle;\n",
              "    }\n",
              "\n",
              "    .dataframe tbody tr th {\n",
              "        vertical-align: top;\n",
              "    }\n",
              "\n",
              "    .dataframe thead th {\n",
              "        text-align: right;\n",
              "    }\n",
              "</style>\n",
              "<table border=\"1\" class=\"dataframe\">\n",
              "  <thead>\n",
              "    <tr style=\"text-align: right;\">\n",
              "      <th></th>\n",
              "      <th>accuracy</th>\n",
              "      <th>precision</th>\n",
              "      <th>recall</th>\n",
              "      <th>fscore</th>\n",
              "    </tr>\n",
              "  </thead>\n",
              "  <tbody>\n",
              "    <tr>\n",
              "      <th>0_baseline</th>\n",
              "      <td>79.265092</td>\n",
              "      <td>0.817120</td>\n",
              "      <td>0.779402</td>\n",
              "      <td>0.782057</td>\n",
              "    </tr>\n",
              "    <tr>\n",
              "      <th>1_forward_feed</th>\n",
              "      <td>78.346457</td>\n",
              "      <td>0.794883</td>\n",
              "      <td>0.773238</td>\n",
              "      <td>0.775788</td>\n",
              "    </tr>\n",
              "    <tr>\n",
              "      <th>2_ LSTM</th>\n",
              "      <td>77.034121</td>\n",
              "      <td>0.770456</td>\n",
              "      <td>0.765284</td>\n",
              "      <td>0.766715</td>\n",
              "    </tr>\n",
              "    <tr>\n",
              "      <th>3_GRU</th>\n",
              "      <td>76.509186</td>\n",
              "      <td>0.770401</td>\n",
              "      <td>0.756559</td>\n",
              "      <td>0.758596</td>\n",
              "    </tr>\n",
              "    <tr>\n",
              "      <th>4_bidirectional</th>\n",
              "      <td>74.803150</td>\n",
              "      <td>0.748333</td>\n",
              "      <td>0.742004</td>\n",
              "      <td>0.743434</td>\n",
              "    </tr>\n",
              "    <tr>\n",
              "      <th>5_Conv1D</th>\n",
              "      <td>75.853018</td>\n",
              "      <td>0.759769</td>\n",
              "      <td>0.752124</td>\n",
              "      <td>0.753765</td>\n",
              "    </tr>\n",
              "    <tr>\n",
              "      <th>6_TF_HUB_USE</th>\n",
              "      <td>81.102362</td>\n",
              "      <td>0.814693</td>\n",
              "      <td>0.804785</td>\n",
              "      <td>0.807150</td>\n",
              "    </tr>\n",
              "    <tr>\n",
              "      <th>7_TF_HUB_USE_10</th>\n",
              "      <td>77.821522</td>\n",
              "      <td>0.780032</td>\n",
              "      <td>0.772072</td>\n",
              "      <td>0.773923</td>\n",
              "    </tr>\n",
              "  </tbody>\n",
              "</table>\n",
              "</div>\n",
              "    <div class=\"colab-df-buttons\">\n",
              "\n",
              "  <div class=\"colab-df-container\">\n",
              "    <button class=\"colab-df-convert\" onclick=\"convertToInteractive('df-525312d0-3459-43f9-b008-0c6691df7789')\"\n",
              "            title=\"Convert this dataframe to an interactive table.\"\n",
              "            style=\"display:none;\">\n",
              "\n",
              "  <svg xmlns=\"http://www.w3.org/2000/svg\" height=\"24px\" viewBox=\"0 -960 960 960\">\n",
              "    <path d=\"M120-120v-720h720v720H120Zm60-500h600v-160H180v160Zm220 220h160v-160H400v160Zm0 220h160v-160H400v160ZM180-400h160v-160H180v160Zm440 0h160v-160H620v160ZM180-180h160v-160H180v160Zm440 0h160v-160H620v160Z\"/>\n",
              "  </svg>\n",
              "    </button>\n",
              "\n",
              "  <style>\n",
              "    .colab-df-container {\n",
              "      display:flex;\n",
              "      gap: 12px;\n",
              "    }\n",
              "\n",
              "    .colab-df-convert {\n",
              "      background-color: #E8F0FE;\n",
              "      border: none;\n",
              "      border-radius: 50%;\n",
              "      cursor: pointer;\n",
              "      display: none;\n",
              "      fill: #1967D2;\n",
              "      height: 32px;\n",
              "      padding: 0 0 0 0;\n",
              "      width: 32px;\n",
              "    }\n",
              "\n",
              "    .colab-df-convert:hover {\n",
              "      background-color: #E2EBFA;\n",
              "      box-shadow: 0px 1px 2px rgba(60, 64, 67, 0.3), 0px 1px 3px 1px rgba(60, 64, 67, 0.15);\n",
              "      fill: #174EA6;\n",
              "    }\n",
              "\n",
              "    .colab-df-buttons div {\n",
              "      margin-bottom: 4px;\n",
              "    }\n",
              "\n",
              "    [theme=dark] .colab-df-convert {\n",
              "      background-color: #3B4455;\n",
              "      fill: #D2E3FC;\n",
              "    }\n",
              "\n",
              "    [theme=dark] .colab-df-convert:hover {\n",
              "      background-color: #434B5C;\n",
              "      box-shadow: 0px 1px 3px 1px rgba(0, 0, 0, 0.15);\n",
              "      filter: drop-shadow(0px 1px 2px rgba(0, 0, 0, 0.3));\n",
              "      fill: #FFFFFF;\n",
              "    }\n",
              "  </style>\n",
              "\n",
              "    <script>\n",
              "      const buttonEl =\n",
              "        document.querySelector('#df-525312d0-3459-43f9-b008-0c6691df7789 button.colab-df-convert');\n",
              "      buttonEl.style.display =\n",
              "        google.colab.kernel.accessAllowed ? 'block' : 'none';\n",
              "\n",
              "      async function convertToInteractive(key) {\n",
              "        const element = document.querySelector('#df-525312d0-3459-43f9-b008-0c6691df7789');\n",
              "        const dataTable =\n",
              "          await google.colab.kernel.invokeFunction('convertToInteractive',\n",
              "                                                    [key], {});\n",
              "        if (!dataTable) return;\n",
              "\n",
              "        const docLinkHtml = 'Like what you see? Visit the ' +\n",
              "          '<a target=\"_blank\" href=https://colab.research.google.com/notebooks/data_table.ipynb>data table notebook</a>'\n",
              "          + ' to learn more about interactive tables.';\n",
              "        element.innerHTML = '';\n",
              "        dataTable['output_type'] = 'display_data';\n",
              "        await google.colab.output.renderOutput(dataTable, element);\n",
              "        const docLink = document.createElement('div');\n",
              "        docLink.innerHTML = docLinkHtml;\n",
              "        element.appendChild(docLink);\n",
              "      }\n",
              "    </script>\n",
              "  </div>\n",
              "\n",
              "\n",
              "<div id=\"df-a18353ce-6ad1-47eb-9835-8154bf6a062e\">\n",
              "  <button class=\"colab-df-quickchart\" onclick=\"quickchart('df-a18353ce-6ad1-47eb-9835-8154bf6a062e')\"\n",
              "            title=\"Suggest charts.\"\n",
              "            style=\"display:none;\">\n",
              "\n",
              "<svg xmlns=\"http://www.w3.org/2000/svg\" height=\"24px\"viewBox=\"0 0 24 24\"\n",
              "     width=\"24px\">\n",
              "    <g>\n",
              "        <path d=\"M19 3H5c-1.1 0-2 .9-2 2v14c0 1.1.9 2 2 2h14c1.1 0 2-.9 2-2V5c0-1.1-.9-2-2-2zM9 17H7v-7h2v7zm4 0h-2V7h2v10zm4 0h-2v-4h2v4z\"/>\n",
              "    </g>\n",
              "</svg>\n",
              "  </button>\n",
              "\n",
              "<style>\n",
              "  .colab-df-quickchart {\n",
              "      --bg-color: #E8F0FE;\n",
              "      --fill-color: #1967D2;\n",
              "      --hover-bg-color: #E2EBFA;\n",
              "      --hover-fill-color: #174EA6;\n",
              "      --disabled-fill-color: #AAA;\n",
              "      --disabled-bg-color: #DDD;\n",
              "  }\n",
              "\n",
              "  [theme=dark] .colab-df-quickchart {\n",
              "      --bg-color: #3B4455;\n",
              "      --fill-color: #D2E3FC;\n",
              "      --hover-bg-color: #434B5C;\n",
              "      --hover-fill-color: #FFFFFF;\n",
              "      --disabled-bg-color: #3B4455;\n",
              "      --disabled-fill-color: #666;\n",
              "  }\n",
              "\n",
              "  .colab-df-quickchart {\n",
              "    background-color: var(--bg-color);\n",
              "    border: none;\n",
              "    border-radius: 50%;\n",
              "    cursor: pointer;\n",
              "    display: none;\n",
              "    fill: var(--fill-color);\n",
              "    height: 32px;\n",
              "    padding: 0;\n",
              "    width: 32px;\n",
              "  }\n",
              "\n",
              "  .colab-df-quickchart:hover {\n",
              "    background-color: var(--hover-bg-color);\n",
              "    box-shadow: 0 1px 2px rgba(60, 64, 67, 0.3), 0 1px 3px 1px rgba(60, 64, 67, 0.15);\n",
              "    fill: var(--button-hover-fill-color);\n",
              "  }\n",
              "\n",
              "  .colab-df-quickchart-complete:disabled,\n",
              "  .colab-df-quickchart-complete:disabled:hover {\n",
              "    background-color: var(--disabled-bg-color);\n",
              "    fill: var(--disabled-fill-color);\n",
              "    box-shadow: none;\n",
              "  }\n",
              "\n",
              "  .colab-df-spinner {\n",
              "    border: 2px solid var(--fill-color);\n",
              "    border-color: transparent;\n",
              "    border-bottom-color: var(--fill-color);\n",
              "    animation:\n",
              "      spin 1s steps(1) infinite;\n",
              "  }\n",
              "\n",
              "  @keyframes spin {\n",
              "    0% {\n",
              "      border-color: transparent;\n",
              "      border-bottom-color: var(--fill-color);\n",
              "      border-left-color: var(--fill-color);\n",
              "    }\n",
              "    20% {\n",
              "      border-color: transparent;\n",
              "      border-left-color: var(--fill-color);\n",
              "      border-top-color: var(--fill-color);\n",
              "    }\n",
              "    30% {\n",
              "      border-color: transparent;\n",
              "      border-left-color: var(--fill-color);\n",
              "      border-top-color: var(--fill-color);\n",
              "      border-right-color: var(--fill-color);\n",
              "    }\n",
              "    40% {\n",
              "      border-color: transparent;\n",
              "      border-right-color: var(--fill-color);\n",
              "      border-top-color: var(--fill-color);\n",
              "    }\n",
              "    60% {\n",
              "      border-color: transparent;\n",
              "      border-right-color: var(--fill-color);\n",
              "    }\n",
              "    80% {\n",
              "      border-color: transparent;\n",
              "      border-right-color: var(--fill-color);\n",
              "      border-bottom-color: var(--fill-color);\n",
              "    }\n",
              "    90% {\n",
              "      border-color: transparent;\n",
              "      border-bottom-color: var(--fill-color);\n",
              "    }\n",
              "  }\n",
              "</style>\n",
              "\n",
              "  <script>\n",
              "    async function quickchart(key) {\n",
              "      const quickchartButtonEl =\n",
              "        document.querySelector('#' + key + ' button');\n",
              "      quickchartButtonEl.disabled = true;  // To prevent multiple clicks.\n",
              "      quickchartButtonEl.classList.add('colab-df-spinner');\n",
              "      try {\n",
              "        const charts = await google.colab.kernel.invokeFunction(\n",
              "            'suggestCharts', [key], {});\n",
              "      } catch (error) {\n",
              "        console.error('Error during call to suggestCharts:', error);\n",
              "      }\n",
              "      quickchartButtonEl.classList.remove('colab-df-spinner');\n",
              "      quickchartButtonEl.classList.add('colab-df-quickchart-complete');\n",
              "    }\n",
              "    (() => {\n",
              "      let quickchartButtonEl =\n",
              "        document.querySelector('#df-a18353ce-6ad1-47eb-9835-8154bf6a062e button');\n",
              "      quickchartButtonEl.style.display =\n",
              "        google.colab.kernel.accessAllowed ? 'block' : 'none';\n",
              "    })();\n",
              "  </script>\n",
              "</div>\n",
              "    </div>\n",
              "  </div>\n"
            ]
          },
          "metadata": {},
          "execution_count": 150
        }
      ]
    },
    {
      "cell_type": "code",
      "source": [
        "# turning accuracy metric to same scale as other scales\n",
        "all_model_results[\"accuracy\"] = all_model_results[\"accuracy\"]/100\n",
        "# plot and compare all model results\n",
        "all_model_results.plot(kind = \"bar\" , figsize = (10,7)).legend(bbox_to_anchor = (1 ,1)) ;"
      ],
      "metadata": {
        "colab": {
          "base_uri": "https://localhost:8080/",
          "height": 714
        },
        "id": "q8nQYp0lbRUs",
        "outputId": "e58ee687-f802-4722-bd0d-2e6b951ae7f4"
      },
      "execution_count": null,
      "outputs": [
        {
          "output_type": "display_data",
          "data": {
            "text/plain": [
              "<Figure size 1000x700 with 1 Axes>"
            ],
            "image/png": "[encoded data removed]"
          },
          "metadata": {}
        }
      ]
    },
    {
      "cell_type": "code",
      "source": [
        "all_model_results.sort_values(\"fscore\" , ascending = False)[\"fscore\"].plot(kind = \"bar\" , figsize = (10,7)) ;"
      ],
      "metadata": {
        "colab": {
          "base_uri": "https://localhost:8080/",
          "height": 714
        },
        "id": "O04l08hDbRdM",
        "outputId": "fb6c08f7-63ea-4490-af38-40d5733b8c9e"
      },
      "execution_count": null,
      "outputs": [
        {
          "output_type": "display_data",
          "data": {
            "text/plain": [
              "<Figure size 1000x700 with 1 Axes>"
            ],
            "image/png": "[encoded data removed]"
          },
          "metadata": {}
        }
      ]
    },
    {
      "cell_type": "markdown",
      "source": [
        "## Uploading model results to TensorBoard"
      ],
      "metadata": {
        "id": "sv2c2va1bRhg"
      }
    },
    {
      "cell_type": "code",
      "source": [
        "!tensorboard dev upload --logdir ./text_problem/ \\\n",
        "  --name \"Text Encoding Problem\"\\\n",
        "  --description \"Looking through different models \"\\\n",
        "  --one_shot"
      ],
      "metadata": {
        "colab": {
          "base_uri": "https://localhost:8080/"
        },
        "id": "KgRzew2_bRlk",
        "outputId": "21d068ba-3f05-424b-f4b4-5c3f567a825b"
      },
      "execution_count": null,
      "outputs": [
        {
          "output_type": "stream",
          "name": "stdout",
          "text": [
            "2023-09-11 14:23:05.969644: W tensorflow/compiler/tf2tensorrt/utils/py_utils.cc:38] TF-TRT Warning: Could not find TensorRT\n",
            "\n",
            "***** TensorBoard Uploader *****\n",
            "\n",
            "This will upload your TensorBoard logs to https://tensorboard.dev/ from\n",
            "the following directory:\n",
            "\n",
            "./text_problem/\n",
            "\n",
            "This TensorBoard will be visible to everyone. Do not upload sensitive\n",
            "data.\n",
            "\n",
            "Your use of this service is subject to Google's Terms of Service\n",
            "<https://policies.google.com/terms> and Privacy Policy\n",
            "<https://policies.google.com/privacy>, and TensorBoard.dev's Terms of Service\n",
            "<https://tensorboard.dev/policy/terms/>.\n",
            "\n",
            "This notice will not be shown again while you are logged into the uploader.\n",
            "To log out, run `tensorboard dev auth revoke`.\n",
            "\n",
            "Continue? (yes/NO) yes\n",
            "\n",
            "To sign in with the TensorBoard uploader:\n",
            "\n",
            "1. On your computer or phone, visit:\n",
            "\n",
            "   https://www.google.com/device\n",
            "\n",
            "2. Sign in with your Google account, then enter:\n",
            "\n",
            "   YTF-QSD-WVW\n",
            "\n",
            "\n",
            "\n",
            "New experiment created. View your TensorBoard at: https://tensorboard.dev/experiment/EAEv4ltkQzesmWsXOL9D0w/\n",
            "\n",
            "\u001b[1m[2023-09-11T14:23:49]\u001b[0m Started scanning logdir.\n",
            "\u001b[1m[2023-09-11T14:24:05]\u001b[0m Total uploaded: 510 scalars, 0 tensors, 16 binary objects (7.7 MB)\n",
            "\u001b[1m[2023-09-11T14:24:05]\u001b[0m Done scanning logdir.\n",
            "\n",
            "\n",
            "Done. View your TensorBoard at https://tensorboard.dev/experiment/EAEv4ltkQzesmWsXOL9D0w/\n"
          ]
        }
      ]
    },
    {
      "cell_type": "code",
      "source": [
        "!tensorboard dev list"
      ],
      "metadata": {
        "colab": {
          "base_uri": "https://localhost:8080/"
        },
        "id": "heFQ88khoSxL",
        "outputId": "904a2481-6e53-465c-923f-93166f63d015"
      },
      "execution_count": null,
      "outputs": [
        {
          "output_type": "stream",
          "name": "stdout",
          "text": [
            "2023-09-11 14:24:47.885287: W tensorflow/compiler/tf2tensorrt/utils/py_utils.cc:38] TF-TRT Warning: Could not find TensorRT\n",
            "https://tensorboard.dev/experiment/EAEv4ltkQzesmWsXOL9D0w/\n",
            "\tName                 Text Encoding Problem\n",
            "\tDescription          Looking through different models \n",
            "\tId                   EAEv4ltkQzesmWsXOL9D0w\n",
            "\tCreated              2023-09-11 14:23:49 (1 minute ago)\n",
            "\tUpdated              2023-09-11 14:24:05 (45 seconds ago)\n",
            "\tRuns                 31\n",
            "\tTags                 5\n",
            "\tScalars              510\n",
            "\tTensor bytes         0\n",
            "\tBinary object bytes  8057551\n",
            "https://tensorboard.dev/experiment/lDHegysrRM2FwYkV6GDiKw/\n",
            "\tName                 transfer learning with fine tunning\n",
            "\tDescription          doing fine tunning on 10% and 100% of 10 classes of foof101 classes\n",
            "\tId                   lDHegysrRM2FwYkV6GDiKw\n",
            "\tCreated              2023-09-03 09:36:13\n",
            "\tUpdated              2023-09-03 09:36:14\n",
            "\tRuns                 2\n",
            "\tTags                 5\n",
            "\tScalars              36\n",
            "\tTensor bytes         0\n",
            "\tBinary object bytes  887005\n",
            "https://tensorboard.dev/experiment/xx5BuaHLQjiO7etRDeuoRw/\n",
            "\tName                 EfficientNetB0 vs. ResNet50V2\n",
            "\tDescription          Comparing two diffrent tensorflow hub feature extraction layer model architecture with 10% of 101 food data set\n",
            "\tId                   xx5BuaHLQjiO7etRDeuoRw\n",
            "\tCreated              2023-09-01 11:22:29\n",
            "\tUpdated              2023-09-01 11:22:34\n",
            "\tRuns                 4\n",
            "\tTags                 5\n",
            "\tScalars              60\n",
            "\tTensor bytes         0\n",
            "\tBinary object bytes  5934984\n",
            "Total: 3 experiment(s)\n"
          ]
        }
      ]
    },
    {
      "cell_type": "markdown",
      "source": [
        "## Saving and Loading a Trained model\n",
        "\n",
        "as we know there is two formats to download models :\n",
        "\n",
        "* `HDF5` format\n",
        "* `SaveModel` format"
      ],
      "metadata": {
        "id": "GmRy1scKbRqF"
      }
    },
    {
      "cell_type": "markdown",
      "source": [
        "### `HDF5` Format"
      ],
      "metadata": {
        "id": "NAmwC22wqTJA"
      }
    },
    {
      "cell_type": "code",
      "source": [
        "# save model\n",
        "model_6.save(\"model_6.h5\")"
      ],
      "metadata": {
        "id": "7qGmcju6bRuY"
      },
      "execution_count": null,
      "outputs": []
    },
    {
      "cell_type": "code",
      "source": [
        "# load model with Tensorflow hub layer (required for HDF5 format)\n",
        "model_6_loaded = tf.keras.models.load_model(\"model_6.h5\" ,\n",
        "                                            custom_objects = {\"KerasLayer\" : hub.KerasLayer})"
      ],
      "metadata": {
        "id": "PDV9d5nsqdSI"
      },
      "execution_count": null,
      "outputs": []
    },
    {
      "cell_type": "code",
      "source": [
        "# evaluate model\n",
        "model_6_loaded.evaluate(val_sentences , val_lables , verbose = 0)"
      ],
      "metadata": {
        "colab": {
          "base_uri": "https://localhost:8080/"
        },
        "id": "DpmwqOhsqdWm",
        "outputId": "43afbc37-1f41-4273-aeac-9c7a110d5afb"
      },
      "execution_count": null,
      "outputs": [
        {
          "output_type": "execute_result",
          "data": {
            "text/plain": [
              "[0.43574386835098267, 0.8149606585502625]"
            ]
          },
          "metadata": {},
          "execution_count": 164
        }
      ]
    },
    {
      "cell_type": "markdown",
      "source": [
        "### `SaveModel` Format"
      ],
      "metadata": {
        "id": "lhSM9JUybRym"
      }
    },
    {
      "cell_type": "code",
      "source": [
        "# save model\n",
        "model_6.save(\"model_6_SaveModel_format\")"
      ],
      "metadata": {
        "id": "7VbdwjefbR2v"
      },
      "execution_count": null,
      "outputs": []
    },
    {
      "cell_type": "code",
      "source": [
        "# Load model\n",
        "loaded_model_6_SaveModel = tf.keras.models.load_model(\"model_6_SaveModel_format\")"
      ],
      "metadata": {
        "id": "fqzhWfU1bR7P"
      },
      "execution_count": null,
      "outputs": []
    },
    {
      "cell_type": "code",
      "source": [
        "# evaluate model\n",
        "loaded_model_6_SaveModel.evaluate(val_sentences , val_lables , verbose = 0)"
      ],
      "metadata": {
        "colab": {
          "base_uri": "https://localhost:8080/"
        },
        "id": "3fGC7c3TwzN2",
        "outputId": "3e6347a5-f816-4611-86fb-525388d38c31"
      },
      "execution_count": null,
      "outputs": [
        {
          "output_type": "execute_result",
          "data": {
            "text/plain": [
              "[0.43574386835098267, 0.8149606585502625]"
            ]
          },
          "metadata": {},
          "execution_count": 168
        }
      ]
    },
    {
      "cell_type": "markdown",
      "source": [
        "## Finding Most Wrong Answers\n",
        "\n",
        "⚡ Tip\n",
        "\n",
        "Actully for finding the most wrong answers we use the prediction probily amount in the way that as much as it is closer to opposit target label it is more wrong answer"
      ],
      "metadata": {
        "id": "3QAAZQb4xOQX"
      }
    },
    {
      "cell_type": "code",
      "source": [
        "!wget https://storage.googleapis.com/ztm_tf_course/08_model_6_USE_feature_extractor.zip\n",
        "!unzip 08_model_6_USE_feature_extractor.zip"
      ],
      "metadata": {
        "colab": {
          "base_uri": "https://localhost:8080/"
        },
        "id": "ho8t3jByxTMS",
        "outputId": "d9f9baea-7766-40af-caf5-90207665973c"
      },
      "execution_count": null,
      "outputs": [
        {
          "output_type": "stream",
          "name": "stdout",
          "text": [
            "--2023-09-11 15:15:40--  https://storage.googleapis.com/ztm_tf_course/08_model_6_USE_feature_extractor.zip\n",
            "Resolving storage.googleapis.com (storage.googleapis.com)... 172.217.203.207, 172.253.123.207, 142.250.97.207, ...\n",
            "Connecting to storage.googleapis.com (storage.googleapis.com)|172.217.203.207|:443... connected.\n",
            "HTTP request sent, awaiting response... 200 OK\n",
            "Length: 960779165 (916M) [application/zip]\n",
            "Saving to: ‘08_model_6_USE_feature_extractor.zip’\n",
            "\n",
            "08_model_6_USE_feat 100%[===================>] 916.27M  8.49MB/s    in 42s     \n",
            "\n",
            "2023-09-11 15:16:23 (21.7 MB/s) - ‘08_model_6_USE_feature_extractor.zip’ saved [960779165/960779165]\n",
            "\n",
            "Archive:  08_model_6_USE_feature_extractor.zip\n",
            "   creating: 08_model_6_USE_feature_extractor/\n",
            "   creating: 08_model_6_USE_feature_extractor/assets/\n",
            "   creating: 08_model_6_USE_feature_extractor/variables/\n",
            "  inflating: 08_model_6_USE_feature_extractor/variables/variables.data-00000-of-00001  \n",
            "  inflating: 08_model_6_USE_feature_extractor/variables/variables.index  \n",
            "  inflating: 08_model_6_USE_feature_extractor/saved_model.pb  \n"
          ]
        }
      ]
    },
    {
      "cell_type": "code",
      "source": [
        "# load model\n",
        "pre_trained_model = tf.keras.models.load_model(\"08_model_6_USE_feature_extractor\")\n",
        "# evaluate model\n",
        "pre_trained_model.evaluate(val_sentences , val_lables , verbose = 0)"
      ],
      "metadata": {
        "colab": {
          "base_uri": "https://localhost:8080/"
        },
        "id": "ulfv0TAhxTHd",
        "outputId": "a2864313-77f9-4cec-d4dd-680fe692966a"
      },
      "execution_count": null,
      "outputs": [
        {
          "output_type": "stream",
          "name": "stderr",
          "text": [
            "WARNING:tensorflow:SavedModel saved prior to TF 2.5 detected when loading Keras model. Please ensure that you are saving the model with model.save() or tf.keras.models.save_model(), *NOT* tf.saved_model.save(). To confirm, there should be a file named \"keras_metadata.pb\" in the SavedModel directory.\n"
          ]
        },
        {
          "output_type": "stream",
          "name": "stdout",
          "text": [
            "24/24 [==============================] - 1s 12ms/step - loss: 0.4272 - accuracy: 0.8163\n"
          ]
        },
        {
          "output_type": "execute_result",
          "data": {
            "text/plain": [
              "[0.42723119258880615, 0.8162729740142822]"
            ]
          },
          "metadata": {},
          "execution_count": 171
        }
      ]
    },
    {
      "cell_type": "code",
      "source": [
        "pre_trained_model_pred_prob = pre_trained_model.predict(val_sentences ,verbose =0)\n",
        "pre_trained_model_pred_label = tf.squeeze(tf.round(pre_trained_model_pred_prob))"
      ],
      "metadata": {
        "colab": {
          "base_uri": "https://localhost:8080/"
        },
        "id": "sxZkL9SZxTGI",
        "outputId": "0fb2fc9c-0e25-4e99-899b-552e01da6972"
      },
      "execution_count": null,
      "outputs": [
        {
          "output_type": "stream",
          "name": "stdout",
          "text": [
            "24/24 [==============================] - 1s 11ms/step\n"
          ]
        }
      ]
    },
    {
      "cell_type": "code",
      "source": [
        "val_df = pd.DataFrame({\n",
        "    \"text\" : val_sentences ,\n",
        "    \"target\" : val_lables ,\n",
        "    \"pred_label\" : pre_trained_model_pred_label ,\n",
        "    \"pred_prob\" : tf.squeeze(pre_trained_model_pred_prob)\n",
        "})\n",
        "val_df.head()"
      ],
      "metadata": {
        "colab": {
          "base_uri": "https://localhost:8080/",
          "height": 206
        },
        "id": "MbWpfuKGxTCh",
        "outputId": "190971a7-cf1c-47b9-de4a-51c1e1c90751"
      },
      "execution_count": null,
      "outputs": [
        {
          "output_type": "execute_result",
          "data": {
            "text/plain": [
              "                                                text  target  pred_label  \\\n",
              "0  DFR EP016 Monthly Meltdown - On Dnbheaven 2015...       0         0.0   \n",
              "1  FedEx no longer to transport bioterror germs i...       0         1.0   \n",
              "2  Gunmen kill four in El Salvador bus attack: Su...       1         1.0   \n",
              "3  @camilacabello97 Internally and externally scr...       1         0.0   \n",
              "4  Radiation emergency #preparedness starts with ...       1         1.0   \n",
              "\n",
              "   pred_prob  \n",
              "0   0.159757  \n",
              "1   0.747162  \n",
              "2   0.988749  \n",
              "3   0.196229  \n",
              "4   0.707808  "
            ],
            "text/html": [
              "\n",
              "  <div id=\"df-ac1df3fb-5b88-44af-b8eb-f2e6616b97c9\" class=\"colab-df-container\">\n",
              "    <div>\n",
              "<style scoped>\n",
              "    .dataframe tbody tr th:only-of-type {\n",
              "        vertical-align: middle;\n",
              "    }\n",
              "\n",
              "    .dataframe tbody tr th {\n",
              "        vertical-align: top;\n",
              "    }\n",
              "\n",
              "    .dataframe thead th {\n",
              "        text-align: right;\n",
              "    }\n",
              "</style>\n",
              "<table border=\"1\" class=\"dataframe\">\n",
              "  <thead>\n",
              "    <tr style=\"text-align: right;\">\n",
              "      <th></th>\n",
              "      <th>text</th>\n",
              "      <th>target</th>\n",
              "      <th>pred_label</th>\n",
              "      <th>pred_prob</th>\n",
              "    </tr>\n",
              "  </thead>\n",
              "  <tbody>\n",
              "    <tr>\n",
              "      <th>0</th>\n",
              "      <td>DFR EP016 Monthly Meltdown - On Dnbheaven 2015...</td>\n",
              "      <td>0</td>\n",
              "      <td>0.0</td>\n",
              "      <td>0.159757</td>\n",
              "    </tr>\n",
              "    <tr>\n",
              "      <th>1</th>\n",
              "      <td>FedEx no longer to transport bioterror germs i...</td>\n",
              "      <td>0</td>\n",
              "      <td>1.0</td>\n",
              "      <td>0.747162</td>\n",
              "    </tr>\n",
              "    <tr>\n",
              "      <th>2</th>\n",
              "      <td>Gunmen kill four in El Salvador bus attack: Su...</td>\n",
              "      <td>1</td>\n",
              "      <td>1.0</td>\n",
              "      <td>0.988749</td>\n",
              "    </tr>\n",
              "    <tr>\n",
              "      <th>3</th>\n",
              "      <td>@camilacabello97 Internally and externally scr...</td>\n",
              "      <td>1</td>\n",
              "      <td>0.0</td>\n",
              "      <td>0.196229</td>\n",
              "    </tr>\n",
              "    <tr>\n",
              "      <th>4</th>\n",
              "      <td>Radiation emergency #preparedness starts with ...</td>\n",
              "      <td>1</td>\n",
              "      <td>1.0</td>\n",
              "      <td>0.707808</td>\n",
              "    </tr>\n",
              "  </tbody>\n",
              "</table>\n",
              "</div>\n",
              "    <div class=\"colab-df-buttons\">\n",
              "\n",
              "  <div class=\"colab-df-container\">\n",
              "    <button class=\"colab-df-convert\" onclick=\"convertToInteractive('df-ac1df3fb-5b88-44af-b8eb-f2e6616b97c9')\"\n",
              "            title=\"Convert this dataframe to an interactive table.\"\n",
              "            style=\"display:none;\">\n",
              "\n",
              "  <svg xmlns=\"http://www.w3.org/2000/svg\" height=\"24px\" viewBox=\"0 -960 960 960\">\n",
              "    <path d=\"M120-120v-720h720v720H120Zm60-500h600v-160H180v160Zm220 220h160v-160H400v160Zm0 220h160v-160H400v160ZM180-400h160v-160H180v160Zm440 0h160v-160H620v160ZM180-180h160v-160H180v160Zm440 0h160v-160H620v160Z\"/>\n",
              "  </svg>\n",
              "    </button>\n",
              "\n",
              "  <style>\n",
              "    .colab-df-container {\n",
              "      display:flex;\n",
              "      gap: 12px;\n",
              "    }\n",
              "\n",
              "    .colab-df-convert {\n",
              "      background-color: #E8F0FE;\n",
              "      border: none;\n",
              "      border-radius: 50%;\n",
              "      cursor: pointer;\n",
              "      display: none;\n",
              "      fill: #1967D2;\n",
              "      height: 32px;\n",
              "      padding: 0 0 0 0;\n",
              "      width: 32px;\n",
              "    }\n",
              "\n",
              "    .colab-df-convert:hover {\n",
              "      background-color: #E2EBFA;\n",
              "      box-shadow: 0px 1px 2px rgba(60, 64, 67, 0.3), 0px 1px 3px 1px rgba(60, 64, 67, 0.15);\n",
              "      fill: #174EA6;\n",
              "    }\n",
              "\n",
              "    .colab-df-buttons div {\n",
              "      margin-bottom: 4px;\n",
              "    }\n",
              "\n",
              "    [theme=dark] .colab-df-convert {\n",
              "      background-color: #3B4455;\n",
              "      fill: #D2E3FC;\n",
              "    }\n",
              "\n",
              "    [theme=dark] .colab-df-convert:hover {\n",
              "      background-color: #434B5C;\n",
              "      box-shadow: 0px 1px 3px 1px rgba(0, 0, 0, 0.15);\n",
              "      filter: drop-shadow(0px 1px 2px rgba(0, 0, 0, 0.3));\n",
              "      fill: #FFFFFF;\n",
              "    }\n",
              "  </style>\n",
              "\n",
              "    <script>\n",
              "      const buttonEl =\n",
              "        document.querySelector('#df-ac1df3fb-5b88-44af-b8eb-f2e6616b97c9 button.colab-df-convert');\n",
              "      buttonEl.style.display =\n",
              "        google.colab.kernel.accessAllowed ? 'block' : 'none';\n",
              "\n",
              "      async function convertToInteractive(key) {\n",
              "        const element = document.querySelector('#df-ac1df3fb-5b88-44af-b8eb-f2e6616b97c9');\n",
              "        const dataTable =\n",
              "          await google.colab.kernel.invokeFunction('convertToInteractive',\n",
              "                                                    [key], {});\n",
              "        if (!dataTable) return;\n",
              "\n",
              "        const docLinkHtml = 'Like what you see? Visit the ' +\n",
              "          '<a target=\"_blank\" href=https://colab.research.google.com/notebooks/data_table.ipynb>data table notebook</a>'\n",
              "          + ' to learn more about interactive tables.';\n",
              "        element.innerHTML = '';\n",
              "        dataTable['output_type'] = 'display_data';\n",
              "        await google.colab.output.renderOutput(dataTable, element);\n",
              "        const docLink = document.createElement('div');\n",
              "        docLink.innerHTML = docLinkHtml;\n",
              "        element.appendChild(docLink);\n",
              "      }\n",
              "    </script>\n",
              "  </div>\n",
              "\n",
              "\n",
              "<div id=\"df-8f73c7b5-0230-4a13-8da3-20c233c5bf49\">\n",
              "  <button class=\"colab-df-quickchart\" onclick=\"quickchart('df-8f73c7b5-0230-4a13-8da3-20c233c5bf49')\"\n",
              "            title=\"Suggest charts.\"\n",
              "            style=\"display:none;\">\n",
              "\n",
              "<svg xmlns=\"http://www.w3.org/2000/svg\" height=\"24px\"viewBox=\"0 0 24 24\"\n",
              "     width=\"24px\">\n",
              "    <g>\n",
              "        <path d=\"M19 3H5c-1.1 0-2 .9-2 2v14c0 1.1.9 2 2 2h14c1.1 0 2-.9 2-2V5c0-1.1-.9-2-2-2zM9 17H7v-7h2v7zm4 0h-2V7h2v10zm4 0h-2v-4h2v4z\"/>\n",
              "    </g>\n",
              "</svg>\n",
              "  </button>\n",
              "\n",
              "<style>\n",
              "  .colab-df-quickchart {\n",
              "      --bg-color: #E8F0FE;\n",
              "      --fill-color: #1967D2;\n",
              "      --hover-bg-color: #E2EBFA;\n",
              "      --hover-fill-color: #174EA6;\n",
              "      --disabled-fill-color: #AAA;\n",
              "      --disabled-bg-color: #DDD;\n",
              "  }\n",
              "\n",
              "  [theme=dark] .colab-df-quickchart {\n",
              "      --bg-color: #3B4455;\n",
              "      --fill-color: #D2E3FC;\n",
              "      --hover-bg-color: #434B5C;\n",
              "      --hover-fill-color: #FFFFFF;\n",
              "      --disabled-bg-color: #3B4455;\n",
              "      --disabled-fill-color: #666;\n",
              "  }\n",
              "\n",
              "  .colab-df-quickchart {\n",
              "    background-color: var(--bg-color);\n",
              "    border: none;\n",
              "    border-radius: 50%;\n",
              "    cursor: pointer;\n",
              "    display: none;\n",
              "    fill: var(--fill-color);\n",
              "    height: 32px;\n",
              "    padding: 0;\n",
              "    width: 32px;\n",
              "  }\n",
              "\n",
              "  .colab-df-quickchart:hover {\n",
              "    background-color: var(--hover-bg-color);\n",
              "    box-shadow: 0 1px 2px rgba(60, 64, 67, 0.3), 0 1px 3px 1px rgba(60, 64, 67, 0.15);\n",
              "    fill: var(--button-hover-fill-color);\n",
              "  }\n",
              "\n",
              "  .colab-df-quickchart-complete:disabled,\n",
              "  .colab-df-quickchart-complete:disabled:hover {\n",
              "    background-color: var(--disabled-bg-color);\n",
              "    fill: var(--disabled-fill-color);\n",
              "    box-shadow: none;\n",
              "  }\n",
              "\n",
              "  .colab-df-spinner {\n",
              "    border: 2px solid var(--fill-color);\n",
              "    border-color: transparent;\n",
              "    border-bottom-color: var(--fill-color);\n",
              "    animation:\n",
              "      spin 1s steps(1) infinite;\n",
              "  }\n",
              "\n",
              "  @keyframes spin {\n",
              "    0% {\n",
              "      border-color: transparent;\n",
              "      border-bottom-color: var(--fill-color);\n",
              "      border-left-color: var(--fill-color);\n",
              "    }\n",
              "    20% {\n",
              "      border-color: transparent;\n",
              "      border-left-color: var(--fill-color);\n",
              "      border-top-color: var(--fill-color);\n",
              "    }\n",
              "    30% {\n",
              "      border-color: transparent;\n",
              "      border-left-color: var(--fill-color);\n",
              "      border-top-color: var(--fill-color);\n",
              "      border-right-color: var(--fill-color);\n",
              "    }\n",
              "    40% {\n",
              "      border-color: transparent;\n",
              "      border-right-color: var(--fill-color);\n",
              "      border-top-color: var(--fill-color);\n",
              "    }\n",
              "    60% {\n",
              "      border-color: transparent;\n",
              "      border-right-color: var(--fill-color);\n",
              "    }\n",
              "    80% {\n",
              "      border-color: transparent;\n",
              "      border-right-color: var(--fill-color);\n",
              "      border-bottom-color: var(--fill-color);\n",
              "    }\n",
              "    90% {\n",
              "      border-color: transparent;\n",
              "      border-bottom-color: var(--fill-color);\n",
              "    }\n",
              "  }\n",
              "</style>\n",
              "\n",
              "  <script>\n",
              "    async function quickchart(key) {\n",
              "      const quickchartButtonEl =\n",
              "        document.querySelector('#' + key + ' button');\n",
              "      quickchartButtonEl.disabled = true;  // To prevent multiple clicks.\n",
              "      quickchartButtonEl.classList.add('colab-df-spinner');\n",
              "      try {\n",
              "        const charts = await google.colab.kernel.invokeFunction(\n",
              "            'suggestCharts', [key], {});\n",
              "      } catch (error) {\n",
              "        console.error('Error during call to suggestCharts:', error);\n",
              "      }\n",
              "      quickchartButtonEl.classList.remove('colab-df-spinner');\n",
              "      quickchartButtonEl.classList.add('colab-df-quickchart-complete');\n",
              "    }\n",
              "    (() => {\n",
              "      let quickchartButtonEl =\n",
              "        document.querySelector('#df-8f73c7b5-0230-4a13-8da3-20c233c5bf49 button');\n",
              "      quickchartButtonEl.style.display =\n",
              "        google.colab.kernel.accessAllowed ? 'block' : 'none';\n",
              "    })();\n",
              "  </script>\n",
              "</div>\n",
              "    </div>\n",
              "  </div>\n"
            ]
          },
          "metadata": {},
          "execution_count": 185
        }
      ]
    },
    {
      "cell_type": "code",
      "source": [
        "# most wrong answers\n",
        "most_wrong = val_df[val_df['pred_label'] != val_df['pred_prob']].sort_values(\"pred_prob\" , ascending = False).head()\n",
        "most_wrong"
      ],
      "metadata": {
        "colab": {
          "base_uri": "https://localhost:8080/",
          "height": 206
        },
        "id": "cvWachpjxTBL",
        "outputId": "f5ea6825-1ff8-495f-bb22-cf672de6c756"
      },
      "execution_count": null,
      "outputs": [
        {
          "output_type": "execute_result",
          "data": {
            "text/plain": [
              "                                                  text  target  pred_label  \\\n",
              "90   Dramatic Video Shows Plane Landing During Viol...       1         1.0   \n",
              "179  beforeitsnews : Hundreds feared dead after Lib...       1         1.0   \n",
              "166  BBC News - India rail crash: Trains derail in ...       1         1.0   \n",
              "257  USGS reports a M1.94 #earthquake 5km S of Volc...       1         1.0   \n",
              "395  The Catastrophic Effects of Hiroshima and Naga...       1         1.0   \n",
              "\n",
              "     pred_prob  \n",
              "90    0.995807  \n",
              "179   0.994646  \n",
              "166   0.993717  \n",
              "257   0.992790  \n",
              "395   0.991882  "
            ],
            "text/html": [
              "\n",
              "  <div id=\"df-65113a64-7506-4419-879f-08aa9fdfd9eb\" class=\"colab-df-container\">\n",
              "    <div>\n",
              "<style scoped>\n",
              "    .dataframe tbody tr th:only-of-type {\n",
              "        vertical-align: middle;\n",
              "    }\n",
              "\n",
              "    .dataframe tbody tr th {\n",
              "        vertical-align: top;\n",
              "    }\n",
              "\n",
              "    .dataframe thead th {\n",
              "        text-align: right;\n",
              "    }\n",
              "</style>\n",
              "<table border=\"1\" class=\"dataframe\">\n",
              "  <thead>\n",
              "    <tr style=\"text-align: right;\">\n",
              "      <th></th>\n",
              "      <th>text</th>\n",
              "      <th>target</th>\n",
              "      <th>pred_label</th>\n",
              "      <th>pred_prob</th>\n",
              "    </tr>\n",
              "  </thead>\n",
              "  <tbody>\n",
              "    <tr>\n",
              "      <th>90</th>\n",
              "      <td>Dramatic Video Shows Plane Landing During Viol...</td>\n",
              "      <td>1</td>\n",
              "      <td>1.0</td>\n",
              "      <td>0.995807</td>\n",
              "    </tr>\n",
              "    <tr>\n",
              "      <th>179</th>\n",
              "      <td>beforeitsnews : Hundreds feared dead after Lib...</td>\n",
              "      <td>1</td>\n",
              "      <td>1.0</td>\n",
              "      <td>0.994646</td>\n",
              "    </tr>\n",
              "    <tr>\n",
              "      <th>166</th>\n",
              "      <td>BBC News - India rail crash: Trains derail in ...</td>\n",
              "      <td>1</td>\n",
              "      <td>1.0</td>\n",
              "      <td>0.993717</td>\n",
              "    </tr>\n",
              "    <tr>\n",
              "      <th>257</th>\n",
              "      <td>USGS reports a M1.94 #earthquake 5km S of Volc...</td>\n",
              "      <td>1</td>\n",
              "      <td>1.0</td>\n",
              "      <td>0.992790</td>\n",
              "    </tr>\n",
              "    <tr>\n",
              "      <th>395</th>\n",
              "      <td>The Catastrophic Effects of Hiroshima and Naga...</td>\n",
              "      <td>1</td>\n",
              "      <td>1.0</td>\n",
              "      <td>0.991882</td>\n",
              "    </tr>\n",
              "  </tbody>\n",
              "</table>\n",
              "</div>\n",
              "    <div class=\"colab-df-buttons\">\n",
              "\n",
              "  <div class=\"colab-df-container\">\n",
              "    <button class=\"colab-df-convert\" onclick=\"convertToInteractive('df-65113a64-7506-4419-879f-08aa9fdfd9eb')\"\n",
              "            title=\"Convert this dataframe to an interactive table.\"\n",
              "            style=\"display:none;\">\n",
              "\n",
              "  <svg xmlns=\"http://www.w3.org/2000/svg\" height=\"24px\" viewBox=\"0 -960 960 960\">\n",
              "    <path d=\"M120-120v-720h720v720H120Zm60-500h600v-160H180v160Zm220 220h160v-160H400v160Zm0 220h160v-160H400v160ZM180-400h160v-160H180v160Zm440 0h160v-160H620v160ZM180-180h160v-160H180v160Zm440 0h160v-160H620v160Z\"/>\n",
              "  </svg>\n",
              "    </button>\n",
              "\n",
              "  <style>\n",
              "    .colab-df-container {\n",
              "      display:flex;\n",
              "      gap: 12px;\n",
              "    }\n",
              "\n",
              "    .colab-df-convert {\n",
              "      background-color: #E8F0FE;\n",
              "      border: none;\n",
              "      border-radius: 50%;\n",
              "      cursor: pointer;\n",
              "      display: none;\n",
              "      fill: #1967D2;\n",
              "      height: 32px;\n",
              "      padding: 0 0 0 0;\n",
              "      width: 32px;\n",
              "    }\n",
              "\n",
              "    .colab-df-convert:hover {\n",
              "      background-color: #E2EBFA;\n",
              "      box-shadow: 0px 1px 2px rgba(60, 64, 67, 0.3), 0px 1px 3px 1px rgba(60, 64, 67, 0.15);\n",
              "      fill: #174EA6;\n",
              "    }\n",
              "\n",
              "    .colab-df-buttons div {\n",
              "      margin-bottom: 4px;\n",
              "    }\n",
              "\n",
              "    [theme=dark] .colab-df-convert {\n",
              "      background-color: #3B4455;\n",
              "      fill: #D2E3FC;\n",
              "    }\n",
              "\n",
              "    [theme=dark] .colab-df-convert:hover {\n",
              "      background-color: #434B5C;\n",
              "      box-shadow: 0px 1px 3px 1px rgba(0, 0, 0, 0.15);\n",
              "      filter: drop-shadow(0px 1px 2px rgba(0, 0, 0, 0.3));\n",
              "      fill: #FFFFFF;\n",
              "    }\n",
              "  </style>\n",
              "\n",
              "    <script>\n",
              "      const buttonEl =\n",
              "        document.querySelector('#df-65113a64-7506-4419-879f-08aa9fdfd9eb button.colab-df-convert');\n",
              "      buttonEl.style.display =\n",
              "        google.colab.kernel.accessAllowed ? 'block' : 'none';\n",
              "\n",
              "      async function convertToInteractive(key) {\n",
              "        const element = document.querySelector('#df-65113a64-7506-4419-879f-08aa9fdfd9eb');\n",
              "        const dataTable =\n",
              "          await google.colab.kernel.invokeFunction('convertToInteractive',\n",
              "                                                    [key], {});\n",
              "        if (!dataTable) return;\n",
              "\n",
              "        const docLinkHtml = 'Like what you see? Visit the ' +\n",
              "          '<a target=\"_blank\" href=https://colab.research.google.com/notebooks/data_table.ipynb>data table notebook</a>'\n",
              "          + ' to learn more about interactive tables.';\n",
              "        element.innerHTML = '';\n",
              "        dataTable['output_type'] = 'display_data';\n",
              "        await google.colab.output.renderOutput(dataTable, element);\n",
              "        const docLink = document.createElement('div');\n",
              "        docLink.innerHTML = docLinkHtml;\n",
              "        element.appendChild(docLink);\n",
              "      }\n",
              "    </script>\n",
              "  </div>\n",
              "\n",
              "\n",
              "<div id=\"df-4af04753-b3d2-48b1-bad3-dc2e6346aee7\">\n",
              "  <button class=\"colab-df-quickchart\" onclick=\"quickchart('df-4af04753-b3d2-48b1-bad3-dc2e6346aee7')\"\n",
              "            title=\"Suggest charts.\"\n",
              "            style=\"display:none;\">\n",
              "\n",
              "<svg xmlns=\"http://www.w3.org/2000/svg\" height=\"24px\"viewBox=\"0 0 24 24\"\n",
              "     width=\"24px\">\n",
              "    <g>\n",
              "        <path d=\"M19 3H5c-1.1 0-2 .9-2 2v14c0 1.1.9 2 2 2h14c1.1 0 2-.9 2-2V5c0-1.1-.9-2-2-2zM9 17H7v-7h2v7zm4 0h-2V7h2v10zm4 0h-2v-4h2v4z\"/>\n",
              "    </g>\n",
              "</svg>\n",
              "  </button>\n",
              "\n",
              "<style>\n",
              "  .colab-df-quickchart {\n",
              "      --bg-color: #E8F0FE;\n",
              "      --fill-color: #1967D2;\n",
              "      --hover-bg-color: #E2EBFA;\n",
              "      --hover-fill-color: #174EA6;\n",
              "      --disabled-fill-color: #AAA;\n",
              "      --disabled-bg-color: #DDD;\n",
              "  }\n",
              "\n",
              "  [theme=dark] .colab-df-quickchart {\n",
              "      --bg-color: #3B4455;\n",
              "      --fill-color: #D2E3FC;\n",
              "      --hover-bg-color: #434B5C;\n",
              "      --hover-fill-color: #FFFFFF;\n",
              "      --disabled-bg-color: #3B4455;\n",
              "      --disabled-fill-color: #666;\n",
              "  }\n",
              "\n",
              "  .colab-df-quickchart {\n",
              "    background-color: var(--bg-color);\n",
              "    border: none;\n",
              "    border-radius: 50%;\n",
              "    cursor: pointer;\n",
              "    display: none;\n",
              "    fill: var(--fill-color);\n",
              "    height: 32px;\n",
              "    padding: 0;\n",
              "    width: 32px;\n",
              "  }\n",
              "\n",
              "  .colab-df-quickchart:hover {\n",
              "    background-color: var(--hover-bg-color);\n",
              "    box-shadow: 0 1px 2px rgba(60, 64, 67, 0.3), 0 1px 3px 1px rgba(60, 64, 67, 0.15);\n",
              "    fill: var(--button-hover-fill-color);\n",
              "  }\n",
              "\n",
              "  .colab-df-quickchart-complete:disabled,\n",
              "  .colab-df-quickchart-complete:disabled:hover {\n",
              "    background-color: var(--disabled-bg-color);\n",
              "    fill: var(--disabled-fill-color);\n",
              "    box-shadow: none;\n",
              "  }\n",
              "\n",
              "  .colab-df-spinner {\n",
              "    border: 2px solid var(--fill-color);\n",
              "    border-color: transparent;\n",
              "    border-bottom-color: var(--fill-color);\n",
              "    animation:\n",
              "      spin 1s steps(1) infinite;\n",
              "  }\n",
              "\n",
              "  @keyframes spin {\n",
              "    0% {\n",
              "      border-color: transparent;\n",
              "      border-bottom-color: var(--fill-color);\n",
              "      border-left-color: var(--fill-color);\n",
              "    }\n",
              "    20% {\n",
              "      border-color: transparent;\n",
              "      border-left-color: var(--fill-color);\n",
              "      border-top-color: var(--fill-color);\n",
              "    }\n",
              "    30% {\n",
              "      border-color: transparent;\n",
              "      border-left-color: var(--fill-color);\n",
              "      border-top-color: var(--fill-color);\n",
              "      border-right-color: var(--fill-color);\n",
              "    }\n",
              "    40% {\n",
              "      border-color: transparent;\n",
              "      border-right-color: var(--fill-color);\n",
              "      border-top-color: var(--fill-color);\n",
              "    }\n",
              "    60% {\n",
              "      border-color: transparent;\n",
              "      border-right-color: var(--fill-color);\n",
              "    }\n",
              "    80% {\n",
              "      border-color: transparent;\n",
              "      border-right-color: var(--fill-color);\n",
              "      border-bottom-color: var(--fill-color);\n",
              "    }\n",
              "    90% {\n",
              "      border-color: transparent;\n",
              "      border-bottom-color: var(--fill-color);\n",
              "    }\n",
              "  }\n",
              "</style>\n",
              "\n",
              "  <script>\n",
              "    async function quickchart(key) {\n",
              "      const quickchartButtonEl =\n",
              "        document.querySelector('#' + key + ' button');\n",
              "      quickchartButtonEl.disabled = true;  // To prevent multiple clicks.\n",
              "      quickchartButtonEl.classList.add('colab-df-spinner');\n",
              "      try {\n",
              "        const charts = await google.colab.kernel.invokeFunction(\n",
              "            'suggestCharts', [key], {});\n",
              "      } catch (error) {\n",
              "        console.error('Error during call to suggestCharts:', error);\n",
              "      }\n",
              "      quickchartButtonEl.classList.remove('colab-df-spinner');\n",
              "      quickchartButtonEl.classList.add('colab-df-quickchart-complete');\n",
              "    }\n",
              "    (() => {\n",
              "      let quickchartButtonEl =\n",
              "        document.querySelector('#df-4af04753-b3d2-48b1-bad3-dc2e6346aee7 button');\n",
              "      quickchartButtonEl.style.display =\n",
              "        google.colab.kernel.accessAllowed ? 'block' : 'none';\n",
              "    })();\n",
              "  </script>\n",
              "</div>\n",
              "    </div>\n",
              "  </div>\n"
            ]
          },
          "metadata": {},
          "execution_count": 189
        }
      ]
    },
    {
      "cell_type": "code",
      "source": [
        "# most correct answers\n",
        "most_correct = val_df[val_df['pred_label'] != val_df['pred_prob']].sort_values(\"pred_prob\" , ascending = True).head()\n",
        "most_correct"
      ],
      "metadata": {
        "colab": {
          "base_uri": "https://localhost:8080/",
          "height": 206
        },
        "id": "ZRgaEtoYxS9x",
        "outputId": "8e32e459-0942-4c9a-cd82-982c0c97db56"
      },
      "execution_count": null,
      "outputs": [
        {
          "output_type": "execute_result",
          "data": {
            "text/plain": [
              "                                                  text  target  pred_label  \\\n",
              "593  Season 3 of New Girl was such a emotional trai...       0         0.0   \n",
              "713        I hate that Im so awkward and I ruin things       0         0.0   \n",
              "717  Some days I drown in my tears but I don't let ...       0         0.0   \n",
              "589                my vibrator shaped vape done busted       0         0.0   \n",
              "369  If you fill your mind with encouragement and p...       0         0.0   \n",
              "\n",
              "     pred_prob  \n",
              "593   0.012896  \n",
              "713   0.020455  \n",
              "717   0.022529  \n",
              "589   0.023994  \n",
              "369   0.025258  "
            ],
            "text/html": [
              "\n",
              "  <div id=\"df-607668f7-cb4c-47d1-9a9f-5e7148d1733f\" class=\"colab-df-container\">\n",
              "    <div>\n",
              "<style scoped>\n",
              "    .dataframe tbody tr th:only-of-type {\n",
              "        vertical-align: middle;\n",
              "    }\n",
              "\n",
              "    .dataframe tbody tr th {\n",
              "        vertical-align: top;\n",
              "    }\n",
              "\n",
              "    .dataframe thead th {\n",
              "        text-align: right;\n",
              "    }\n",
              "</style>\n",
              "<table border=\"1\" class=\"dataframe\">\n",
              "  <thead>\n",
              "    <tr style=\"text-align: right;\">\n",
              "      <th></th>\n",
              "      <th>text</th>\n",
              "      <th>target</th>\n",
              "      <th>pred_label</th>\n",
              "      <th>pred_prob</th>\n",
              "    </tr>\n",
              "  </thead>\n",
              "  <tbody>\n",
              "    <tr>\n",
              "      <th>593</th>\n",
              "      <td>Season 3 of New Girl was such a emotional trai...</td>\n",
              "      <td>0</td>\n",
              "      <td>0.0</td>\n",
              "      <td>0.012896</td>\n",
              "    </tr>\n",
              "    <tr>\n",
              "      <th>713</th>\n",
              "      <td>I hate that Im so awkward and I ruin things</td>\n",
              "      <td>0</td>\n",
              "      <td>0.0</td>\n",
              "      <td>0.020455</td>\n",
              "    </tr>\n",
              "    <tr>\n",
              "      <th>717</th>\n",
              "      <td>Some days I drown in my tears but I don't let ...</td>\n",
              "      <td>0</td>\n",
              "      <td>0.0</td>\n",
              "      <td>0.022529</td>\n",
              "    </tr>\n",
              "    <tr>\n",
              "      <th>589</th>\n",
              "      <td>my vibrator shaped vape done busted</td>\n",
              "      <td>0</td>\n",
              "      <td>0.0</td>\n",
              "      <td>0.023994</td>\n",
              "    </tr>\n",
              "    <tr>\n",
              "      <th>369</th>\n",
              "      <td>If you fill your mind with encouragement and p...</td>\n",
              "      <td>0</td>\n",
              "      <td>0.0</td>\n",
              "      <td>0.025258</td>\n",
              "    </tr>\n",
              "  </tbody>\n",
              "</table>\n",
              "</div>\n",
              "    <div class=\"colab-df-buttons\">\n",
              "\n",
              "  <div class=\"colab-df-container\">\n",
              "    <button class=\"colab-df-convert\" onclick=\"convertToInteractive('df-607668f7-cb4c-47d1-9a9f-5e7148d1733f')\"\n",
              "            title=\"Convert this dataframe to an interactive table.\"\n",
              "            style=\"display:none;\">\n",
              "\n",
              "  <svg xmlns=\"http://www.w3.org/2000/svg\" height=\"24px\" viewBox=\"0 -960 960 960\">\n",
              "    <path d=\"M120-120v-720h720v720H120Zm60-500h600v-160H180v160Zm220 220h160v-160H400v160Zm0 220h160v-160H400v160ZM180-400h160v-160H180v160Zm440 0h160v-160H620v160ZM180-180h160v-160H180v160Zm440 0h160v-160H620v160Z\"/>\n",
              "  </svg>\n",
              "    </button>\n",
              "\n",
              "  <style>\n",
              "    .colab-df-container {\n",
              "      display:flex;\n",
              "      gap: 12px;\n",
              "    }\n",
              "\n",
              "    .colab-df-convert {\n",
              "      background-color: #E8F0FE;\n",
              "      border: none;\n",
              "      border-radius: 50%;\n",
              "      cursor: pointer;\n",
              "      display: none;\n",
              "      fill: #1967D2;\n",
              "      height: 32px;\n",
              "      padding: 0 0 0 0;\n",
              "      width: 32px;\n",
              "    }\n",
              "\n",
              "    .colab-df-convert:hover {\n",
              "      background-color: #E2EBFA;\n",
              "      box-shadow: 0px 1px 2px rgba(60, 64, 67, 0.3), 0px 1px 3px 1px rgba(60, 64, 67, 0.15);\n",
              "      fill: #174EA6;\n",
              "    }\n",
              "\n",
              "    .colab-df-buttons div {\n",
              "      margin-bottom: 4px;\n",
              "    }\n",
              "\n",
              "    [theme=dark] .colab-df-convert {\n",
              "      background-color: #3B4455;\n",
              "      fill: #D2E3FC;\n",
              "    }\n",
              "\n",
              "    [theme=dark] .colab-df-convert:hover {\n",
              "      background-color: #434B5C;\n",
              "      box-shadow: 0px 1px 3px 1px rgba(0, 0, 0, 0.15);\n",
              "      filter: drop-shadow(0px 1px 2px rgba(0, 0, 0, 0.3));\n",
              "      fill: #FFFFFF;\n",
              "    }\n",
              "  </style>\n",
              "\n",
              "    <script>\n",
              "      const buttonEl =\n",
              "        document.querySelector('#df-607668f7-cb4c-47d1-9a9f-5e7148d1733f button.colab-df-convert');\n",
              "      buttonEl.style.display =\n",
              "        google.colab.kernel.accessAllowed ? 'block' : 'none';\n",
              "\n",
              "      async function convertToInteractive(key) {\n",
              "        const element = document.querySelector('#df-607668f7-cb4c-47d1-9a9f-5e7148d1733f');\n",
              "        const dataTable =\n",
              "          await google.colab.kernel.invokeFunction('convertToInteractive',\n",
              "                                                    [key], {});\n",
              "        if (!dataTable) return;\n",
              "\n",
              "        const docLinkHtml = 'Like what you see? Visit the ' +\n",
              "          '<a target=\"_blank\" href=https://colab.research.google.com/notebooks/data_table.ipynb>data table notebook</a>'\n",
              "          + ' to learn more about interactive tables.';\n",
              "        element.innerHTML = '';\n",
              "        dataTable['output_type'] = 'display_data';\n",
              "        await google.colab.output.renderOutput(dataTable, element);\n",
              "        const docLink = document.createElement('div');\n",
              "        docLink.innerHTML = docLinkHtml;\n",
              "        element.appendChild(docLink);\n",
              "      }\n",
              "    </script>\n",
              "  </div>\n",
              "\n",
              "\n",
              "<div id=\"df-ff682864-1cb7-43cd-92ee-fcf0f7616869\">\n",
              "  <button class=\"colab-df-quickchart\" onclick=\"quickchart('df-ff682864-1cb7-43cd-92ee-fcf0f7616869')\"\n",
              "            title=\"Suggest charts.\"\n",
              "            style=\"display:none;\">\n",
              "\n",
              "<svg xmlns=\"http://www.w3.org/2000/svg\" height=\"24px\"viewBox=\"0 0 24 24\"\n",
              "     width=\"24px\">\n",
              "    <g>\n",
              "        <path d=\"M19 3H5c-1.1 0-2 .9-2 2v14c0 1.1.9 2 2 2h14c1.1 0 2-.9 2-2V5c0-1.1-.9-2-2-2zM9 17H7v-7h2v7zm4 0h-2V7h2v10zm4 0h-2v-4h2v4z\"/>\n",
              "    </g>\n",
              "</svg>\n",
              "  </button>\n",
              "\n",
              "<style>\n",
              "  .colab-df-quickchart {\n",
              "      --bg-color: #E8F0FE;\n",
              "      --fill-color: #1967D2;\n",
              "      --hover-bg-color: #E2EBFA;\n",
              "      --hover-fill-color: #174EA6;\n",
              "      --disabled-fill-color: #AAA;\n",
              "      --disabled-bg-color: #DDD;\n",
              "  }\n",
              "\n",
              "  [theme=dark] .colab-df-quickchart {\n",
              "      --bg-color: #3B4455;\n",
              "      --fill-color: #D2E3FC;\n",
              "      --hover-bg-color: #434B5C;\n",
              "      --hover-fill-color: #FFFFFF;\n",
              "      --disabled-bg-color: #3B4455;\n",
              "      --disabled-fill-color: #666;\n",
              "  }\n",
              "\n",
              "  .colab-df-quickchart {\n",
              "    background-color: var(--bg-color);\n",
              "    border: none;\n",
              "    border-radius: 50%;\n",
              "    cursor: pointer;\n",
              "    display: none;\n",
              "    fill: var(--fill-color);\n",
              "    height: 32px;\n",
              "    padding: 0;\n",
              "    width: 32px;\n",
              "  }\n",
              "\n",
              "  .colab-df-quickchart:hover {\n",
              "    background-color: var(--hover-bg-color);\n",
              "    box-shadow: 0 1px 2px rgba(60, 64, 67, 0.3), 0 1px 3px 1px rgba(60, 64, 67, 0.15);\n",
              "    fill: var(--button-hover-fill-color);\n",
              "  }\n",
              "\n",
              "  .colab-df-quickchart-complete:disabled,\n",
              "  .colab-df-quickchart-complete:disabled:hover {\n",
              "    background-color: var(--disabled-bg-color);\n",
              "    fill: var(--disabled-fill-color);\n",
              "    box-shadow: none;\n",
              "  }\n",
              "\n",
              "  .colab-df-spinner {\n",
              "    border: 2px solid var(--fill-color);\n",
              "    border-color: transparent;\n",
              "    border-bottom-color: var(--fill-color);\n",
              "    animation:\n",
              "      spin 1s steps(1) infinite;\n",
              "  }\n",
              "\n",
              "  @keyframes spin {\n",
              "    0% {\n",
              "      border-color: transparent;\n",
              "      border-bottom-color: var(--fill-color);\n",
              "      border-left-color: var(--fill-color);\n",
              "    }\n",
              "    20% {\n",
              "      border-color: transparent;\n",
              "      border-left-color: var(--fill-color);\n",
              "      border-top-color: var(--fill-color);\n",
              "    }\n",
              "    30% {\n",
              "      border-color: transparent;\n",
              "      border-left-color: var(--fill-color);\n",
              "      border-top-color: var(--fill-color);\n",
              "      border-right-color: var(--fill-color);\n",
              "    }\n",
              "    40% {\n",
              "      border-color: transparent;\n",
              "      border-right-color: var(--fill-color);\n",
              "      border-top-color: var(--fill-color);\n",
              "    }\n",
              "    60% {\n",
              "      border-color: transparent;\n",
              "      border-right-color: var(--fill-color);\n",
              "    }\n",
              "    80% {\n",
              "      border-color: transparent;\n",
              "      border-right-color: var(--fill-color);\n",
              "      border-bottom-color: var(--fill-color);\n",
              "    }\n",
              "    90% {\n",
              "      border-color: transparent;\n",
              "      border-bottom-color: var(--fill-color);\n",
              "    }\n",
              "  }\n",
              "</style>\n",
              "\n",
              "  <script>\n",
              "    async function quickchart(key) {\n",
              "      const quickchartButtonEl =\n",
              "        document.querySelector('#' + key + ' button');\n",
              "      quickchartButtonEl.disabled = true;  // To prevent multiple clicks.\n",
              "      quickchartButtonEl.classList.add('colab-df-spinner');\n",
              "      try {\n",
              "        const charts = await google.colab.kernel.invokeFunction(\n",
              "            'suggestCharts', [key], {});\n",
              "      } catch (error) {\n",
              "        console.error('Error during call to suggestCharts:', error);\n",
              "      }\n",
              "      quickchartButtonEl.classList.remove('colab-df-spinner');\n",
              "      quickchartButtonEl.classList.add('colab-df-quickchart-complete');\n",
              "    }\n",
              "    (() => {\n",
              "      let quickchartButtonEl =\n",
              "        document.querySelector('#df-ff682864-1cb7-43cd-92ee-fcf0f7616869 button');\n",
              "      quickchartButtonEl.style.display =\n",
              "        google.colab.kernel.accessAllowed ? 'block' : 'none';\n",
              "    })();\n",
              "  </script>\n",
              "</div>\n",
              "    </div>\n",
              "  </div>\n"
            ]
          },
          "metadata": {},
          "execution_count": 191
        }
      ]
    },
    {
      "cell_type": "code",
      "source": [
        "for row in most_wrong.itertuples() :\n",
        "  _ , text , target , pred_label , pred_prob = row\n",
        "  print(f\"target : {target}\")\n",
        "  print(f\"prediction probility : {pred_prob}\")\n",
        "  print(f\"text : {text}\\n\")\n",
        "  print(\"-----------\\n\")"
      ],
      "metadata": {
        "colab": {
          "base_uri": "https://localhost:8080/"
        },
        "id": "nz-9YLHGxS8R",
        "outputId": "8f523734-3761-4706-da38-ad45bc610563"
      },
      "execution_count": null,
      "outputs": [
        {
          "output_type": "stream",
          "name": "stdout",
          "text": [
            "target : 1\n",
            "prediction probility : 0.9958066940307617\n",
            "text : Dramatic Video Shows Plane Landing During Violent Storm http://t.co/XRgPdlSWfD\n",
            "\n",
            "-----------\n",
            "\n",
            "target : 1\n",
            "prediction probility : 0.994646430015564\n",
            "text : beforeitsnews : Hundreds feared dead after Libyan migrant boat capsizes during rescue Û_ http://t.co/MjoeeBDLXn) http://t.co/fvEn1ex0PS\n",
            "\n",
            "-----------\n",
            "\n",
            "target : 1\n",
            "prediction probility : 0.9937171936035156\n",
            "text : BBC News - India rail crash: Trains derail in Madhya Pradesh flash flood http://t.co/WgmZmJ5imD\n",
            "\n",
            "-----------\n",
            "\n",
            "target : 1\n",
            "prediction probility : 0.992790162563324\n",
            "text : USGS reports a M1.94 #earthquake 5km S of Volcano Hawaii on 8/6/15 @ 1:04:01 UTC http://t.co/Njd28pg9Xv #quake\n",
            "\n",
            "-----------\n",
            "\n",
            "target : 1\n",
            "prediction probility : 0.9918819069862366\n",
            "text : The Catastrophic Effects of Hiroshima and Nagasaki Atomic Bombings Still Being Felt Today http://t.co/TzxeG4gOkD\n",
            "\n",
            "-----------\n",
            "\n"
          ]
        }
      ]
    },
    {
      "cell_type": "code",
      "source": [
        "for row in most_correct.itertuples() :\n",
        "  _ , text , target , pred_label , pred_prob = row\n",
        "  print(f\"target : {target}\")\n",
        "  print(f\"prediction probility : {pred_prob}\")\n",
        "  print(f\"text : {text}\\n\")\n",
        "  print(\"-----------\\n\")"
      ],
      "metadata": {
        "colab": {
          "base_uri": "https://localhost:8080/"
        },
        "id": "PxUgYuwuxS4v",
        "outputId": "4f8c4751-88c6-42aa-a0ff-153a0e70e94b"
      },
      "execution_count": null,
      "outputs": [
        {
          "output_type": "stream",
          "name": "stdout",
          "text": [
            "target : 0\n",
            "prediction probility : 0.01289632823318243\n",
            "text : Season 3 of New Girl was such a emotional train wreck I just wanted to cry laugh and eat a lot of ice cream\n",
            "\n",
            "-----------\n",
            "\n",
            "target : 0\n",
            "prediction probility : 0.020454583689570427\n",
            "text : I hate that Im so awkward and I ruin things\n",
            "\n",
            "-----------\n",
            "\n",
            "target : 0\n",
            "prediction probility : 0.02252894826233387\n",
            "text : Some days I drown in my tears but I don't let it get me down\n",
            "\n",
            "-----------\n",
            "\n",
            "target : 0\n",
            "prediction probility : 0.0239937175065279\n",
            "text : my vibrator shaped vape done busted\n",
            "\n",
            "-----------\n",
            "\n",
            "target : 0\n",
            "prediction probility : 0.02525799348950386\n",
            "text : If you fill your mind with encouragement and positivity then it won't take you hostage. Be careful of your content\n",
            "\n",
            "-----------\n",
            "\n"
          ]
        }
      ]
    },
    {
      "cell_type": "markdown",
      "source": [
        "## Make Prediction on test dataset"
      ],
      "metadata": {
        "id": "SA-bDd_8xSvr"
      }
    },
    {
      "cell_type": "code",
      "source": [
        "test_sentences  = test_df[\"text\"].to_list()\n",
        "test_sentences_samples = random.sample(population = test_sentences , k = 5)\n",
        "for sample_sentence in test_sentences_samples :\n",
        "  prob = pre_trained_model.predict([sample_sentence] , verbose = 0)\n",
        "  pred = tf.squeeze(tf.round(prob))\n",
        "  print(f\"Pred: {pred}  ,   prob : {prob}\")\n",
        "  print(f\"text : \\n {sample_sentence}\\n\")\n",
        "  print(\"------------------\\n\")"
      ],
      "metadata": {
        "colab": {
          "base_uri": "https://localhost:8080/"
        },
        "id": "PsJEOXgZxSuG",
        "outputId": "210f1562-2d93-4c89-ef84-890ec5e4a9ab"
      },
      "execution_count": null,
      "outputs": [
        {
          "output_type": "stream",
          "name": "stdout",
          "text": [
            "Pred: 0.0  ,   prob : [[0.24661551]]\n",
            "text : \n",
            " We should do a hand in the destruction of an INNOCENT young man's life.\n",
            "\n",
            "------------------\n",
            "\n",
            "Pred: 1.0  ,   prob : [[0.9525297]]\n",
            "text : \n",
            " HURRICANE GUILLERMO LIVE NOAA TRACKING / LOOPING WED.AUG.5TH ~ http://t.co/QktRt2J1o8 ~  http://t.co/b0JxS5QKkh http://t.co/KP05TOwSfM\n",
            "\n",
            "------------------\n",
            "\n",
            "Pred: 0.0  ,   prob : [[0.23229098]]\n",
            "text : \n",
            " This #NBCTheWiz cast is about to destroy tv sets across the nation!!!!\n",
            "\n",
            "------------------\n",
            "\n",
            "Pred: 0.0  ,   prob : [[0.0170117]]\n",
            "text : \n",
            " Just want someone to smoke a blunt &amp; talk about life with ??\n",
            "\n",
            "------------------\n",
            "\n",
            "Pred: 0.0  ,   prob : [[0.19071111]]\n",
            "text : \n",
            " Almost electrocuted myself ??\n",
            "\n",
            "------------------\n",
            "\n"
          ]
        }
      ]
    },
    {
      "cell_type": "code",
      "source": [
        "# TODO :\n",
        "1.Importing embedding from tensorflow hub\n",
        "2. Final Project"
      ],
      "metadata": {
        "id": "B4B8EfsIxiu-"
      },
      "execution_count": null,
      "outputs": []
    }
  ],
  "metadata": {
    "colab": {
      "provenance": [],
      "gpuType": "T4",
      "authorship_tag": "ABX9TyP7EIM5wNMqq+V5aQaX1UZM",
      "include_colab_link": true
    },
    "kernelspec": {
      "display_name": "Python 3",
      "name": "python3"
    },
    "language_info": {
      "name": "python"
    },
    "accelerator": "GPU"
  },
  "nbformat": 4,
  "nbformat_minor": 0
}
