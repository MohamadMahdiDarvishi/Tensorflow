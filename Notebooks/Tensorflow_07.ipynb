{
  "nbformat": 4,
  "nbformat_minor": 0,
  "metadata": {
    "colab": {
      "provenance": [],
      "gpuType": "T4",
      "authorship_tag": "ABX9TyM9Z5RQArhk8SJLfjxnB3y2",
      "include_colab_link": true
    },
    "kernelspec": {
      "name": "python3",
      "display_name": "Python 3"
    },
    "language_info": {
      "name": "python"
    },
    "widgets": {
      "application/vnd.jupyter.widget-state+json": {
        "10a4358e61014ac38edafa74e72ed058": {
          "model_module": "@jupyter-widgets/controls",
          "model_name": "HBoxModel",
          "model_module_version": "1.5.0",
          "state": {
            "_dom_classes": [],
            "_model_module": "@jupyter-widgets/controls",
            "_model_module_version": "1.5.0",
            "_model_name": "HBoxModel",
            "_view_count": null,
            "_view_module": "@jupyter-widgets/controls",
            "_view_module_version": "1.5.0",
            "_view_name": "HBoxView",
            "box_style": "",
            "children": [
              "IPY_MODEL_b3458fc9ba264b61b3b1b604224bbaa3",
              "IPY_MODEL_fc5184f92dfa49b38fca5ba8818ee003",
              "IPY_MODEL_2ddf7d207609450384ffe0d08b4afc9d"
            ],
            "layout": "IPY_MODEL_299430787e834731a8c5f85a4c0c0d27"
          }
        },
        "b3458fc9ba264b61b3b1b604224bbaa3": {
          "model_module": "@jupyter-widgets/controls",
          "model_name": "HTMLModel",
          "model_module_version": "1.5.0",
          "state": {
            "_dom_classes": [],
            "_model_module": "@jupyter-widgets/controls",
            "_model_module_version": "1.5.0",
            "_model_name": "HTMLModel",
            "_view_count": null,
            "_view_module": "@jupyter-widgets/controls",
            "_view_module_version": "1.5.0",
            "_view_name": "HTMLView",
            "description": "",
            "description_tooltip": null,
            "layout": "IPY_MODEL_4dd0f6a10fba47ebbbf37580df0768ee",
            "placeholder": "​",
            "style": "IPY_MODEL_d740202d5f214182ab02c3215b187d10",
            "value": "Dl Completed...: 100%"
          }
        },
        "fc5184f92dfa49b38fca5ba8818ee003": {
          "model_module": "@jupyter-widgets/controls",
          "model_name": "FloatProgressModel",
          "model_module_version": "1.5.0",
          "state": {
            "_dom_classes": [],
            "_model_module": "@jupyter-widgets/controls",
            "_model_module_version": "1.5.0",
            "_model_name": "FloatProgressModel",
            "_view_count": null,
            "_view_module": "@jupyter-widgets/controls",
            "_view_module_version": "1.5.0",
            "_view_name": "ProgressView",
            "bar_style": "success",
            "description": "",
            "description_tooltip": null,
            "layout": "IPY_MODEL_2eee300ce2234effb290e4739a069908",
            "max": 1,
            "min": 0,
            "orientation": "horizontal",
            "style": "IPY_MODEL_6fd019af8b8340de8298370344bcac92",
            "value": 1
          }
        },
        "2ddf7d207609450384ffe0d08b4afc9d": {
          "model_module": "@jupyter-widgets/controls",
          "model_name": "HTMLModel",
          "model_module_version": "1.5.0",
          "state": {
            "_dom_classes": [],
            "_model_module": "@jupyter-widgets/controls",
            "_model_module_version": "1.5.0",
            "_model_name": "HTMLModel",
            "_view_count": null,
            "_view_module": "@jupyter-widgets/controls",
            "_view_module_version": "1.5.0",
            "_view_name": "HTMLView",
            "description": "",
            "description_tooltip": null,
            "layout": "IPY_MODEL_a7ff5a90a0a748e29e87f14085929e36",
            "placeholder": "​",
            "style": "IPY_MODEL_0fb37f83ed94406c9c13a0de21c8a458",
            "value": " 1/1 [08:53&lt;00:00, 206.75s/ url]"
          }
        },
        "299430787e834731a8c5f85a4c0c0d27": {
          "model_module": "@jupyter-widgets/base",
          "model_name": "LayoutModel",
          "model_module_version": "1.2.0",
          "state": {
            "_model_module": "@jupyter-widgets/base",
            "_model_module_version": "1.2.0",
            "_model_name": "LayoutModel",
            "_view_count": null,
            "_view_module": "@jupyter-widgets/base",
            "_view_module_version": "1.2.0",
            "_view_name": "LayoutView",
            "align_content": null,
            "align_items": null,
            "align_self": null,
            "border": null,
            "bottom": null,
            "display": null,
            "flex": null,
            "flex_flow": null,
            "grid_area": null,
            "grid_auto_columns": null,
            "grid_auto_flow": null,
            "grid_auto_rows": null,
            "grid_column": null,
            "grid_gap": null,
            "grid_row": null,
            "grid_template_areas": null,
            "grid_template_columns": null,
            "grid_template_rows": null,
            "height": null,
            "justify_content": null,
            "justify_items": null,
            "left": null,
            "margin": null,
            "max_height": null,
            "max_width": null,
            "min_height": null,
            "min_width": null,
            "object_fit": null,
            "object_position": null,
            "order": null,
            "overflow": null,
            "overflow_x": null,
            "overflow_y": null,
            "padding": null,
            "right": null,
            "top": null,
            "visibility": null,
            "width": null
          }
        },
        "4dd0f6a10fba47ebbbf37580df0768ee": {
          "model_module": "@jupyter-widgets/base",
          "model_name": "LayoutModel",
          "model_module_version": "1.2.0",
          "state": {
            "_model_module": "@jupyter-widgets/base",
            "_model_module_version": "1.2.0",
            "_model_name": "LayoutModel",
            "_view_count": null,
            "_view_module": "@jupyter-widgets/base",
            "_view_module_version": "1.2.0",
            "_view_name": "LayoutView",
            "align_content": null,
            "align_items": null,
            "align_self": null,
            "border": null,
            "bottom": null,
            "display": null,
            "flex": null,
            "flex_flow": null,
            "grid_area": null,
            "grid_auto_columns": null,
            "grid_auto_flow": null,
            "grid_auto_rows": null,
            "grid_column": null,
            "grid_gap": null,
            "grid_row": null,
            "grid_template_areas": null,
            "grid_template_columns": null,
            "grid_template_rows": null,
            "height": null,
            "justify_content": null,
            "justify_items": null,
            "left": null,
            "margin": null,
            "max_height": null,
            "max_width": null,
            "min_height": null,
            "min_width": null,
            "object_fit": null,
            "object_position": null,
            "order": null,
            "overflow": null,
            "overflow_x": null,
            "overflow_y": null,
            "padding": null,
            "right": null,
            "top": null,
            "visibility": null,
            "width": null
          }
        },
        "d740202d5f214182ab02c3215b187d10": {
          "model_module": "@jupyter-widgets/controls",
          "model_name": "DescriptionStyleModel",
          "model_module_version": "1.5.0",
          "state": {
            "_model_module": "@jupyter-widgets/controls",
            "_model_module_version": "1.5.0",
            "_model_name": "DescriptionStyleModel",
            "_view_count": null,
            "_view_module": "@jupyter-widgets/base",
            "_view_module_version": "1.2.0",
            "_view_name": "StyleView",
            "description_width": ""
          }
        },
        "2eee300ce2234effb290e4739a069908": {
          "model_module": "@jupyter-widgets/base",
          "model_name": "LayoutModel",
          "model_module_version": "1.2.0",
          "state": {
            "_model_module": "@jupyter-widgets/base",
            "_model_module_version": "1.2.0",
            "_model_name": "LayoutModel",
            "_view_count": null,
            "_view_module": "@jupyter-widgets/base",
            "_view_module_version": "1.2.0",
            "_view_name": "LayoutView",
            "align_content": null,
            "align_items": null,
            "align_self": null,
            "border": null,
            "bottom": null,
            "display": null,
            "flex": null,
            "flex_flow": null,
            "grid_area": null,
            "grid_auto_columns": null,
            "grid_auto_flow": null,
            "grid_auto_rows": null,
            "grid_column": null,
            "grid_gap": null,
            "grid_row": null,
            "grid_template_areas": null,
            "grid_template_columns": null,
            "grid_template_rows": null,
            "height": null,
            "justify_content": null,
            "justify_items": null,
            "left": null,
            "margin": null,
            "max_height": null,
            "max_width": null,
            "min_height": null,
            "min_width": null,
            "object_fit": null,
            "object_position": null,
            "order": null,
            "overflow": null,
            "overflow_x": null,
            "overflow_y": null,
            "padding": null,
            "right": null,
            "top": null,
            "visibility": null,
            "width": "20px"
          }
        },
        "6fd019af8b8340de8298370344bcac92": {
          "model_module": "@jupyter-widgets/controls",
          "model_name": "ProgressStyleModel",
          "model_module_version": "1.5.0",
          "state": {
            "_model_module": "@jupyter-widgets/controls",
            "_model_module_version": "1.5.0",
            "_model_name": "ProgressStyleModel",
            "_view_count": null,
            "_view_module": "@jupyter-widgets/base",
            "_view_module_version": "1.2.0",
            "_view_name": "StyleView",
            "bar_color": null,
            "description_width": ""
          }
        },
        "a7ff5a90a0a748e29e87f14085929e36": {
          "model_module": "@jupyter-widgets/base",
          "model_name": "LayoutModel",
          "model_module_version": "1.2.0",
          "state": {
            "_model_module": "@jupyter-widgets/base",
            "_model_module_version": "1.2.0",
            "_model_name": "LayoutModel",
            "_view_count": null,
            "_view_module": "@jupyter-widgets/base",
            "_view_module_version": "1.2.0",
            "_view_name": "LayoutView",
            "align_content": null,
            "align_items": null,
            "align_self": null,
            "border": null,
            "bottom": null,
            "display": null,
            "flex": null,
            "flex_flow": null,
            "grid_area": null,
            "grid_auto_columns": null,
            "grid_auto_flow": null,
            "grid_auto_rows": null,
            "grid_column": null,
            "grid_gap": null,
            "grid_row": null,
            "grid_template_areas": null,
            "grid_template_columns": null,
            "grid_template_rows": null,
            "height": null,
            "justify_content": null,
            "justify_items": null,
            "left": null,
            "margin": null,
            "max_height": null,
            "max_width": null,
            "min_height": null,
            "min_width": null,
            "object_fit": null,
            "object_position": null,
            "order": null,
            "overflow": null,
            "overflow_x": null,
            "overflow_y": null,
            "padding": null,
            "right": null,
            "top": null,
            "visibility": null,
            "width": null
          }
        },
        "0fb37f83ed94406c9c13a0de21c8a458": {
          "model_module": "@jupyter-widgets/controls",
          "model_name": "DescriptionStyleModel",
          "model_module_version": "1.5.0",
          "state": {
            "_model_module": "@jupyter-widgets/controls",
            "_model_module_version": "1.5.0",
            "_model_name": "DescriptionStyleModel",
            "_view_count": null,
            "_view_module": "@jupyter-widgets/base",
            "_view_module_version": "1.2.0",
            "_view_name": "StyleView",
            "description_width": ""
          }
        },
        "3154516e543240f19862643077ad123c": {
          "model_module": "@jupyter-widgets/controls",
          "model_name": "HBoxModel",
          "model_module_version": "1.5.0",
          "state": {
            "_dom_classes": [],
            "_model_module": "@jupyter-widgets/controls",
            "_model_module_version": "1.5.0",
            "_model_name": "HBoxModel",
            "_view_count": null,
            "_view_module": "@jupyter-widgets/controls",
            "_view_module_version": "1.5.0",
            "_view_name": "HBoxView",
            "box_style": "",
            "children": [
              "IPY_MODEL_d5e6a3337ff74286b5240c565b35d397",
              "IPY_MODEL_ad286356ceb3400f979f6f789126a836",
              "IPY_MODEL_46cad016b68d4940b5ca17d05f1130de"
            ],
            "layout": "IPY_MODEL_ba35f3e3ca8a447abf79f2d4fbc52efa"
          }
        },
        "d5e6a3337ff74286b5240c565b35d397": {
          "model_module": "@jupyter-widgets/controls",
          "model_name": "HTMLModel",
          "model_module_version": "1.5.0",
          "state": {
            "_dom_classes": [],
            "_model_module": "@jupyter-widgets/controls",
            "_model_module_version": "1.5.0",
            "_model_name": "HTMLModel",
            "_view_count": null,
            "_view_module": "@jupyter-widgets/controls",
            "_view_module_version": "1.5.0",
            "_view_name": "HTMLView",
            "description": "",
            "description_tooltip": null,
            "layout": "IPY_MODEL_637a8c2208244bf6b9ae063341416335",
            "placeholder": "​",
            "style": "IPY_MODEL_41ec1f8c5d6845e7a053d4b43bf431cc",
            "value": "Dl Size...: 100%"
          }
        },
        "ad286356ceb3400f979f6f789126a836": {
          "model_module": "@jupyter-widgets/controls",
          "model_name": "FloatProgressModel",
          "model_module_version": "1.5.0",
          "state": {
            "_dom_classes": [],
            "_model_module": "@jupyter-widgets/controls",
            "_model_module_version": "1.5.0",
            "_model_name": "FloatProgressModel",
            "_view_count": null,
            "_view_module": "@jupyter-widgets/controls",
            "_view_module_version": "1.5.0",
            "_view_name": "ProgressView",
            "bar_style": "success",
            "description": "",
            "description_tooltip": null,
            "layout": "IPY_MODEL_9d6b93c3e4274889a05327b27f0ccc9c",
            "max": 1,
            "min": 0,
            "orientation": "horizontal",
            "style": "IPY_MODEL_e370338895b5432a86402c5eba874bb9",
            "value": 1
          }
        },
        "46cad016b68d4940b5ca17d05f1130de": {
          "model_module": "@jupyter-widgets/controls",
          "model_name": "HTMLModel",
          "model_module_version": "1.5.0",
          "state": {
            "_dom_classes": [],
            "_model_module": "@jupyter-widgets/controls",
            "_model_module_version": "1.5.0",
            "_model_name": "HTMLModel",
            "_view_count": null,
            "_view_module": "@jupyter-widgets/controls",
            "_view_module_version": "1.5.0",
            "_view_name": "HTMLView",
            "description": "",
            "description_tooltip": null,
            "layout": "IPY_MODEL_6d6e8dfae9e2450c875f0ee1ea3cdb0c",
            "placeholder": "​",
            "style": "IPY_MODEL_3b7aa168c85e40a1a105397741b29d63",
            "value": " 4764/4764 [08:53&lt;00:00, 24.02 MiB/s]"
          }
        },
        "ba35f3e3ca8a447abf79f2d4fbc52efa": {
          "model_module": "@jupyter-widgets/base",
          "model_name": "LayoutModel",
          "model_module_version": "1.2.0",
          "state": {
            "_model_module": "@jupyter-widgets/base",
            "_model_module_version": "1.2.0",
            "_model_name": "LayoutModel",
            "_view_count": null,
            "_view_module": "@jupyter-widgets/base",
            "_view_module_version": "1.2.0",
            "_view_name": "LayoutView",
            "align_content": null,
            "align_items": null,
            "align_self": null,
            "border": null,
            "bottom": null,
            "display": null,
            "flex": null,
            "flex_flow": null,
            "grid_area": null,
            "grid_auto_columns": null,
            "grid_auto_flow": null,
            "grid_auto_rows": null,
            "grid_column": null,
            "grid_gap": null,
            "grid_row": null,
            "grid_template_areas": null,
            "grid_template_columns": null,
            "grid_template_rows": null,
            "height": null,
            "justify_content": null,
            "justify_items": null,
            "left": null,
            "margin": null,
            "max_height": null,
            "max_width": null,
            "min_height": null,
            "min_width": null,
            "object_fit": null,
            "object_position": null,
            "order": null,
            "overflow": null,
            "overflow_x": null,
            "overflow_y": null,
            "padding": null,
            "right": null,
            "top": null,
            "visibility": null,
            "width": null
          }
        },
        "637a8c2208244bf6b9ae063341416335": {
          "model_module": "@jupyter-widgets/base",
          "model_name": "LayoutModel",
          "model_module_version": "1.2.0",
          "state": {
            "_model_module": "@jupyter-widgets/base",
            "_model_module_version": "1.2.0",
            "_model_name": "LayoutModel",
            "_view_count": null,
            "_view_module": "@jupyter-widgets/base",
            "_view_module_version": "1.2.0",
            "_view_name": "LayoutView",
            "align_content": null,
            "align_items": null,
            "align_self": null,
            "border": null,
            "bottom": null,
            "display": null,
            "flex": null,
            "flex_flow": null,
            "grid_area": null,
            "grid_auto_columns": null,
            "grid_auto_flow": null,
            "grid_auto_rows": null,
            "grid_column": null,
            "grid_gap": null,
            "grid_row": null,
            "grid_template_areas": null,
            "grid_template_columns": null,
            "grid_template_rows": null,
            "height": null,
            "justify_content": null,
            "justify_items": null,
            "left": null,
            "margin": null,
            "max_height": null,
            "max_width": null,
            "min_height": null,
            "min_width": null,
            "object_fit": null,
            "object_position": null,
            "order": null,
            "overflow": null,
            "overflow_x": null,
            "overflow_y": null,
            "padding": null,
            "right": null,
            "top": null,
            "visibility": null,
            "width": null
          }
        },
        "41ec1f8c5d6845e7a053d4b43bf431cc": {
          "model_module": "@jupyter-widgets/controls",
          "model_name": "DescriptionStyleModel",
          "model_module_version": "1.5.0",
          "state": {
            "_model_module": "@jupyter-widgets/controls",
            "_model_module_version": "1.5.0",
            "_model_name": "DescriptionStyleModel",
            "_view_count": null,
            "_view_module": "@jupyter-widgets/base",
            "_view_module_version": "1.2.0",
            "_view_name": "StyleView",
            "description_width": ""
          }
        },
        "9d6b93c3e4274889a05327b27f0ccc9c": {
          "model_module": "@jupyter-widgets/base",
          "model_name": "LayoutModel",
          "model_module_version": "1.2.0",
          "state": {
            "_model_module": "@jupyter-widgets/base",
            "_model_module_version": "1.2.0",
            "_model_name": "LayoutModel",
            "_view_count": null,
            "_view_module": "@jupyter-widgets/base",
            "_view_module_version": "1.2.0",
            "_view_name": "LayoutView",
            "align_content": null,
            "align_items": null,
            "align_self": null,
            "border": null,
            "bottom": null,
            "display": null,
            "flex": null,
            "flex_flow": null,
            "grid_area": null,
            "grid_auto_columns": null,
            "grid_auto_flow": null,
            "grid_auto_rows": null,
            "grid_column": null,
            "grid_gap": null,
            "grid_row": null,
            "grid_template_areas": null,
            "grid_template_columns": null,
            "grid_template_rows": null,
            "height": null,
            "justify_content": null,
            "justify_items": null,
            "left": null,
            "margin": null,
            "max_height": null,
            "max_width": null,
            "min_height": null,
            "min_width": null,
            "object_fit": null,
            "object_position": null,
            "order": null,
            "overflow": null,
            "overflow_x": null,
            "overflow_y": null,
            "padding": null,
            "right": null,
            "top": null,
            "visibility": null,
            "width": "20px"
          }
        },
        "e370338895b5432a86402c5eba874bb9": {
          "model_module": "@jupyter-widgets/controls",
          "model_name": "ProgressStyleModel",
          "model_module_version": "1.5.0",
          "state": {
            "_model_module": "@jupyter-widgets/controls",
            "_model_module_version": "1.5.0",
            "_model_name": "ProgressStyleModel",
            "_view_count": null,
            "_view_module": "@jupyter-widgets/base",
            "_view_module_version": "1.2.0",
            "_view_name": "StyleView",
            "bar_color": null,
            "description_width": ""
          }
        },
        "6d6e8dfae9e2450c875f0ee1ea3cdb0c": {
          "model_module": "@jupyter-widgets/base",
          "model_name": "LayoutModel",
          "model_module_version": "1.2.0",
          "state": {
            "_model_module": "@jupyter-widgets/base",
            "_model_module_version": "1.2.0",
            "_model_name": "LayoutModel",
            "_view_count": null,
            "_view_module": "@jupyter-widgets/base",
            "_view_module_version": "1.2.0",
            "_view_name": "LayoutView",
            "align_content": null,
            "align_items": null,
            "align_self": null,
            "border": null,
            "bottom": null,
            "display": null,
            "flex": null,
            "flex_flow": null,
            "grid_area": null,
            "grid_auto_columns": null,
            "grid_auto_flow": null,
            "grid_auto_rows": null,
            "grid_column": null,
            "grid_gap": null,
            "grid_row": null,
            "grid_template_areas": null,
            "grid_template_columns": null,
            "grid_template_rows": null,
            "height": null,
            "justify_content": null,
            "justify_items": null,
            "left": null,
            "margin": null,
            "max_height": null,
            "max_width": null,
            "min_height": null,
            "min_width": null,
            "object_fit": null,
            "object_position": null,
            "order": null,
            "overflow": null,
            "overflow_x": null,
            "overflow_y": null,
            "padding": null,
            "right": null,
            "top": null,
            "visibility": null,
            "width": null
          }
        },
        "3b7aa168c85e40a1a105397741b29d63": {
          "model_module": "@jupyter-widgets/controls",
          "model_name": "DescriptionStyleModel",
          "model_module_version": "1.5.0",
          "state": {
            "_model_module": "@jupyter-widgets/controls",
            "_model_module_version": "1.5.0",
            "_model_name": "DescriptionStyleModel",
            "_view_count": null,
            "_view_module": "@jupyter-widgets/base",
            "_view_module_version": "1.2.0",
            "_view_name": "StyleView",
            "description_width": ""
          }
        },
        "5482333f339d43d5a29cf3987cfd13ac": {
          "model_module": "@jupyter-widgets/controls",
          "model_name": "HBoxModel",
          "model_module_version": "1.5.0",
          "state": {
            "_dom_classes": [],
            "_model_module": "@jupyter-widgets/controls",
            "_model_module_version": "1.5.0",
            "_model_name": "HBoxModel",
            "_view_count": null,
            "_view_module": "@jupyter-widgets/controls",
            "_view_module_version": "1.5.0",
            "_view_name": "HBoxView",
            "box_style": "",
            "children": [
              "IPY_MODEL_c510d80f5dd3417d89b1ba623d6948e8",
              "IPY_MODEL_170f06987e504810b8cdf09b2aa237d8",
              "IPY_MODEL_ad40ebd28f4849cc9d1ef82fdb408971"
            ],
            "layout": "IPY_MODEL_561b0d061a174e92ac08809b63b8a7dd"
          }
        },
        "c510d80f5dd3417d89b1ba623d6948e8": {
          "model_module": "@jupyter-widgets/controls",
          "model_name": "HTMLModel",
          "model_module_version": "1.5.0",
          "state": {
            "_dom_classes": [],
            "_model_module": "@jupyter-widgets/controls",
            "_model_module_version": "1.5.0",
            "_model_name": "HTMLModel",
            "_view_count": null,
            "_view_module": "@jupyter-widgets/controls",
            "_view_module_version": "1.5.0",
            "_view_name": "HTMLView",
            "description": "",
            "description_tooltip": null,
            "layout": "IPY_MODEL_2e233b277e064235aabc0be8f3500622",
            "placeholder": "​",
            "style": "IPY_MODEL_8796753802884becbec057681f4bfdeb",
            "value": "Extraction completed...:  97%"
          }
        },
        "170f06987e504810b8cdf09b2aa237d8": {
          "model_module": "@jupyter-widgets/controls",
          "model_name": "FloatProgressModel",
          "model_module_version": "1.5.0",
          "state": {
            "_dom_classes": [],
            "_model_module": "@jupyter-widgets/controls",
            "_model_module_version": "1.5.0",
            "_model_name": "FloatProgressModel",
            "_view_count": null,
            "_view_module": "@jupyter-widgets/controls",
            "_view_module_version": "1.5.0",
            "_view_name": "ProgressView",
            "bar_style": "success",
            "description": "",
            "description_tooltip": null,
            "layout": "IPY_MODEL_3c6fbadcb9e04ecab711d6ff49df338a",
            "max": 1,
            "min": 0,
            "orientation": "horizontal",
            "style": "IPY_MODEL_56a56b4c7fb8422ca871a3c08971e91c",
            "value": 0
          }
        },
        "ad40ebd28f4849cc9d1ef82fdb408971": {
          "model_module": "@jupyter-widgets/controls",
          "model_name": "HTMLModel",
          "model_module_version": "1.5.0",
          "state": {
            "_dom_classes": [],
            "_model_module": "@jupyter-widgets/controls",
            "_model_module_version": "1.5.0",
            "_model_name": "HTMLModel",
            "_view_count": null,
            "_view_module": "@jupyter-widgets/controls",
            "_view_module_version": "1.5.0",
            "_view_name": "HTMLView",
            "description": "",
            "description_tooltip": null,
            "layout": "IPY_MODEL_4c5d6a38bbb9416aa47f12baf7103564",
            "placeholder": "​",
            "style": "IPY_MODEL_1d023ed5252340a3966e96ae4f727e10",
            "value": " 101008/101008 [08:52&lt;00:00, 1166.10 file/s]"
          }
        },
        "561b0d061a174e92ac08809b63b8a7dd": {
          "model_module": "@jupyter-widgets/base",
          "model_name": "LayoutModel",
          "model_module_version": "1.2.0",
          "state": {
            "_model_module": "@jupyter-widgets/base",
            "_model_module_version": "1.2.0",
            "_model_name": "LayoutModel",
            "_view_count": null,
            "_view_module": "@jupyter-widgets/base",
            "_view_module_version": "1.2.0",
            "_view_name": "LayoutView",
            "align_content": null,
            "align_items": null,
            "align_self": null,
            "border": null,
            "bottom": null,
            "display": null,
            "flex": null,
            "flex_flow": null,
            "grid_area": null,
            "grid_auto_columns": null,
            "grid_auto_flow": null,
            "grid_auto_rows": null,
            "grid_column": null,
            "grid_gap": null,
            "grid_row": null,
            "grid_template_areas": null,
            "grid_template_columns": null,
            "grid_template_rows": null,
            "height": null,
            "justify_content": null,
            "justify_items": null,
            "left": null,
            "margin": null,
            "max_height": null,
            "max_width": null,
            "min_height": null,
            "min_width": null,
            "object_fit": null,
            "object_position": null,
            "order": null,
            "overflow": null,
            "overflow_x": null,
            "overflow_y": null,
            "padding": null,
            "right": null,
            "top": null,
            "visibility": null,
            "width": null
          }
        },
        "2e233b277e064235aabc0be8f3500622": {
          "model_module": "@jupyter-widgets/base",
          "model_name": "LayoutModel",
          "model_module_version": "1.2.0",
          "state": {
            "_model_module": "@jupyter-widgets/base",
            "_model_module_version": "1.2.0",
            "_model_name": "LayoutModel",
            "_view_count": null,
            "_view_module": "@jupyter-widgets/base",
            "_view_module_version": "1.2.0",
            "_view_name": "LayoutView",
            "align_content": null,
            "align_items": null,
            "align_self": null,
            "border": null,
            "bottom": null,
            "display": null,
            "flex": null,
            "flex_flow": null,
            "grid_area": null,
            "grid_auto_columns": null,
            "grid_auto_flow": null,
            "grid_auto_rows": null,
            "grid_column": null,
            "grid_gap": null,
            "grid_row": null,
            "grid_template_areas": null,
            "grid_template_columns": null,
            "grid_template_rows": null,
            "height": null,
            "justify_content": null,
            "justify_items": null,
            "left": null,
            "margin": null,
            "max_height": null,
            "max_width": null,
            "min_height": null,
            "min_width": null,
            "object_fit": null,
            "object_position": null,
            "order": null,
            "overflow": null,
            "overflow_x": null,
            "overflow_y": null,
            "padding": null,
            "right": null,
            "top": null,
            "visibility": null,
            "width": null
          }
        },
        "8796753802884becbec057681f4bfdeb": {
          "model_module": "@jupyter-widgets/controls",
          "model_name": "DescriptionStyleModel",
          "model_module_version": "1.5.0",
          "state": {
            "_model_module": "@jupyter-widgets/controls",
            "_model_module_version": "1.5.0",
            "_model_name": "DescriptionStyleModel",
            "_view_count": null,
            "_view_module": "@jupyter-widgets/base",
            "_view_module_version": "1.2.0",
            "_view_name": "StyleView",
            "description_width": ""
          }
        },
        "3c6fbadcb9e04ecab711d6ff49df338a": {
          "model_module": "@jupyter-widgets/base",
          "model_name": "LayoutModel",
          "model_module_version": "1.2.0",
          "state": {
            "_model_module": "@jupyter-widgets/base",
            "_model_module_version": "1.2.0",
            "_model_name": "LayoutModel",
            "_view_count": null,
            "_view_module": "@jupyter-widgets/base",
            "_view_module_version": "1.2.0",
            "_view_name": "LayoutView",
            "align_content": null,
            "align_items": null,
            "align_self": null,
            "border": null,
            "bottom": null,
            "display": null,
            "flex": null,
            "flex_flow": null,
            "grid_area": null,
            "grid_auto_columns": null,
            "grid_auto_flow": null,
            "grid_auto_rows": null,
            "grid_column": null,
            "grid_gap": null,
            "grid_row": null,
            "grid_template_areas": null,
            "grid_template_columns": null,
            "grid_template_rows": null,
            "height": null,
            "justify_content": null,
            "justify_items": null,
            "left": null,
            "margin": null,
            "max_height": null,
            "max_width": null,
            "min_height": null,
            "min_width": null,
            "object_fit": null,
            "object_position": null,
            "order": null,
            "overflow": null,
            "overflow_x": null,
            "overflow_y": null,
            "padding": null,
            "right": null,
            "top": null,
            "visibility": null,
            "width": "20px"
          }
        },
        "56a56b4c7fb8422ca871a3c08971e91c": {
          "model_module": "@jupyter-widgets/controls",
          "model_name": "ProgressStyleModel",
          "model_module_version": "1.5.0",
          "state": {
            "_model_module": "@jupyter-widgets/controls",
            "_model_module_version": "1.5.0",
            "_model_name": "ProgressStyleModel",
            "_view_count": null,
            "_view_module": "@jupyter-widgets/base",
            "_view_module_version": "1.2.0",
            "_view_name": "StyleView",
            "bar_color": null,
            "description_width": ""
          }
        },
        "4c5d6a38bbb9416aa47f12baf7103564": {
          "model_module": "@jupyter-widgets/base",
          "model_name": "LayoutModel",
          "model_module_version": "1.2.0",
          "state": {
            "_model_module": "@jupyter-widgets/base",
            "_model_module_version": "1.2.0",
            "_model_name": "LayoutModel",
            "_view_count": null,
            "_view_module": "@jupyter-widgets/base",
            "_view_module_version": "1.2.0",
            "_view_name": "LayoutView",
            "align_content": null,
            "align_items": null,
            "align_self": null,
            "border": null,
            "bottom": null,
            "display": null,
            "flex": null,
            "flex_flow": null,
            "grid_area": null,
            "grid_auto_columns": null,
            "grid_auto_flow": null,
            "grid_auto_rows": null,
            "grid_column": null,
            "grid_gap": null,
            "grid_row": null,
            "grid_template_areas": null,
            "grid_template_columns": null,
            "grid_template_rows": null,
            "height": null,
            "justify_content": null,
            "justify_items": null,
            "left": null,
            "margin": null,
            "max_height": null,
            "max_width": null,
            "min_height": null,
            "min_width": null,
            "object_fit": null,
            "object_position": null,
            "order": null,
            "overflow": null,
            "overflow_x": null,
            "overflow_y": null,
            "padding": null,
            "right": null,
            "top": null,
            "visibility": null,
            "width": null
          }
        },
        "1d023ed5252340a3966e96ae4f727e10": {
          "model_module": "@jupyter-widgets/controls",
          "model_name": "DescriptionStyleModel",
          "model_module_version": "1.5.0",
          "state": {
            "_model_module": "@jupyter-widgets/controls",
            "_model_module_version": "1.5.0",
            "_model_name": "DescriptionStyleModel",
            "_view_count": null,
            "_view_module": "@jupyter-widgets/base",
            "_view_module_version": "1.2.0",
            "_view_name": "StyleView",
            "description_width": ""
          }
        },
        "7b5ff51f4d8f4d619a87a6896c7cef5c": {
          "model_module": "@jupyter-widgets/controls",
          "model_name": "HBoxModel",
          "model_module_version": "1.5.0",
          "state": {
            "_dom_classes": [],
            "_model_module": "@jupyter-widgets/controls",
            "_model_module_version": "1.5.0",
            "_model_name": "HBoxModel",
            "_view_count": null,
            "_view_module": "@jupyter-widgets/controls",
            "_view_module_version": "1.5.0",
            "_view_name": "HBoxView",
            "box_style": "",
            "children": [
              "IPY_MODEL_b4b7801221174ab18c2acc5366018200",
              "IPY_MODEL_0d5c1ff0b309424ea0cb6d3b906a7041",
              "IPY_MODEL_f16b837db5ba4a79b24d52bc0e1efaa1"
            ],
            "layout": "IPY_MODEL_dc8380b4702542bba8857cee6ff45eaf"
          }
        },
        "b4b7801221174ab18c2acc5366018200": {
          "model_module": "@jupyter-widgets/controls",
          "model_name": "HTMLModel",
          "model_module_version": "1.5.0",
          "state": {
            "_dom_classes": [],
            "_model_module": "@jupyter-widgets/controls",
            "_model_module_version": "1.5.0",
            "_model_name": "HTMLModel",
            "_view_count": null,
            "_view_module": "@jupyter-widgets/controls",
            "_view_module_version": "1.5.0",
            "_view_name": "HTMLView",
            "description": "",
            "description_tooltip": null,
            "layout": "IPY_MODEL_176acfc89a094783a4516909cec3f5ad",
            "placeholder": "​",
            "style": "IPY_MODEL_1251e8fb283049c48034caa30f3e86d4",
            "value": "Generating splits...: 100%"
          }
        },
        "0d5c1ff0b309424ea0cb6d3b906a7041": {
          "model_module": "@jupyter-widgets/controls",
          "model_name": "FloatProgressModel",
          "model_module_version": "1.5.0",
          "state": {
            "_dom_classes": [],
            "_model_module": "@jupyter-widgets/controls",
            "_model_module_version": "1.5.0",
            "_model_name": "FloatProgressModel",
            "_view_count": null,
            "_view_module": "@jupyter-widgets/controls",
            "_view_module_version": "1.5.0",
            "_view_name": "ProgressView",
            "bar_style": "",
            "description": "",
            "description_tooltip": null,
            "layout": "IPY_MODEL_aec67d2afdb74721ba22d8dd42c3ec5a",
            "max": 2,
            "min": 0,
            "orientation": "horizontal",
            "style": "IPY_MODEL_97708cc955064fb0b9bfe172bb97b155",
            "value": 2
          }
        },
        "f16b837db5ba4a79b24d52bc0e1efaa1": {
          "model_module": "@jupyter-widgets/controls",
          "model_name": "HTMLModel",
          "model_module_version": "1.5.0",
          "state": {
            "_dom_classes": [],
            "_model_module": "@jupyter-widgets/controls",
            "_model_module_version": "1.5.0",
            "_model_name": "HTMLModel",
            "_view_count": null,
            "_view_module": "@jupyter-widgets/controls",
            "_view_module_version": "1.5.0",
            "_view_name": "HTMLView",
            "description": "",
            "description_tooltip": null,
            "layout": "IPY_MODEL_158631e45cad460a8f5b77404154d604",
            "placeholder": "​",
            "style": "IPY_MODEL_7c4110eb366242288f36826928280ccc",
            "value": " 2/2 [03:49&lt;00:00, 106.16s/ splits]"
          }
        },
        "dc8380b4702542bba8857cee6ff45eaf": {
          "model_module": "@jupyter-widgets/base",
          "model_name": "LayoutModel",
          "model_module_version": "1.2.0",
          "state": {
            "_model_module": "@jupyter-widgets/base",
            "_model_module_version": "1.2.0",
            "_model_name": "LayoutModel",
            "_view_count": null,
            "_view_module": "@jupyter-widgets/base",
            "_view_module_version": "1.2.0",
            "_view_name": "LayoutView",
            "align_content": null,
            "align_items": null,
            "align_self": null,
            "border": null,
            "bottom": null,
            "display": null,
            "flex": null,
            "flex_flow": null,
            "grid_area": null,
            "grid_auto_columns": null,
            "grid_auto_flow": null,
            "grid_auto_rows": null,
            "grid_column": null,
            "grid_gap": null,
            "grid_row": null,
            "grid_template_areas": null,
            "grid_template_columns": null,
            "grid_template_rows": null,
            "height": null,
            "justify_content": null,
            "justify_items": null,
            "left": null,
            "margin": null,
            "max_height": null,
            "max_width": null,
            "min_height": null,
            "min_width": null,
            "object_fit": null,
            "object_position": null,
            "order": null,
            "overflow": null,
            "overflow_x": null,
            "overflow_y": null,
            "padding": null,
            "right": null,
            "top": null,
            "visibility": "hidden",
            "width": null
          }
        },
        "176acfc89a094783a4516909cec3f5ad": {
          "model_module": "@jupyter-widgets/base",
          "model_name": "LayoutModel",
          "model_module_version": "1.2.0",
          "state": {
            "_model_module": "@jupyter-widgets/base",
            "_model_module_version": "1.2.0",
            "_model_name": "LayoutModel",
            "_view_count": null,
            "_view_module": "@jupyter-widgets/base",
            "_view_module_version": "1.2.0",
            "_view_name": "LayoutView",
            "align_content": null,
            "align_items": null,
            "align_self": null,
            "border": null,
            "bottom": null,
            "display": null,
            "flex": null,
            "flex_flow": null,
            "grid_area": null,
            "grid_auto_columns": null,
            "grid_auto_flow": null,
            "grid_auto_rows": null,
            "grid_column": null,
            "grid_gap": null,
            "grid_row": null,
            "grid_template_areas": null,
            "grid_template_columns": null,
            "grid_template_rows": null,
            "height": null,
            "justify_content": null,
            "justify_items": null,
            "left": null,
            "margin": null,
            "max_height": null,
            "max_width": null,
            "min_height": null,
            "min_width": null,
            "object_fit": null,
            "object_position": null,
            "order": null,
            "overflow": null,
            "overflow_x": null,
            "overflow_y": null,
            "padding": null,
            "right": null,
            "top": null,
            "visibility": null,
            "width": null
          }
        },
        "1251e8fb283049c48034caa30f3e86d4": {
          "model_module": "@jupyter-widgets/controls",
          "model_name": "DescriptionStyleModel",
          "model_module_version": "1.5.0",
          "state": {
            "_model_module": "@jupyter-widgets/controls",
            "_model_module_version": "1.5.0",
            "_model_name": "DescriptionStyleModel",
            "_view_count": null,
            "_view_module": "@jupyter-widgets/base",
            "_view_module_version": "1.2.0",
            "_view_name": "StyleView",
            "description_width": ""
          }
        },
        "aec67d2afdb74721ba22d8dd42c3ec5a": {
          "model_module": "@jupyter-widgets/base",
          "model_name": "LayoutModel",
          "model_module_version": "1.2.0",
          "state": {
            "_model_module": "@jupyter-widgets/base",
            "_model_module_version": "1.2.0",
            "_model_name": "LayoutModel",
            "_view_count": null,
            "_view_module": "@jupyter-widgets/base",
            "_view_module_version": "1.2.0",
            "_view_name": "LayoutView",
            "align_content": null,
            "align_items": null,
            "align_self": null,
            "border": null,
            "bottom": null,
            "display": null,
            "flex": null,
            "flex_flow": null,
            "grid_area": null,
            "grid_auto_columns": null,
            "grid_auto_flow": null,
            "grid_auto_rows": null,
            "grid_column": null,
            "grid_gap": null,
            "grid_row": null,
            "grid_template_areas": null,
            "grid_template_columns": null,
            "grid_template_rows": null,
            "height": null,
            "justify_content": null,
            "justify_items": null,
            "left": null,
            "margin": null,
            "max_height": null,
            "max_width": null,
            "min_height": null,
            "min_width": null,
            "object_fit": null,
            "object_position": null,
            "order": null,
            "overflow": null,
            "overflow_x": null,
            "overflow_y": null,
            "padding": null,
            "right": null,
            "top": null,
            "visibility": null,
            "width": null
          }
        },
        "97708cc955064fb0b9bfe172bb97b155": {
          "model_module": "@jupyter-widgets/controls",
          "model_name": "ProgressStyleModel",
          "model_module_version": "1.5.0",
          "state": {
            "_model_module": "@jupyter-widgets/controls",
            "_model_module_version": "1.5.0",
            "_model_name": "ProgressStyleModel",
            "_view_count": null,
            "_view_module": "@jupyter-widgets/base",
            "_view_module_version": "1.2.0",
            "_view_name": "StyleView",
            "bar_color": null,
            "description_width": ""
          }
        },
        "158631e45cad460a8f5b77404154d604": {
          "model_module": "@jupyter-widgets/base",
          "model_name": "LayoutModel",
          "model_module_version": "1.2.0",
          "state": {
            "_model_module": "@jupyter-widgets/base",
            "_model_module_version": "1.2.0",
            "_model_name": "LayoutModel",
            "_view_count": null,
            "_view_module": "@jupyter-widgets/base",
            "_view_module_version": "1.2.0",
            "_view_name": "LayoutView",
            "align_content": null,
            "align_items": null,
            "align_self": null,
            "border": null,
            "bottom": null,
            "display": null,
            "flex": null,
            "flex_flow": null,
            "grid_area": null,
            "grid_auto_columns": null,
            "grid_auto_flow": null,
            "grid_auto_rows": null,
            "grid_column": null,
            "grid_gap": null,
            "grid_row": null,
            "grid_template_areas": null,
            "grid_template_columns": null,
            "grid_template_rows": null,
            "height": null,
            "justify_content": null,
            "justify_items": null,
            "left": null,
            "margin": null,
            "max_height": null,
            "max_width": null,
            "min_height": null,
            "min_width": null,
            "object_fit": null,
            "object_position": null,
            "order": null,
            "overflow": null,
            "overflow_x": null,
            "overflow_y": null,
            "padding": null,
            "right": null,
            "top": null,
            "visibility": null,
            "width": null
          }
        },
        "7c4110eb366242288f36826928280ccc": {
          "model_module": "@jupyter-widgets/controls",
          "model_name": "DescriptionStyleModel",
          "model_module_version": "1.5.0",
          "state": {
            "_model_module": "@jupyter-widgets/controls",
            "_model_module_version": "1.5.0",
            "_model_name": "DescriptionStyleModel",
            "_view_count": null,
            "_view_module": "@jupyter-widgets/base",
            "_view_module_version": "1.2.0",
            "_view_name": "StyleView",
            "description_width": ""
          }
        },
        "89663bb1cbac4b9096e01d0e1a44da72": {
          "model_module": "@jupyter-widgets/controls",
          "model_name": "HBoxModel",
          "model_module_version": "1.5.0",
          "state": {
            "_dom_classes": [],
            "_model_module": "@jupyter-widgets/controls",
            "_model_module_version": "1.5.0",
            "_model_name": "HBoxModel",
            "_view_count": null,
            "_view_module": "@jupyter-widgets/controls",
            "_view_module_version": "1.5.0",
            "_view_name": "HBoxView",
            "box_style": "",
            "children": [
              "IPY_MODEL_42f564131dba4d6aaa91c3c4da5313a5",
              "IPY_MODEL_4fa37fa3a8df4644a3ee1a090c50ae14",
              "IPY_MODEL_2dbc8335f1c54078a71f690e3e00d3a7"
            ],
            "layout": "IPY_MODEL_deb65b6c40e34953a9a14619e1e988bf"
          }
        },
        "42f564131dba4d6aaa91c3c4da5313a5": {
          "model_module": "@jupyter-widgets/controls",
          "model_name": "HTMLModel",
          "model_module_version": "1.5.0",
          "state": {
            "_dom_classes": [],
            "_model_module": "@jupyter-widgets/controls",
            "_model_module_version": "1.5.0",
            "_model_name": "HTMLModel",
            "_view_count": null,
            "_view_module": "@jupyter-widgets/controls",
            "_view_module_version": "1.5.0",
            "_view_name": "HTMLView",
            "description": "",
            "description_tooltip": null,
            "layout": "IPY_MODEL_c2ba9a4ae56f4fbda908df342ef15c7d",
            "placeholder": "​",
            "style": "IPY_MODEL_b7367a90017749bbb6f1dabf69f645f1",
            "value": "Generating train examples...: 100%"
          }
        },
        "4fa37fa3a8df4644a3ee1a090c50ae14": {
          "model_module": "@jupyter-widgets/controls",
          "model_name": "FloatProgressModel",
          "model_module_version": "1.5.0",
          "state": {
            "_dom_classes": [],
            "_model_module": "@jupyter-widgets/controls",
            "_model_module_version": "1.5.0",
            "_model_name": "FloatProgressModel",
            "_view_count": null,
            "_view_module": "@jupyter-widgets/controls",
            "_view_module_version": "1.5.0",
            "_view_name": "ProgressView",
            "bar_style": "",
            "description": "",
            "description_tooltip": null,
            "layout": "IPY_MODEL_773602f6d53d469ba6b38e599b6bb4aa",
            "max": 75750,
            "min": 0,
            "orientation": "horizontal",
            "style": "IPY_MODEL_57e9001f45904b86a310d188300240ac",
            "value": 75750
          }
        },
        "2dbc8335f1c54078a71f690e3e00d3a7": {
          "model_module": "@jupyter-widgets/controls",
          "model_name": "HTMLModel",
          "model_module_version": "1.5.0",
          "state": {
            "_dom_classes": [],
            "_model_module": "@jupyter-widgets/controls",
            "_model_module_version": "1.5.0",
            "_model_name": "HTMLModel",
            "_view_count": null,
            "_view_module": "@jupyter-widgets/controls",
            "_view_module_version": "1.5.0",
            "_view_name": "HTMLView",
            "description": "",
            "description_tooltip": null,
            "layout": "IPY_MODEL_73b2db15308e4b638857e5e237cf279c",
            "placeholder": "​",
            "style": "IPY_MODEL_d9ba7cd656394bf298960909f8fb6754",
            "value": " 75704/75750 [02:03&lt;00:00, 787.44 examples/s]"
          }
        },
        "deb65b6c40e34953a9a14619e1e988bf": {
          "model_module": "@jupyter-widgets/base",
          "model_name": "LayoutModel",
          "model_module_version": "1.2.0",
          "state": {
            "_model_module": "@jupyter-widgets/base",
            "_model_module_version": "1.2.0",
            "_model_name": "LayoutModel",
            "_view_count": null,
            "_view_module": "@jupyter-widgets/base",
            "_view_module_version": "1.2.0",
            "_view_name": "LayoutView",
            "align_content": null,
            "align_items": null,
            "align_self": null,
            "border": null,
            "bottom": null,
            "display": null,
            "flex": null,
            "flex_flow": null,
            "grid_area": null,
            "grid_auto_columns": null,
            "grid_auto_flow": null,
            "grid_auto_rows": null,
            "grid_column": null,
            "grid_gap": null,
            "grid_row": null,
            "grid_template_areas": null,
            "grid_template_columns": null,
            "grid_template_rows": null,
            "height": null,
            "justify_content": null,
            "justify_items": null,
            "left": null,
            "margin": null,
            "max_height": null,
            "max_width": null,
            "min_height": null,
            "min_width": null,
            "object_fit": null,
            "object_position": null,
            "order": null,
            "overflow": null,
            "overflow_x": null,
            "overflow_y": null,
            "padding": null,
            "right": null,
            "top": null,
            "visibility": "hidden",
            "width": null
          }
        },
        "c2ba9a4ae56f4fbda908df342ef15c7d": {
          "model_module": "@jupyter-widgets/base",
          "model_name": "LayoutModel",
          "model_module_version": "1.2.0",
          "state": {
            "_model_module": "@jupyter-widgets/base",
            "_model_module_version": "1.2.0",
            "_model_name": "LayoutModel",
            "_view_count": null,
            "_view_module": "@jupyter-widgets/base",
            "_view_module_version": "1.2.0",
            "_view_name": "LayoutView",
            "align_content": null,
            "align_items": null,
            "align_self": null,
            "border": null,
            "bottom": null,
            "display": null,
            "flex": null,
            "flex_flow": null,
            "grid_area": null,
            "grid_auto_columns": null,
            "grid_auto_flow": null,
            "grid_auto_rows": null,
            "grid_column": null,
            "grid_gap": null,
            "grid_row": null,
            "grid_template_areas": null,
            "grid_template_columns": null,
            "grid_template_rows": null,
            "height": null,
            "justify_content": null,
            "justify_items": null,
            "left": null,
            "margin": null,
            "max_height": null,
            "max_width": null,
            "min_height": null,
            "min_width": null,
            "object_fit": null,
            "object_position": null,
            "order": null,
            "overflow": null,
            "overflow_x": null,
            "overflow_y": null,
            "padding": null,
            "right": null,
            "top": null,
            "visibility": null,
            "width": null
          }
        },
        "b7367a90017749bbb6f1dabf69f645f1": {
          "model_module": "@jupyter-widgets/controls",
          "model_name": "DescriptionStyleModel",
          "model_module_version": "1.5.0",
          "state": {
            "_model_module": "@jupyter-widgets/controls",
            "_model_module_version": "1.5.0",
            "_model_name": "DescriptionStyleModel",
            "_view_count": null,
            "_view_module": "@jupyter-widgets/base",
            "_view_module_version": "1.2.0",
            "_view_name": "StyleView",
            "description_width": ""
          }
        },
        "773602f6d53d469ba6b38e599b6bb4aa": {
          "model_module": "@jupyter-widgets/base",
          "model_name": "LayoutModel",
          "model_module_version": "1.2.0",
          "state": {
            "_model_module": "@jupyter-widgets/base",
            "_model_module_version": "1.2.0",
            "_model_name": "LayoutModel",
            "_view_count": null,
            "_view_module": "@jupyter-widgets/base",
            "_view_module_version": "1.2.0",
            "_view_name": "LayoutView",
            "align_content": null,
            "align_items": null,
            "align_self": null,
            "border": null,
            "bottom": null,
            "display": null,
            "flex": null,
            "flex_flow": null,
            "grid_area": null,
            "grid_auto_columns": null,
            "grid_auto_flow": null,
            "grid_auto_rows": null,
            "grid_column": null,
            "grid_gap": null,
            "grid_row": null,
            "grid_template_areas": null,
            "grid_template_columns": null,
            "grid_template_rows": null,
            "height": null,
            "justify_content": null,
            "justify_items": null,
            "left": null,
            "margin": null,
            "max_height": null,
            "max_width": null,
            "min_height": null,
            "min_width": null,
            "object_fit": null,
            "object_position": null,
            "order": null,
            "overflow": null,
            "overflow_x": null,
            "overflow_y": null,
            "padding": null,
            "right": null,
            "top": null,
            "visibility": null,
            "width": null
          }
        },
        "57e9001f45904b86a310d188300240ac": {
          "model_module": "@jupyter-widgets/controls",
          "model_name": "ProgressStyleModel",
          "model_module_version": "1.5.0",
          "state": {
            "_model_module": "@jupyter-widgets/controls",
            "_model_module_version": "1.5.0",
            "_model_name": "ProgressStyleModel",
            "_view_count": null,
            "_view_module": "@jupyter-widgets/base",
            "_view_module_version": "1.2.0",
            "_view_name": "StyleView",
            "bar_color": null,
            "description_width": ""
          }
        },
        "73b2db15308e4b638857e5e237cf279c": {
          "model_module": "@jupyter-widgets/base",
          "model_name": "LayoutModel",
          "model_module_version": "1.2.0",
          "state": {
            "_model_module": "@jupyter-widgets/base",
            "_model_module_version": "1.2.0",
            "_model_name": "LayoutModel",
            "_view_count": null,
            "_view_module": "@jupyter-widgets/base",
            "_view_module_version": "1.2.0",
            "_view_name": "LayoutView",
            "align_content": null,
            "align_items": null,
            "align_self": null,
            "border": null,
            "bottom": null,
            "display": null,
            "flex": null,
            "flex_flow": null,
            "grid_area": null,
            "grid_auto_columns": null,
            "grid_auto_flow": null,
            "grid_auto_rows": null,
            "grid_column": null,
            "grid_gap": null,
            "grid_row": null,
            "grid_template_areas": null,
            "grid_template_columns": null,
            "grid_template_rows": null,
            "height": null,
            "justify_content": null,
            "justify_items": null,
            "left": null,
            "margin": null,
            "max_height": null,
            "max_width": null,
            "min_height": null,
            "min_width": null,
            "object_fit": null,
            "object_position": null,
            "order": null,
            "overflow": null,
            "overflow_x": null,
            "overflow_y": null,
            "padding": null,
            "right": null,
            "top": null,
            "visibility": null,
            "width": null
          }
        },
        "d9ba7cd656394bf298960909f8fb6754": {
          "model_module": "@jupyter-widgets/controls",
          "model_name": "DescriptionStyleModel",
          "model_module_version": "1.5.0",
          "state": {
            "_model_module": "@jupyter-widgets/controls",
            "_model_module_version": "1.5.0",
            "_model_name": "DescriptionStyleModel",
            "_view_count": null,
            "_view_module": "@jupyter-widgets/base",
            "_view_module_version": "1.2.0",
            "_view_name": "StyleView",
            "description_width": ""
          }
        },
        "cc461266fa464586891b131686b902a7": {
          "model_module": "@jupyter-widgets/controls",
          "model_name": "HBoxModel",
          "model_module_version": "1.5.0",
          "state": {
            "_dom_classes": [],
            "_model_module": "@jupyter-widgets/controls",
            "_model_module_version": "1.5.0",
            "_model_name": "HBoxModel",
            "_view_count": null,
            "_view_module": "@jupyter-widgets/controls",
            "_view_module_version": "1.5.0",
            "_view_name": "HBoxView",
            "box_style": "",
            "children": [
              "IPY_MODEL_9521cdb2f1cc4a249481b080b50ca283",
              "IPY_MODEL_e12e0680c8034469a543853db06b596a",
              "IPY_MODEL_ce83371aa7c641bb8472d0a8433427dd"
            ],
            "layout": "IPY_MODEL_2cd90b9f6e2649a883486b58b7c1ebac"
          }
        },
        "9521cdb2f1cc4a249481b080b50ca283": {
          "model_module": "@jupyter-widgets/controls",
          "model_name": "HTMLModel",
          "model_module_version": "1.5.0",
          "state": {
            "_dom_classes": [],
            "_model_module": "@jupyter-widgets/controls",
            "_model_module_version": "1.5.0",
            "_model_name": "HTMLModel",
            "_view_count": null,
            "_view_module": "@jupyter-widgets/controls",
            "_view_module_version": "1.5.0",
            "_view_name": "HTMLView",
            "description": "",
            "description_tooltip": null,
            "layout": "IPY_MODEL_7218a9e1c13245448a6bbce59f58b7c9",
            "placeholder": "​",
            "style": "IPY_MODEL_b7d684532ebb4ab28bd2bd07da9c3051",
            "value": "Shuffling /root/tensorflow_datasets/food101/2.0.0.incomplete4SNQO0/food101-train.tfrecord*...: 100%"
          }
        },
        "e12e0680c8034469a543853db06b596a": {
          "model_module": "@jupyter-widgets/controls",
          "model_name": "FloatProgressModel",
          "model_module_version": "1.5.0",
          "state": {
            "_dom_classes": [],
            "_model_module": "@jupyter-widgets/controls",
            "_model_module_version": "1.5.0",
            "_model_name": "FloatProgressModel",
            "_view_count": null,
            "_view_module": "@jupyter-widgets/controls",
            "_view_module_version": "1.5.0",
            "_view_name": "ProgressView",
            "bar_style": "",
            "description": "",
            "description_tooltip": null,
            "layout": "IPY_MODEL_38b68e641b0241b487b883932311eb3b",
            "max": 75750,
            "min": 0,
            "orientation": "horizontal",
            "style": "IPY_MODEL_4016ab108d3a4544b869d87c99107b41",
            "value": 75750
          }
        },
        "ce83371aa7c641bb8472d0a8433427dd": {
          "model_module": "@jupyter-widgets/controls",
          "model_name": "HTMLModel",
          "model_module_version": "1.5.0",
          "state": {
            "_dom_classes": [],
            "_model_module": "@jupyter-widgets/controls",
            "_model_module_version": "1.5.0",
            "_model_name": "HTMLModel",
            "_view_count": null,
            "_view_module": "@jupyter-widgets/controls",
            "_view_module_version": "1.5.0",
            "_view_name": "HTMLView",
            "description": "",
            "description_tooltip": null,
            "layout": "IPY_MODEL_2b3420d8e943455ea4968c470586e5fc",
            "placeholder": "​",
            "style": "IPY_MODEL_a14638dcfd5b4e21a35f816d1d1d9a49",
            "value": " 75601/75750 [00:40&lt;00:00, 2396.49 examples/s]"
          }
        },
        "2cd90b9f6e2649a883486b58b7c1ebac": {
          "model_module": "@jupyter-widgets/base",
          "model_name": "LayoutModel",
          "model_module_version": "1.2.0",
          "state": {
            "_model_module": "@jupyter-widgets/base",
            "_model_module_version": "1.2.0",
            "_model_name": "LayoutModel",
            "_view_count": null,
            "_view_module": "@jupyter-widgets/base",
            "_view_module_version": "1.2.0",
            "_view_name": "LayoutView",
            "align_content": null,
            "align_items": null,
            "align_self": null,
            "border": null,
            "bottom": null,
            "display": null,
            "flex": null,
            "flex_flow": null,
            "grid_area": null,
            "grid_auto_columns": null,
            "grid_auto_flow": null,
            "grid_auto_rows": null,
            "grid_column": null,
            "grid_gap": null,
            "grid_row": null,
            "grid_template_areas": null,
            "grid_template_columns": null,
            "grid_template_rows": null,
            "height": null,
            "justify_content": null,
            "justify_items": null,
            "left": null,
            "margin": null,
            "max_height": null,
            "max_width": null,
            "min_height": null,
            "min_width": null,
            "object_fit": null,
            "object_position": null,
            "order": null,
            "overflow": null,
            "overflow_x": null,
            "overflow_y": null,
            "padding": null,
            "right": null,
            "top": null,
            "visibility": "hidden",
            "width": null
          }
        },
        "7218a9e1c13245448a6bbce59f58b7c9": {
          "model_module": "@jupyter-widgets/base",
          "model_name": "LayoutModel",
          "model_module_version": "1.2.0",
          "state": {
            "_model_module": "@jupyter-widgets/base",
            "_model_module_version": "1.2.0",
            "_model_name": "LayoutModel",
            "_view_count": null,
            "_view_module": "@jupyter-widgets/base",
            "_view_module_version": "1.2.0",
            "_view_name": "LayoutView",
            "align_content": null,
            "align_items": null,
            "align_self": null,
            "border": null,
            "bottom": null,
            "display": null,
            "flex": null,
            "flex_flow": null,
            "grid_area": null,
            "grid_auto_columns": null,
            "grid_auto_flow": null,
            "grid_auto_rows": null,
            "grid_column": null,
            "grid_gap": null,
            "grid_row": null,
            "grid_template_areas": null,
            "grid_template_columns": null,
            "grid_template_rows": null,
            "height": null,
            "justify_content": null,
            "justify_items": null,
            "left": null,
            "margin": null,
            "max_height": null,
            "max_width": null,
            "min_height": null,
            "min_width": null,
            "object_fit": null,
            "object_position": null,
            "order": null,
            "overflow": null,
            "overflow_x": null,
            "overflow_y": null,
            "padding": null,
            "right": null,
            "top": null,
            "visibility": null,
            "width": null
          }
        },
        "b7d684532ebb4ab28bd2bd07da9c3051": {
          "model_module": "@jupyter-widgets/controls",
          "model_name": "DescriptionStyleModel",
          "model_module_version": "1.5.0",
          "state": {
            "_model_module": "@jupyter-widgets/controls",
            "_model_module_version": "1.5.0",
            "_model_name": "DescriptionStyleModel",
            "_view_count": null,
            "_view_module": "@jupyter-widgets/base",
            "_view_module_version": "1.2.0",
            "_view_name": "StyleView",
            "description_width": ""
          }
        },
        "38b68e641b0241b487b883932311eb3b": {
          "model_module": "@jupyter-widgets/base",
          "model_name": "LayoutModel",
          "model_module_version": "1.2.0",
          "state": {
            "_model_module": "@jupyter-widgets/base",
            "_model_module_version": "1.2.0",
            "_model_name": "LayoutModel",
            "_view_count": null,
            "_view_module": "@jupyter-widgets/base",
            "_view_module_version": "1.2.0",
            "_view_name": "LayoutView",
            "align_content": null,
            "align_items": null,
            "align_self": null,
            "border": null,
            "bottom": null,
            "display": null,
            "flex": null,
            "flex_flow": null,
            "grid_area": null,
            "grid_auto_columns": null,
            "grid_auto_flow": null,
            "grid_auto_rows": null,
            "grid_column": null,
            "grid_gap": null,
            "grid_row": null,
            "grid_template_areas": null,
            "grid_template_columns": null,
            "grid_template_rows": null,
            "height": null,
            "justify_content": null,
            "justify_items": null,
            "left": null,
            "margin": null,
            "max_height": null,
            "max_width": null,
            "min_height": null,
            "min_width": null,
            "object_fit": null,
            "object_position": null,
            "order": null,
            "overflow": null,
            "overflow_x": null,
            "overflow_y": null,
            "padding": null,
            "right": null,
            "top": null,
            "visibility": null,
            "width": null
          }
        },
        "4016ab108d3a4544b869d87c99107b41": {
          "model_module": "@jupyter-widgets/controls",
          "model_name": "ProgressStyleModel",
          "model_module_version": "1.5.0",
          "state": {
            "_model_module": "@jupyter-widgets/controls",
            "_model_module_version": "1.5.0",
            "_model_name": "ProgressStyleModel",
            "_view_count": null,
            "_view_module": "@jupyter-widgets/base",
            "_view_module_version": "1.2.0",
            "_view_name": "StyleView",
            "bar_color": null,
            "description_width": ""
          }
        },
        "2b3420d8e943455ea4968c470586e5fc": {
          "model_module": "@jupyter-widgets/base",
          "model_name": "LayoutModel",
          "model_module_version": "1.2.0",
          "state": {
            "_model_module": "@jupyter-widgets/base",
            "_model_module_version": "1.2.0",
            "_model_name": "LayoutModel",
            "_view_count": null,
            "_view_module": "@jupyter-widgets/base",
            "_view_module_version": "1.2.0",
            "_view_name": "LayoutView",
            "align_content": null,
            "align_items": null,
            "align_self": null,
            "border": null,
            "bottom": null,
            "display": null,
            "flex": null,
            "flex_flow": null,
            "grid_area": null,
            "grid_auto_columns": null,
            "grid_auto_flow": null,
            "grid_auto_rows": null,
            "grid_column": null,
            "grid_gap": null,
            "grid_row": null,
            "grid_template_areas": null,
            "grid_template_columns": null,
            "grid_template_rows": null,
            "height": null,
            "justify_content": null,
            "justify_items": null,
            "left": null,
            "margin": null,
            "max_height": null,
            "max_width": null,
            "min_height": null,
            "min_width": null,
            "object_fit": null,
            "object_position": null,
            "order": null,
            "overflow": null,
            "overflow_x": null,
            "overflow_y": null,
            "padding": null,
            "right": null,
            "top": null,
            "visibility": null,
            "width": null
          }
        },
        "a14638dcfd5b4e21a35f816d1d1d9a49": {
          "model_module": "@jupyter-widgets/controls",
          "model_name": "DescriptionStyleModel",
          "model_module_version": "1.5.0",
          "state": {
            "_model_module": "@jupyter-widgets/controls",
            "_model_module_version": "1.5.0",
            "_model_name": "DescriptionStyleModel",
            "_view_count": null,
            "_view_module": "@jupyter-widgets/base",
            "_view_module_version": "1.2.0",
            "_view_name": "StyleView",
            "description_width": ""
          }
        },
        "e70b835d7a1442b69ccd02acd8a40931": {
          "model_module": "@jupyter-widgets/controls",
          "model_name": "HBoxModel",
          "model_module_version": "1.5.0",
          "state": {
            "_dom_classes": [],
            "_model_module": "@jupyter-widgets/controls",
            "_model_module_version": "1.5.0",
            "_model_name": "HBoxModel",
            "_view_count": null,
            "_view_module": "@jupyter-widgets/controls",
            "_view_module_version": "1.5.0",
            "_view_name": "HBoxView",
            "box_style": "",
            "children": [
              "IPY_MODEL_8c225783ad2048b5b1a405e418686c95",
              "IPY_MODEL_37be77e65e784821b25167c7b3551e45",
              "IPY_MODEL_fb5d1ebc0c6742e7949ad9b2f00f9585"
            ],
            "layout": "IPY_MODEL_f33531fa9110483eab3a65c2c3982823"
          }
        },
        "8c225783ad2048b5b1a405e418686c95": {
          "model_module": "@jupyter-widgets/controls",
          "model_name": "HTMLModel",
          "model_module_version": "1.5.0",
          "state": {
            "_dom_classes": [],
            "_model_module": "@jupyter-widgets/controls",
            "_model_module_version": "1.5.0",
            "_model_name": "HTMLModel",
            "_view_count": null,
            "_view_module": "@jupyter-widgets/controls",
            "_view_module_version": "1.5.0",
            "_view_name": "HTMLView",
            "description": "",
            "description_tooltip": null,
            "layout": "IPY_MODEL_c4e38f16bf77407b8e85d22cf2370095",
            "placeholder": "​",
            "style": "IPY_MODEL_b3ea80a44df74789bdc4d7889ce2f659",
            "value": "Generating validation examples...: 100%"
          }
        },
        "37be77e65e784821b25167c7b3551e45": {
          "model_module": "@jupyter-widgets/controls",
          "model_name": "FloatProgressModel",
          "model_module_version": "1.5.0",
          "state": {
            "_dom_classes": [],
            "_model_module": "@jupyter-widgets/controls",
            "_model_module_version": "1.5.0",
            "_model_name": "FloatProgressModel",
            "_view_count": null,
            "_view_module": "@jupyter-widgets/controls",
            "_view_module_version": "1.5.0",
            "_view_name": "ProgressView",
            "bar_style": "",
            "description": "",
            "description_tooltip": null,
            "layout": "IPY_MODEL_fe0f209aeb2c4044adc805632b43779d",
            "max": 25250,
            "min": 0,
            "orientation": "horizontal",
            "style": "IPY_MODEL_c414c590d0e14e32a652872e5bf3e4b6",
            "value": 25250
          }
        },
        "fb5d1ebc0c6742e7949ad9b2f00f9585": {
          "model_module": "@jupyter-widgets/controls",
          "model_name": "HTMLModel",
          "model_module_version": "1.5.0",
          "state": {
            "_dom_classes": [],
            "_model_module": "@jupyter-widgets/controls",
            "_model_module_version": "1.5.0",
            "_model_name": "HTMLModel",
            "_view_count": null,
            "_view_module": "@jupyter-widgets/controls",
            "_view_module_version": "1.5.0",
            "_view_name": "HTMLView",
            "description": "",
            "description_tooltip": null,
            "layout": "IPY_MODEL_923c130dc4b0423287726e8e6283f4d9",
            "placeholder": "​",
            "style": "IPY_MODEL_eaeffa90376349198cb8f8a84f6d816e",
            "value": " 25226/25250 [01:01&lt;00:00, 409.93 examples/s]"
          }
        },
        "f33531fa9110483eab3a65c2c3982823": {
          "model_module": "@jupyter-widgets/base",
          "model_name": "LayoutModel",
          "model_module_version": "1.2.0",
          "state": {
            "_model_module": "@jupyter-widgets/base",
            "_model_module_version": "1.2.0",
            "_model_name": "LayoutModel",
            "_view_count": null,
            "_view_module": "@jupyter-widgets/base",
            "_view_module_version": "1.2.0",
            "_view_name": "LayoutView",
            "align_content": null,
            "align_items": null,
            "align_self": null,
            "border": null,
            "bottom": null,
            "display": null,
            "flex": null,
            "flex_flow": null,
            "grid_area": null,
            "grid_auto_columns": null,
            "grid_auto_flow": null,
            "grid_auto_rows": null,
            "grid_column": null,
            "grid_gap": null,
            "grid_row": null,
            "grid_template_areas": null,
            "grid_template_columns": null,
            "grid_template_rows": null,
            "height": null,
            "justify_content": null,
            "justify_items": null,
            "left": null,
            "margin": null,
            "max_height": null,
            "max_width": null,
            "min_height": null,
            "min_width": null,
            "object_fit": null,
            "object_position": null,
            "order": null,
            "overflow": null,
            "overflow_x": null,
            "overflow_y": null,
            "padding": null,
            "right": null,
            "top": null,
            "visibility": "hidden",
            "width": null
          }
        },
        "c4e38f16bf77407b8e85d22cf2370095": {
          "model_module": "@jupyter-widgets/base",
          "model_name": "LayoutModel",
          "model_module_version": "1.2.0",
          "state": {
            "_model_module": "@jupyter-widgets/base",
            "_model_module_version": "1.2.0",
            "_model_name": "LayoutModel",
            "_view_count": null,
            "_view_module": "@jupyter-widgets/base",
            "_view_module_version": "1.2.0",
            "_view_name": "LayoutView",
            "align_content": null,
            "align_items": null,
            "align_self": null,
            "border": null,
            "bottom": null,
            "display": null,
            "flex": null,
            "flex_flow": null,
            "grid_area": null,
            "grid_auto_columns": null,
            "grid_auto_flow": null,
            "grid_auto_rows": null,
            "grid_column": null,
            "grid_gap": null,
            "grid_row": null,
            "grid_template_areas": null,
            "grid_template_columns": null,
            "grid_template_rows": null,
            "height": null,
            "justify_content": null,
            "justify_items": null,
            "left": null,
            "margin": null,
            "max_height": null,
            "max_width": null,
            "min_height": null,
            "min_width": null,
            "object_fit": null,
            "object_position": null,
            "order": null,
            "overflow": null,
            "overflow_x": null,
            "overflow_y": null,
            "padding": null,
            "right": null,
            "top": null,
            "visibility": null,
            "width": null
          }
        },
        "b3ea80a44df74789bdc4d7889ce2f659": {
          "model_module": "@jupyter-widgets/controls",
          "model_name": "DescriptionStyleModel",
          "model_module_version": "1.5.0",
          "state": {
            "_model_module": "@jupyter-widgets/controls",
            "_model_module_version": "1.5.0",
            "_model_name": "DescriptionStyleModel",
            "_view_count": null,
            "_view_module": "@jupyter-widgets/base",
            "_view_module_version": "1.2.0",
            "_view_name": "StyleView",
            "description_width": ""
          }
        },
        "fe0f209aeb2c4044adc805632b43779d": {
          "model_module": "@jupyter-widgets/base",
          "model_name": "LayoutModel",
          "model_module_version": "1.2.0",
          "state": {
            "_model_module": "@jupyter-widgets/base",
            "_model_module_version": "1.2.0",
            "_model_name": "LayoutModel",
            "_view_count": null,
            "_view_module": "@jupyter-widgets/base",
            "_view_module_version": "1.2.0",
            "_view_name": "LayoutView",
            "align_content": null,
            "align_items": null,
            "align_self": null,
            "border": null,
            "bottom": null,
            "display": null,
            "flex": null,
            "flex_flow": null,
            "grid_area": null,
            "grid_auto_columns": null,
            "grid_auto_flow": null,
            "grid_auto_rows": null,
            "grid_column": null,
            "grid_gap": null,
            "grid_row": null,
            "grid_template_areas": null,
            "grid_template_columns": null,
            "grid_template_rows": null,
            "height": null,
            "justify_content": null,
            "justify_items": null,
            "left": null,
            "margin": null,
            "max_height": null,
            "max_width": null,
            "min_height": null,
            "min_width": null,
            "object_fit": null,
            "object_position": null,
            "order": null,
            "overflow": null,
            "overflow_x": null,
            "overflow_y": null,
            "padding": null,
            "right": null,
            "top": null,
            "visibility": null,
            "width": null
          }
        },
        "c414c590d0e14e32a652872e5bf3e4b6": {
          "model_module": "@jupyter-widgets/controls",
          "model_name": "ProgressStyleModel",
          "model_module_version": "1.5.0",
          "state": {
            "_model_module": "@jupyter-widgets/controls",
            "_model_module_version": "1.5.0",
            "_model_name": "ProgressStyleModel",
            "_view_count": null,
            "_view_module": "@jupyter-widgets/base",
            "_view_module_version": "1.2.0",
            "_view_name": "StyleView",
            "bar_color": null,
            "description_width": ""
          }
        },
        "923c130dc4b0423287726e8e6283f4d9": {
          "model_module": "@jupyter-widgets/base",
          "model_name": "LayoutModel",
          "model_module_version": "1.2.0",
          "state": {
            "_model_module": "@jupyter-widgets/base",
            "_model_module_version": "1.2.0",
            "_model_name": "LayoutModel",
            "_view_count": null,
            "_view_module": "@jupyter-widgets/base",
            "_view_module_version": "1.2.0",
            "_view_name": "LayoutView",
            "align_content": null,
            "align_items": null,
            "align_self": null,
            "border": null,
            "bottom": null,
            "display": null,
            "flex": null,
            "flex_flow": null,
            "grid_area": null,
            "grid_auto_columns": null,
            "grid_auto_flow": null,
            "grid_auto_rows": null,
            "grid_column": null,
            "grid_gap": null,
            "grid_row": null,
            "grid_template_areas": null,
            "grid_template_columns": null,
            "grid_template_rows": null,
            "height": null,
            "justify_content": null,
            "justify_items": null,
            "left": null,
            "margin": null,
            "max_height": null,
            "max_width": null,
            "min_height": null,
            "min_width": null,
            "object_fit": null,
            "object_position": null,
            "order": null,
            "overflow": null,
            "overflow_x": null,
            "overflow_y": null,
            "padding": null,
            "right": null,
            "top": null,
            "visibility": null,
            "width": null
          }
        },
        "eaeffa90376349198cb8f8a84f6d816e": {
          "model_module": "@jupyter-widgets/controls",
          "model_name": "DescriptionStyleModel",
          "model_module_version": "1.5.0",
          "state": {
            "_model_module": "@jupyter-widgets/controls",
            "_model_module_version": "1.5.0",
            "_model_name": "DescriptionStyleModel",
            "_view_count": null,
            "_view_module": "@jupyter-widgets/base",
            "_view_module_version": "1.2.0",
            "_view_name": "StyleView",
            "description_width": ""
          }
        },
        "dc58ef2308ce4b10b359682cc2bf6091": {
          "model_module": "@jupyter-widgets/controls",
          "model_name": "HBoxModel",
          "model_module_version": "1.5.0",
          "state": {
            "_dom_classes": [],
            "_model_module": "@jupyter-widgets/controls",
            "_model_module_version": "1.5.0",
            "_model_name": "HBoxModel",
            "_view_count": null,
            "_view_module": "@jupyter-widgets/controls",
            "_view_module_version": "1.5.0",
            "_view_name": "HBoxView",
            "box_style": "",
            "children": [
              "IPY_MODEL_7080d605148a48f3bbdcd4b2c1be4731",
              "IPY_MODEL_1c93161e5e694cccbe09cf4155b520a1",
              "IPY_MODEL_6d1e330eec09471594d3ff92a3252b2a"
            ],
            "layout": "IPY_MODEL_95901475193b46acb96a6393027c234e"
          }
        },
        "7080d605148a48f3bbdcd4b2c1be4731": {
          "model_module": "@jupyter-widgets/controls",
          "model_name": "HTMLModel",
          "model_module_version": "1.5.0",
          "state": {
            "_dom_classes": [],
            "_model_module": "@jupyter-widgets/controls",
            "_model_module_version": "1.5.0",
            "_model_name": "HTMLModel",
            "_view_count": null,
            "_view_module": "@jupyter-widgets/controls",
            "_view_module_version": "1.5.0",
            "_view_name": "HTMLView",
            "description": "",
            "description_tooltip": null,
            "layout": "IPY_MODEL_f7382016e61c48f184d924a3194b658b",
            "placeholder": "​",
            "style": "IPY_MODEL_64d11d438bc34edf9ab502d0813c3610",
            "value": "Shuffling /root/tensorflow_datasets/food101/2.0.0.incomplete4SNQO0/food101-validation.tfrecord*...: 100%"
          }
        },
        "1c93161e5e694cccbe09cf4155b520a1": {
          "model_module": "@jupyter-widgets/controls",
          "model_name": "FloatProgressModel",
          "model_module_version": "1.5.0",
          "state": {
            "_dom_classes": [],
            "_model_module": "@jupyter-widgets/controls",
            "_model_module_version": "1.5.0",
            "_model_name": "FloatProgressModel",
            "_view_count": null,
            "_view_module": "@jupyter-widgets/controls",
            "_view_module_version": "1.5.0",
            "_view_name": "ProgressView",
            "bar_style": "",
            "description": "",
            "description_tooltip": null,
            "layout": "IPY_MODEL_e1b63c377b944753b7520c0c0cb88b50",
            "max": 25250,
            "min": 0,
            "orientation": "horizontal",
            "style": "IPY_MODEL_9b861279d8bc4047a7c6fa725316e005",
            "value": 25250
          }
        },
        "6d1e330eec09471594d3ff92a3252b2a": {
          "model_module": "@jupyter-widgets/controls",
          "model_name": "HTMLModel",
          "model_module_version": "1.5.0",
          "state": {
            "_dom_classes": [],
            "_model_module": "@jupyter-widgets/controls",
            "_model_module_version": "1.5.0",
            "_model_name": "HTMLModel",
            "_view_count": null,
            "_view_module": "@jupyter-widgets/controls",
            "_view_module_version": "1.5.0",
            "_view_name": "HTMLView",
            "description": "",
            "description_tooltip": null,
            "layout": "IPY_MODEL_e2a9a1aed652487c99892c52c74be5b7",
            "placeholder": "​",
            "style": "IPY_MODEL_a31ad7872ccb4145a304c0dafa326d93",
            "value": " 25204/25250 [00:04&lt;00:00, 4945.04 examples/s]"
          }
        },
        "95901475193b46acb96a6393027c234e": {
          "model_module": "@jupyter-widgets/base",
          "model_name": "LayoutModel",
          "model_module_version": "1.2.0",
          "state": {
            "_model_module": "@jupyter-widgets/base",
            "_model_module_version": "1.2.0",
            "_model_name": "LayoutModel",
            "_view_count": null,
            "_view_module": "@jupyter-widgets/base",
            "_view_module_version": "1.2.0",
            "_view_name": "LayoutView",
            "align_content": null,
            "align_items": null,
            "align_self": null,
            "border": null,
            "bottom": null,
            "display": null,
            "flex": null,
            "flex_flow": null,
            "grid_area": null,
            "grid_auto_columns": null,
            "grid_auto_flow": null,
            "grid_auto_rows": null,
            "grid_column": null,
            "grid_gap": null,
            "grid_row": null,
            "grid_template_areas": null,
            "grid_template_columns": null,
            "grid_template_rows": null,
            "height": null,
            "justify_content": null,
            "justify_items": null,
            "left": null,
            "margin": null,
            "max_height": null,
            "max_width": null,
            "min_height": null,
            "min_width": null,
            "object_fit": null,
            "object_position": null,
            "order": null,
            "overflow": null,
            "overflow_x": null,
            "overflow_y": null,
            "padding": null,
            "right": null,
            "top": null,
            "visibility": "hidden",
            "width": null
          }
        },
        "f7382016e61c48f184d924a3194b658b": {
          "model_module": "@jupyter-widgets/base",
          "model_name": "LayoutModel",
          "model_module_version": "1.2.0",
          "state": {
            "_model_module": "@jupyter-widgets/base",
            "_model_module_version": "1.2.0",
            "_model_name": "LayoutModel",
            "_view_count": null,
            "_view_module": "@jupyter-widgets/base",
            "_view_module_version": "1.2.0",
            "_view_name": "LayoutView",
            "align_content": null,
            "align_items": null,
            "align_self": null,
            "border": null,
            "bottom": null,
            "display": null,
            "flex": null,
            "flex_flow": null,
            "grid_area": null,
            "grid_auto_columns": null,
            "grid_auto_flow": null,
            "grid_auto_rows": null,
            "grid_column": null,
            "grid_gap": null,
            "grid_row": null,
            "grid_template_areas": null,
            "grid_template_columns": null,
            "grid_template_rows": null,
            "height": null,
            "justify_content": null,
            "justify_items": null,
            "left": null,
            "margin": null,
            "max_height": null,
            "max_width": null,
            "min_height": null,
            "min_width": null,
            "object_fit": null,
            "object_position": null,
            "order": null,
            "overflow": null,
            "overflow_x": null,
            "overflow_y": null,
            "padding": null,
            "right": null,
            "top": null,
            "visibility": null,
            "width": null
          }
        },
        "64d11d438bc34edf9ab502d0813c3610": {
          "model_module": "@jupyter-widgets/controls",
          "model_name": "DescriptionStyleModel",
          "model_module_version": "1.5.0",
          "state": {
            "_model_module": "@jupyter-widgets/controls",
            "_model_module_version": "1.5.0",
            "_model_name": "DescriptionStyleModel",
            "_view_count": null,
            "_view_module": "@jupyter-widgets/base",
            "_view_module_version": "1.2.0",
            "_view_name": "StyleView",
            "description_width": ""
          }
        },
        "e1b63c377b944753b7520c0c0cb88b50": {
          "model_module": "@jupyter-widgets/base",
          "model_name": "LayoutModel",
          "model_module_version": "1.2.0",
          "state": {
            "_model_module": "@jupyter-widgets/base",
            "_model_module_version": "1.2.0",
            "_model_name": "LayoutModel",
            "_view_count": null,
            "_view_module": "@jupyter-widgets/base",
            "_view_module_version": "1.2.0",
            "_view_name": "LayoutView",
            "align_content": null,
            "align_items": null,
            "align_self": null,
            "border": null,
            "bottom": null,
            "display": null,
            "flex": null,
            "flex_flow": null,
            "grid_area": null,
            "grid_auto_columns": null,
            "grid_auto_flow": null,
            "grid_auto_rows": null,
            "grid_column": null,
            "grid_gap": null,
            "grid_row": null,
            "grid_template_areas": null,
            "grid_template_columns": null,
            "grid_template_rows": null,
            "height": null,
            "justify_content": null,
            "justify_items": null,
            "left": null,
            "margin": null,
            "max_height": null,
            "max_width": null,
            "min_height": null,
            "min_width": null,
            "object_fit": null,
            "object_position": null,
            "order": null,
            "overflow": null,
            "overflow_x": null,
            "overflow_y": null,
            "padding": null,
            "right": null,
            "top": null,
            "visibility": null,
            "width": null
          }
        },
        "9b861279d8bc4047a7c6fa725316e005": {
          "model_module": "@jupyter-widgets/controls",
          "model_name": "ProgressStyleModel",
          "model_module_version": "1.5.0",
          "state": {
            "_model_module": "@jupyter-widgets/controls",
            "_model_module_version": "1.5.0",
            "_model_name": "ProgressStyleModel",
            "_view_count": null,
            "_view_module": "@jupyter-widgets/base",
            "_view_module_version": "1.2.0",
            "_view_name": "StyleView",
            "bar_color": null,
            "description_width": ""
          }
        },
        "e2a9a1aed652487c99892c52c74be5b7": {
          "model_module": "@jupyter-widgets/base",
          "model_name": "LayoutModel",
          "model_module_version": "1.2.0",
          "state": {
            "_model_module": "@jupyter-widgets/base",
            "_model_module_version": "1.2.0",
            "_model_name": "LayoutModel",
            "_view_count": null,
            "_view_module": "@jupyter-widgets/base",
            "_view_module_version": "1.2.0",
            "_view_name": "LayoutView",
            "align_content": null,
            "align_items": null,
            "align_self": null,
            "border": null,
            "bottom": null,
            "display": null,
            "flex": null,
            "flex_flow": null,
            "grid_area": null,
            "grid_auto_columns": null,
            "grid_auto_flow": null,
            "grid_auto_rows": null,
            "grid_column": null,
            "grid_gap": null,
            "grid_row": null,
            "grid_template_areas": null,
            "grid_template_columns": null,
            "grid_template_rows": null,
            "height": null,
            "justify_content": null,
            "justify_items": null,
            "left": null,
            "margin": null,
            "max_height": null,
            "max_width": null,
            "min_height": null,
            "min_width": null,
            "object_fit": null,
            "object_position": null,
            "order": null,
            "overflow": null,
            "overflow_x": null,
            "overflow_y": null,
            "padding": null,
            "right": null,
            "top": null,
            "visibility": null,
            "width": null
          }
        },
        "a31ad7872ccb4145a304c0dafa326d93": {
          "model_module": "@jupyter-widgets/controls",
          "model_name": "DescriptionStyleModel",
          "model_module_version": "1.5.0",
          "state": {
            "_model_module": "@jupyter-widgets/controls",
            "_model_module_version": "1.5.0",
            "_model_name": "DescriptionStyleModel",
            "_view_count": null,
            "_view_module": "@jupyter-widgets/base",
            "_view_module_version": "1.2.0",
            "_view_name": "StyleView",
            "description_width": ""
          }
        }
      }
    },
    "accelerator": "GPU"
  },
  "cells": [
    {
      "cell_type": "markdown",
      "metadata": {
        "id": "view-in-github",
        "colab_type": "text"
      },
      "source": [
        "<a href=\"https://colab.research.google.com/github/MohamadMahdiDarvishi/Tensorflow/blob/main/Notebooks/Tensorflow_07.ipynb\" target=\"_parent\"><img src=\"https://colab.research.google.com/assets/colab-badge.svg\" alt=\"Open In Colab\"/></a>"
      ]
    },
    {
      "cell_type": "markdown",
      "source": [
        "# Milestone Project 1 : Food Vision Big 🍔"
      ],
      "metadata": {
        "id": "gIifFWd-S9-P"
      }
    },
    {
      "cell_type": "markdown",
      "source": [
        "## 0. Prerequirities"
      ],
      "metadata": {
        "id": "EUxbwUKE-Dve"
      }
    },
    {
      "cell_type": "code",
      "source": [
        "# Imports\n",
        "import tensorflow as tf\n",
        "import numpy as np\n",
        "import pandas as pd\n",
        "import matplotlib.pyplot as plt\n",
        "import requests"
      ],
      "metadata": {
        "id": "7cD9uqGQ-M1m"
      },
      "execution_count": null,
      "outputs": []
    },
    {
      "cell_type": "markdown",
      "source": [
        "❗ **Note**\n",
        "\n",
        "There is diffrent gpus for deep learning but there is just few of them used for mixed precision including `tesla T4` which is presented by google colab"
      ],
      "metadata": {
        "id": "sqDboHbwXCVd"
      }
    },
    {
      "cell_type": "code",
      "source": [
        "# GPU\n",
        "!nvidia-smi -L"
      ],
      "metadata": {
        "id": "pEMxezd2-ySS",
        "colab": {
          "base_uri": "https://localhost:8080/"
        },
        "outputId": "63404ad0-db34-4142-c1dc-6b15179477b2"
      },
      "execution_count": null,
      "outputs": [
        {
          "output_type": "stream",
          "name": "stdout",
          "text": [
            "GPU 0: Tesla T4 (UUID: GPU-7cc13ef7-13a9-a48e-fa79-f907b42fa66a)\n"
          ]
        }
      ]
    },
    {
      "cell_type": "code",
      "source": [
        "# Download helper functions\n",
        "!wget https://raw.githubusercontent.com/mrdbourke/tensorflow-deep-learning/main/extras/helper_functions.py\n",
        "# Import functions\n",
        "from helper_functions import plot_loss_curves , compare_historys , create_tensorboard_callback"
      ],
      "metadata": {
        "id": "yiZWZQq2-3IS",
        "colab": {
          "base_uri": "https://localhost:8080/"
        },
        "outputId": "82fad105-9aa9-4df9-eae3-46b9f01058d0"
      },
      "execution_count": null,
      "outputs": [
        {
          "output_type": "stream",
          "name": "stdout",
          "text": [
            "--2023-09-08 14:15:47--  https://raw.githubusercontent.com/mrdbourke/tensorflow-deep-learning/main/extras/helper_functions.py\n",
            "Resolving raw.githubusercontent.com (raw.githubusercontent.com)... 185.199.108.133, 185.199.109.133, 185.199.110.133, ...\n",
            "Connecting to raw.githubusercontent.com (raw.githubusercontent.com)|185.199.108.133|:443... connected.\n",
            "HTTP request sent, awaiting response... 200 OK\n",
            "Length: 10246 (10K) [text/plain]\n",
            "Saving to: ‘helper_functions.py’\n",
            "\n",
            "helper_functions.py 100%[===================>]  10.01K  --.-KB/s    in 0s      \n",
            "\n",
            "2023-09-08 14:15:47 (126 MB/s) - ‘helper_functions.py’ saved [10246/10246]\n",
            "\n"
          ]
        }
      ]
    },
    {
      "cell_type": "markdown",
      "source": [
        "## Prepare data"
      ],
      "metadata": {
        "id": "kNwk1qtx_euF"
      }
    },
    {
      "cell_type": "markdown",
      "source": [
        "### Using `TensorFlow Datasets` (TFDS) to download datasest"
      ],
      "metadata": {
        "id": "8xwYMNwOCNWw"
      }
    },
    {
      "cell_type": "code",
      "source": [
        "import tensorflow_datasets as tfds"
      ],
      "metadata": {
        "id": "KXX1gNEC_e44"
      },
      "execution_count": null,
      "outputs": []
    },
    {
      "cell_type": "code",
      "source": [
        "list_datasets = tfds.list_builders()\n",
        "\"food101\" in list_datasets"
      ],
      "metadata": {
        "colab": {
          "base_uri": "https://localhost:8080/"
        },
        "id": "RbipvHZc_e8v",
        "outputId": "27a89075-17f5-4a30-c4fe-4d32ed649d8a"
      },
      "execution_count": null,
      "outputs": [
        {
          "output_type": "execute_result",
          "data": {
            "text/plain": [
              "True"
            ]
          },
          "metadata": {},
          "execution_count": 7
        }
      ]
    },
    {
      "cell_type": "code",
      "source": [
        "(train_data , test_data) , ds_info = tfds.load(name  = \"food101\" ,\n",
        "                                               as_supervised = True ,\n",
        "                                               split = [\"train\" , \"validation\"] ,\n",
        "                                               shuffle_files = True ,\n",
        "                                               with_info = True)"
      ],
      "metadata": {
        "colab": {
          "base_uri": "https://localhost:8080/",
          "height": 148,
          "referenced_widgets": [
            "10a4358e61014ac38edafa74e72ed058",
            "b3458fc9ba264b61b3b1b604224bbaa3",
            "fc5184f92dfa49b38fca5ba8818ee003",
            "2ddf7d207609450384ffe0d08b4afc9d",
            "299430787e834731a8c5f85a4c0c0d27",
            "4dd0f6a10fba47ebbbf37580df0768ee",
            "d740202d5f214182ab02c3215b187d10",
            "2eee300ce2234effb290e4739a069908",
            "6fd019af8b8340de8298370344bcac92",
            "a7ff5a90a0a748e29e87f14085929e36",
            "0fb37f83ed94406c9c13a0de21c8a458",
            "3154516e543240f19862643077ad123c",
            "d5e6a3337ff74286b5240c565b35d397",
            "ad286356ceb3400f979f6f789126a836",
            "46cad016b68d4940b5ca17d05f1130de",
            "ba35f3e3ca8a447abf79f2d4fbc52efa",
            "637a8c2208244bf6b9ae063341416335",
            "41ec1f8c5d6845e7a053d4b43bf431cc",
            "9d6b93c3e4274889a05327b27f0ccc9c",
            "e370338895b5432a86402c5eba874bb9",
            "6d6e8dfae9e2450c875f0ee1ea3cdb0c",
            "3b7aa168c85e40a1a105397741b29d63",
            "5482333f339d43d5a29cf3987cfd13ac",
            "c510d80f5dd3417d89b1ba623d6948e8",
            "170f06987e504810b8cdf09b2aa237d8",
            "ad40ebd28f4849cc9d1ef82fdb408971",
            "561b0d061a174e92ac08809b63b8a7dd",
            "2e233b277e064235aabc0be8f3500622",
            "8796753802884becbec057681f4bfdeb",
            "3c6fbadcb9e04ecab711d6ff49df338a",
            "56a56b4c7fb8422ca871a3c08971e91c",
            "4c5d6a38bbb9416aa47f12baf7103564",
            "1d023ed5252340a3966e96ae4f727e10",
            "7b5ff51f4d8f4d619a87a6896c7cef5c",
            "b4b7801221174ab18c2acc5366018200",
            "0d5c1ff0b309424ea0cb6d3b906a7041",
            "f16b837db5ba4a79b24d52bc0e1efaa1",
            "dc8380b4702542bba8857cee6ff45eaf",
            "176acfc89a094783a4516909cec3f5ad",
            "1251e8fb283049c48034caa30f3e86d4",
            "aec67d2afdb74721ba22d8dd42c3ec5a",
            "97708cc955064fb0b9bfe172bb97b155",
            "158631e45cad460a8f5b77404154d604",
            "7c4110eb366242288f36826928280ccc",
            "89663bb1cbac4b9096e01d0e1a44da72",
            "42f564131dba4d6aaa91c3c4da5313a5",
            "4fa37fa3a8df4644a3ee1a090c50ae14",
            "2dbc8335f1c54078a71f690e3e00d3a7",
            "deb65b6c40e34953a9a14619e1e988bf",
            "c2ba9a4ae56f4fbda908df342ef15c7d",
            "b7367a90017749bbb6f1dabf69f645f1",
            "773602f6d53d469ba6b38e599b6bb4aa",
            "57e9001f45904b86a310d188300240ac",
            "73b2db15308e4b638857e5e237cf279c",
            "d9ba7cd656394bf298960909f8fb6754",
            "cc461266fa464586891b131686b902a7",
            "9521cdb2f1cc4a249481b080b50ca283",
            "e12e0680c8034469a543853db06b596a",
            "ce83371aa7c641bb8472d0a8433427dd",
            "2cd90b9f6e2649a883486b58b7c1ebac",
            "7218a9e1c13245448a6bbce59f58b7c9",
            "b7d684532ebb4ab28bd2bd07da9c3051",
            "38b68e641b0241b487b883932311eb3b",
            "4016ab108d3a4544b869d87c99107b41",
            "2b3420d8e943455ea4968c470586e5fc",
            "a14638dcfd5b4e21a35f816d1d1d9a49",
            "e70b835d7a1442b69ccd02acd8a40931",
            "8c225783ad2048b5b1a405e418686c95",
            "37be77e65e784821b25167c7b3551e45",
            "fb5d1ebc0c6742e7949ad9b2f00f9585",
            "f33531fa9110483eab3a65c2c3982823",
            "c4e38f16bf77407b8e85d22cf2370095",
            "b3ea80a44df74789bdc4d7889ce2f659",
            "fe0f209aeb2c4044adc805632b43779d",
            "c414c590d0e14e32a652872e5bf3e4b6",
            "923c130dc4b0423287726e8e6283f4d9",
            "eaeffa90376349198cb8f8a84f6d816e",
            "dc58ef2308ce4b10b359682cc2bf6091",
            "7080d605148a48f3bbdcd4b2c1be4731",
            "1c93161e5e694cccbe09cf4155b520a1",
            "6d1e330eec09471594d3ff92a3252b2a",
            "95901475193b46acb96a6393027c234e",
            "f7382016e61c48f184d924a3194b658b",
            "64d11d438bc34edf9ab502d0813c3610",
            "e1b63c377b944753b7520c0c0cb88b50",
            "9b861279d8bc4047a7c6fa725316e005",
            "e2a9a1aed652487c99892c52c74be5b7",
            "a31ad7872ccb4145a304c0dafa326d93"
          ]
        },
        "id": "Ej5V_IQd_fAx",
        "outputId": "ccadda69-0e27-4b82-e189-9af80eeb2b41"
      },
      "execution_count": null,
      "outputs": [
        {
          "output_type": "stream",
          "name": "stdout",
          "text": [
            "Downloading and preparing dataset 4.65 GiB (download: 4.65 GiB, generated: Unknown size, total: 4.65 GiB) to /root/tensorflow_datasets/food101/2.0.0...\n"
          ]
        },
        {
          "output_type": "display_data",
          "data": {
            "text/plain": [
              "Dl Completed...: 0 url [00:00, ? url/s]"
            ],
            "application/vnd.jupyter.widget-view+json": {
              "version_major": 2,
              "version_minor": 0,
              "model_id": "10a4358e61014ac38edafa74e72ed058"
            }
          },
          "metadata": {}
        },
        {
          "output_type": "display_data",
          "data": {
            "text/plain": [
              "Dl Size...: 0 MiB [00:00, ? MiB/s]"
            ],
            "application/vnd.jupyter.widget-view+json": {
              "version_major": 2,
              "version_minor": 0,
              "model_id": "3154516e543240f19862643077ad123c"
            }
          },
          "metadata": {}
        },
        {
          "output_type": "display_data",
          "data": {
            "text/plain": [
              "Extraction completed...: 0 file [00:00, ? file/s]"
            ],
            "application/vnd.jupyter.widget-view+json": {
              "version_major": 2,
              "version_minor": 0,
              "model_id": "5482333f339d43d5a29cf3987cfd13ac"
            }
          },
          "metadata": {}
        },
        {
          "output_type": "display_data",
          "data": {
            "text/plain": [
              "Generating splits...:   0%|          | 0/2 [00:00<?, ? splits/s]"
            ],
            "application/vnd.jupyter.widget-view+json": {
              "version_major": 2,
              "version_minor": 0,
              "model_id": "7b5ff51f4d8f4d619a87a6896c7cef5c"
            }
          },
          "metadata": {}
        },
        {
          "output_type": "display_data",
          "data": {
            "text/plain": [
              "Generating train examples...:   0%|          | 0/75750 [00:00<?, ? examples/s]"
            ],
            "application/vnd.jupyter.widget-view+json": {
              "version_major": 2,
              "version_minor": 0,
              "model_id": "89663bb1cbac4b9096e01d0e1a44da72"
            }
          },
          "metadata": {}
        },
        {
          "output_type": "display_data",
          "data": {
            "text/plain": [
              "Shuffling /root/tensorflow_datasets/food101/2.0.0.incomplete4SNQO0/food101-train.tfrecord*...:   0%|          …"
            ],
            "application/vnd.jupyter.widget-view+json": {
              "version_major": 2,
              "version_minor": 0,
              "model_id": "cc461266fa464586891b131686b902a7"
            }
          },
          "metadata": {}
        },
        {
          "output_type": "display_data",
          "data": {
            "text/plain": [
              "Generating validation examples...:   0%|          | 0/25250 [00:00<?, ? examples/s]"
            ],
            "application/vnd.jupyter.widget-view+json": {
              "version_major": 2,
              "version_minor": 0,
              "model_id": "e70b835d7a1442b69ccd02acd8a40931"
            }
          },
          "metadata": {}
        },
        {
          "output_type": "display_data",
          "data": {
            "text/plain": [
              "Shuffling /root/tensorflow_datasets/food101/2.0.0.incomplete4SNQO0/food101-validation.tfrecord*...:   0%|     …"
            ],
            "application/vnd.jupyter.widget-view+json": {
              "version_major": 2,
              "version_minor": 0,
              "model_id": "dc58ef2308ce4b10b359682cc2bf6091"
            }
          },
          "metadata": {}
        },
        {
          "output_type": "stream",
          "name": "stdout",
          "text": [
            "Dataset food101 downloaded and prepared to /root/tensorflow_datasets/food101/2.0.0. Subsequent calls will reuse this data.\n"
          ]
        }
      ]
    },
    {
      "cell_type": "markdown",
      "source": [
        "### A glance at our data"
      ],
      "metadata": {
        "id": "isO8FORrBwTw"
      }
    },
    {
      "cell_type": "code",
      "source": [
        "ds_info.features"
      ],
      "metadata": {
        "id": "i_3xzVzAEHLI",
        "colab": {
          "base_uri": "https://localhost:8080/"
        },
        "outputId": "6dd3e430-147f-4d17-df05-f5cc97481862"
      },
      "execution_count": null,
      "outputs": [
        {
          "output_type": "execute_result",
          "data": {
            "text/plain": [
              "FeaturesDict({\n",
              "    'image': Image(shape=(None, None, 3), dtype=uint8),\n",
              "    'label': ClassLabel(shape=(), dtype=int64, num_classes=101),\n",
              "})"
            ]
          },
          "metadata": {},
          "execution_count": 9
        }
      ]
    },
    {
      "cell_type": "code",
      "source": [
        "class_names = ds_info.features[\"label\"].names\n",
        "len(class_names) , class_names[-10:]"
      ],
      "metadata": {
        "id": "q4IjIWIwEHI9",
        "colab": {
          "base_uri": "https://localhost:8080/"
        },
        "outputId": "ad9cc8c6-fd48-4fd1-94a1-28f48159a1f9"
      },
      "execution_count": null,
      "outputs": [
        {
          "output_type": "execute_result",
          "data": {
            "text/plain": [
              "(101,\n",
              " ['spaghetti_carbonara',\n",
              "  'spring_rolls',\n",
              "  'steak',\n",
              "  'strawberry_shortcake',\n",
              "  'sushi',\n",
              "  'tacos',\n",
              "  'takoyaki',\n",
              "  'tiramisu',\n",
              "  'tuna_tartare',\n",
              "  'waffles'])"
            ]
          },
          "metadata": {},
          "execution_count": 10
        }
      ]
    },
    {
      "cell_type": "code",
      "source": [
        "image , label = list(train_data.take(1))[0][0] , list(train_data.take(1))[0][1]\n",
        "print(f\"\"\"\n",
        "image shape : {image.shape}\n",
        "image_datatype : {image.dtype}\n",
        "image label : {label.numpy()}\n",
        "food class : {class_names[label.numpy()]}\n",
        "\"\"\")"
      ],
      "metadata": {
        "id": "Slm8_Gpq_fEy",
        "colab": {
          "base_uri": "https://localhost:8080/"
        },
        "outputId": "80984109-623f-42ca-ad29-672f7451351c"
      },
      "execution_count": null,
      "outputs": [
        {
          "output_type": "stream",
          "name": "stdout",
          "text": [
            "\n",
            "image shape : (512, 512, 3)\n",
            "image_datatype : <dtype: 'uint8'>\n",
            "image label : 45\n",
            "food class : frozen_yogurt\n",
            "\n"
          ]
        }
      ]
    },
    {
      "cell_type": "code",
      "source": [
        "# plot an image from datasest\n",
        "plt.imshow(image) ;\n",
        "plt.title(class_names[label.numpy()]) ;\n",
        "plt.axis(\"off\") ;"
      ],
      "metadata": {
        "id": "7QvWjCB-_fJi",
        "colab": {
          "base_uri": "https://localhost:8080/",
          "height": 428
        },
        "outputId": "08e9a4f0-cab4-42eb-a5a7-d12e2f32bf11"
      },
      "execution_count": null,
      "outputs": [
        {
          "output_type": "display_data",
          "data": {
            "text/plain": [
              "<Figure size 640x480 with 1 Axes>"
            ],
            "image/png": "[encoded data removed]"
          },
          "metadata": {}
        }
      ]
    },
    {
      "cell_type": "markdown",
      "source": [
        "### Operating Preprocessing on data\n",
        "\n",
        "models prefer to look at data in special terms including rescaled (0 & 1) , reshaped (224,224) , and with float data type (tf.float)\n",
        "\n",
        "❗ **Note**\n",
        "\n",
        "in this notebook we are using `efficientB0` which prefers to look at data in for of not scaled\n",
        "\n",
        "but in other terms its like other models and prefer :\n",
        "\n",
        "* float data type\n",
        "* a specific target size\n",
        "\n",
        "in order we are going to map our preprocessing function to our dataset and make sure they are parallel"
      ],
      "metadata": {
        "id": "ijvkdNIM_fN_"
      }
    },
    {
      "cell_type": "code",
      "source": [
        "def preprocessing_img(img , label , img_shape=224) :\n",
        "  \"\"\"\n",
        "  Summary :\n",
        "    1. Converts image datatype from 'uint8' -> 'float32' and reshapes\n",
        "    2. image to [img_shape, img_shape, colour_channels]\n",
        "\n",
        "  Hint :\n",
        "    as we are using EfficientB0 base_model we don't need resaclling\n",
        "\n",
        "  Args :\n",
        "    img (np.array) : image in format (224,224,3)\n",
        "    label (int) : label of image in integer format\n",
        "\n",
        "  Returns :\n",
        "    returning the resized image with float data type\n",
        "\n",
        "  \"\"\"\n",
        "  # 1. resizing images\n",
        "  img = tf.image.resize(img , [img_shape , img_shape])\n",
        "  # converting image data types and returning them\n",
        "  return tf.cast(img , tf.float32) , label"
      ],
      "metadata": {
        "id": "FuIh6VFgGm7v"
      },
      "execution_count": null,
      "outputs": []
    },
    {
      "cell_type": "code",
      "source": [
        "# presprocess an image\n",
        "preprocessing_image , preprocessing_label = preprocessing_img(img = image ,\n",
        "                                                label = label ,\n",
        "                                                img_shape = 224)"
      ],
      "metadata": {
        "id": "O_SPUOt8Gm5t"
      },
      "execution_count": null,
      "outputs": []
    },
    {
      "cell_type": "code",
      "source": [
        "# visualize a prrprocessed image\n",
        "plt.suptitle(class_names[preprocessing_label]) ;\n",
        "plt.subplot(1,2,1) ;\n",
        "plt.imshow(image) ;\n",
        "plt.title(image.shape) ;\n",
        "plt.axis(\"off\") ;\n",
        "plt.subplot(1,2,2) ;\n",
        "plt.imshow(preprocessing_image/255.0) ;\n",
        "plt.title(preprocessing_image.shape) ;\n",
        "plt.axis(\"off\") ;"
      ],
      "metadata": {
        "id": "7j46-8CTGm3S",
        "colab": {
          "base_uri": "https://localhost:8080/",
          "height": 382
        },
        "outputId": "b30f6dd6-7a4e-4d21-f90d-32ff41af80df"
      },
      "execution_count": null,
      "outputs": [
        {
          "output_type": "display_data",
          "data": {
            "text/plain": [
              "<Figure size 640x480 with 2 Axes>"
            ],
            "image/png": "[encoded data removed]"
          },
          "metadata": {}
        }
      ]
    },
    {
      "cell_type": "markdown",
      "source": [
        "### Batch and Prepare datasest"
      ],
      "metadata": {
        "id": "QJbkvVlbGm08"
      }
    },
    {
      "cell_type": "code",
      "source": [
        "# mapping preprocessing function and making sure that our data are parallel\n",
        "train_data = train_data.map(map_func = preprocessing_img , num_parallel_calls = tf.data.AUTOTUNE)\n",
        "# shuffling our data and making batches and prefetching data for faster processing\n",
        "train_data = train_data.shuffle(buffer_size = 1000).batch(batch_size = 32).prefetch(buffer_size = tf.data.AUTOTUNE)\n",
        "# same process for test data insted of shuffling\n",
        "test_data = test_data.map(map_func = preprocessing_img , num_parallel_calls = tf.data.AUTOTUNE).batch(batch_size = 32).prefetch(buffer_size = tf.data.AUTOTUNE)"
      ],
      "metadata": {
        "id": "ESMHvAvQGmyp"
      },
      "execution_count": null,
      "outputs": []
    },
    {
      "cell_type": "code",
      "source": [
        "train_data , test_data"
      ],
      "metadata": {
        "id": "-ll4jLA3GmwJ",
        "colab": {
          "base_uri": "https://localhost:8080/"
        },
        "outputId": "f1e2bbe4-9c8d-4ca4-9307-28fea9ad7fbb"
      },
      "execution_count": null,
      "outputs": [
        {
          "output_type": "execute_result",
          "data": {
            "text/plain": [
              "(<_PrefetchDataset element_spec=(TensorSpec(shape=(None, 224, 224, 3), dtype=tf.float32, name=None), TensorSpec(shape=(None,), dtype=tf.int64, name=None))>,\n",
              " <_PrefetchDataset element_spec=(TensorSpec(shape=(None, 224, 224, 3), dtype=tf.float32, name=None), TensorSpec(shape=(None,), dtype=tf.int64, name=None))>)"
            ]
          },
          "metadata": {},
          "execution_count": 17
        }
      ]
    },
    {
      "cell_type": "markdown",
      "source": [
        "### making callbacks"
      ],
      "metadata": {
        "id": "c2TXIIAUGmt1"
      }
    },
    {
      "cell_type": "code",
      "source": [
        "# making the place to save checkpoints\n",
        "checkpoint_path = \"model_checkpoints/cp.ckpt\"\n",
        "# making checkpoint callback function\n",
        "model_checkpoint_callback = tf.keras.callbacks.ModelCheckpoint(checkpoint_path ,\n",
        "                                                               verbose = 0 ,\n",
        "                                                               save_best_only = True ,\n",
        "                                                               save_weights_only = True ,\n",
        "                                                               monitor = \"val_acc\")"
      ],
      "metadata": {
        "id": "1vykZSZ0Gmpp"
      },
      "execution_count": null,
      "outputs": []
    },
    {
      "cell_type": "markdown",
      "source": [
        "## setup mixed precision training\n",
        "\n",
        "mixed precision training actully means to train model on data with different data type and actully we must set a setting for that including :\n",
        "\n",
        "`tf.keras.mixed_precision.set_global_policy()`"
      ],
      "metadata": {
        "id": "UQj8-hORGmnM"
      }
    },
    {
      "cell_type": "code",
      "source": [
        "# turnon mixed precision training\n",
        "tf.keras.mixed_precision.set_global_policy(\"mixed_float16\")"
      ],
      "metadata": {
        "id": "OrV8p9Ndfs2Y"
      },
      "execution_count": null,
      "outputs": []
    },
    {
      "cell_type": "code",
      "source": [
        "# checking mixed precision global policy\n",
        "tf.keras.mixed_precision.global_policy()"
      ],
      "metadata": {
        "colab": {
          "base_uri": "https://localhost:8080/"
        },
        "id": "g5ttgBosgC2N",
        "outputId": "390ba79a-f9e7-40fc-a4fe-300c6327f78e"
      },
      "execution_count": null,
      "outputs": [
        {
          "output_type": "execute_result",
          "data": {
            "text/plain": [
              "<Policy \"mixed_float16\">"
            ]
          },
          "metadata": {},
          "execution_count": 20
        }
      ]
    },
    {
      "cell_type": "markdown",
      "source": [
        "## Build Feature Extraction model"
      ],
      "metadata": {
        "id": "vr0n9swWGmib"
      }
    },
    {
      "cell_type": "code",
      "source": [
        "# building base model\n",
        "base_model = tf.keras.applications.EfficientNetB0(include_top = False)\n",
        "base_model.trainable = False\n",
        "\n",
        "# Create layers\n",
        "inputs = tf.keras.Input(shape = (224 ,224 ,3) , name = \"input_layer\")\n",
        "x = base_model(inputs , training = False)\n",
        "x = tf.keras.layers.GlobalAveragePooling2D(name  = \"global_average_pooling_2d_layer\")(x)\n",
        "outputs = tf.keras.layers.Dense(len(class_names) , name  = \"output_layer\" , activation = tf.keras.activations.softmax)(x)\n",
        "\n",
        "# mading up model\n",
        "model = tf.keras.Model(inputs , outputs)\n",
        "\n",
        "# compile_model\n",
        "model.compile(loss = tf.keras.losses.sparse_categorical_crossentropy ,\n",
        "              optimizer = tf.keras.optimizers.Adam() ,\n",
        "              metrics = [\"accuracy\"])\n",
        "\n",
        "# fit model\n",
        "results = model.fit(epochs = 3 ,\n",
        "                    x = train_data ,\n",
        "                    validation_data = test_data ,\n",
        "                    steps_per_epoch = len(train_data) ,\n",
        "                    validation_steps = len(test_data) ,\n",
        "                    callbacks = [create_tensorboard_callback(\n",
        "                        dir_name = \"tensorboard\" ,\n",
        "                        experiment_name = \"mixed_precision_feature_extraction\") ,\n",
        "                                 model_checkpoint_callback])"
      ],
      "metadata": {
        "colab": {
          "base_uri": "https://localhost:8080/"
        },
        "id": "oXX4Oj77gWAU",
        "outputId": "72fe2b71-bd6c-4749-9fd5-11a86d60f02e"
      },
      "execution_count": null,
      "outputs": [
        {
          "output_type": "stream",
          "name": "stderr",
          "text": [
            "WARNING:tensorflow:Model failed to serialize as JSON. Ignoring... Unable to serialize [2.0896919 2.1128857 2.1081853] to JSON. Unrecognized type <class 'tensorflow.python.framework.ops.EagerTensor'>.\n"
          ]
        },
        {
          "output_type": "stream",
          "name": "stdout",
          "text": [
            "Saving TensorBoard log files to: tensorboard/mixed_precision_feature_extraction/20230908-145123\n",
            "Epoch 1/3\n",
            "2368/2368 [==============================] - ETA: 0s - loss: 1.7194 - accuracy: 0.5814"
          ]
        },
        {
          "output_type": "stream",
          "name": "stderr",
          "text": [
            "WARNING:tensorflow:Can save best model only with val_acc available, skipping.\n"
          ]
        },
        {
          "output_type": "stream",
          "name": "stdout",
          "text": [
            "\b\b\b\b\b\b\b\b\b\b\b\b\b\b\b\b\b\b\b\b\b\b\b\b\b\b\b\b\b\b\b\b\b\b\b\b\b\b\b\b\b\b\b\b\b\b\b\b\b\b\b\b\b\b\b\b\b\b\b\b\b\b\b\b\b\b\b\b\b\b\b\b\b\b\b\b\b\b\b\b\b\b\b\b\b\b\r2368/2368 [==============================] - 242s 97ms/step - loss: 1.7194 - accuracy: 0.5814 - val_loss: 1.1372 - val_accuracy: 0.6984\n",
            "Epoch 2/3\n",
            "2367/2368 [============================>.] - ETA: 0s - loss: 1.1993 - accuracy: 0.6897"
          ]
        },
        {
          "output_type": "stream",
          "name": "stderr",
          "text": [
            "WARNING:tensorflow:Can save best model only with val_acc available, skipping.\n"
          ]
        },
        {
          "output_type": "stream",
          "name": "stdout",
          "text": [
            "\b\b\b\b\b\b\b\b\b\b\b\b\b\b\b\b\b\b\b\b\b\b\b\b\b\b\b\b\b\b\b\b\b\b\b\b\b\b\b\b\b\b\b\b\b\b\b\b\b\b\b\b\b\b\b\b\b\b\b\b\b\b\b\b\b\b\b\b\b\b\b\b\b\b\b\b\b\b\b\b\b\b\b\b\b\b\r2368/2368 [==============================] - 229s 95ms/step - loss: 1.1993 - accuracy: 0.6897 - val_loss: 1.0370 - val_accuracy: 0.7219\n",
            "Epoch 3/3\n",
            "2368/2368 [==============================] - ETA: 0s - loss: 1.0537 - accuracy: 0.7228"
          ]
        },
        {
          "output_type": "stream",
          "name": "stderr",
          "text": [
            "WARNING:tensorflow:Can save best model only with val_acc available, skipping.\n"
          ]
        },
        {
          "output_type": "stream",
          "name": "stdout",
          "text": [
            "\b\b\b\b\b\b\b\b\b\b\b\b\b\b\b\b\b\b\b\b\b\b\b\b\b\b\b\b\b\b\b\b\b\b\b\b\b\b\b\b\b\b\b\b\b\b\b\b\b\b\b\b\b\b\b\b\b\b\b\b\b\b\b\b\b\b\b\b\b\b\b\b\b\b\b\b\b\b\b\b\b\b\b\b\b\b\r2368/2368 [==============================] - 260s 108ms/step - loss: 1.0537 - accuracy: 0.7228 - val_loss: 1.0048 - val_accuracy: 0.7262\n"
          ]
        }
      ]
    },
    {
      "cell_type": "markdown",
      "source": [
        "### A Glance at model"
      ],
      "metadata": {
        "id": "jr_O0s5rgV-M"
      }
    },
    {
      "cell_type": "code",
      "source": [
        "for i , layer in enumerate(base_model.layers) :\n",
        "  print(i , layer.name , layer.trainable , layer.dtype , layer.dtype_policy)"
      ],
      "metadata": {
        "colab": {
          "base_uri": "https://localhost:8080/"
        },
        "id": "6J10o230gV7y",
        "outputId": "26e9951d-7e66-4dcc-cca6-8b1977ce5b63"
      },
      "execution_count": null,
      "outputs": [
        {
          "output_type": "stream",
          "name": "stdout",
          "text": [
            "0 input_5 False float32 <Policy \"float32\">\n",
            "1 rescaling_8 False float32 <Policy \"mixed_float16\">\n",
            "2 normalization_4 False float32 <Policy \"mixed_float16\">\n",
            "3 rescaling_9 False float32 <Policy \"mixed_float16\">\n",
            "4 stem_conv_pad False float32 <Policy \"mixed_float16\">\n",
            "5 stem_conv False float32 <Policy \"mixed_float16\">\n",
            "6 stem_bn False float32 <Policy \"mixed_float16\">\n",
            "7 stem_activation False float32 <Policy \"mixed_float16\">\n",
            "8 block1a_dwconv False float32 <Policy \"mixed_float16\">\n",
            "9 block1a_bn False float32 <Policy \"mixed_float16\">\n",
            "10 block1a_activation False float32 <Policy \"mixed_float16\">\n",
            "11 block1a_se_squeeze False float32 <Policy \"mixed_float16\">\n",
            "12 block1a_se_reshape False float32 <Policy \"mixed_float16\">\n",
            "13 block1a_se_reduce False float32 <Policy \"mixed_float16\">\n",
            "14 block1a_se_expand False float32 <Policy \"mixed_float16\">\n",
            "15 block1a_se_excite False float32 <Policy \"mixed_float16\">\n",
            "16 block1a_project_conv False float32 <Policy \"mixed_float16\">\n",
            "17 block1a_project_bn False float32 <Policy \"mixed_float16\">\n",
            "18 block2a_expand_conv False float32 <Policy \"mixed_float16\">\n",
            "19 block2a_expand_bn False float32 <Policy \"mixed_float16\">\n",
            "20 block2a_expand_activation False float32 <Policy \"mixed_float16\">\n",
            "21 block2a_dwconv_pad False float32 <Policy \"mixed_float16\">\n",
            "22 block2a_dwconv False float32 <Policy \"mixed_float16\">\n",
            "23 block2a_bn False float32 <Policy \"mixed_float16\">\n",
            "24 block2a_activation False float32 <Policy \"mixed_float16\">\n",
            "25 block2a_se_squeeze False float32 <Policy \"mixed_float16\">\n",
            "26 block2a_se_reshape False float32 <Policy \"mixed_float16\">\n",
            "27 block2a_se_reduce False float32 <Policy \"mixed_float16\">\n",
            "28 block2a_se_expand False float32 <Policy \"mixed_float16\">\n",
            "29 block2a_se_excite False float32 <Policy \"mixed_float16\">\n",
            "30 block2a_project_conv False float32 <Policy \"mixed_float16\">\n",
            "31 block2a_project_bn False float32 <Policy \"mixed_float16\">\n",
            "32 block2b_expand_conv False float32 <Policy \"mixed_float16\">\n",
            "33 block2b_expand_bn False float32 <Policy \"mixed_float16\">\n",
            "34 block2b_expand_activation False float32 <Policy \"mixed_float16\">\n",
            "35 block2b_dwconv False float32 <Policy \"mixed_float16\">\n",
            "36 block2b_bn False float32 <Policy \"mixed_float16\">\n",
            "37 block2b_activation False float32 <Policy \"mixed_float16\">\n",
            "38 block2b_se_squeeze False float32 <Policy \"mixed_float16\">\n",
            "39 block2b_se_reshape False float32 <Policy \"mixed_float16\">\n",
            "40 block2b_se_reduce False float32 <Policy \"mixed_float16\">\n",
            "41 block2b_se_expand False float32 <Policy \"mixed_float16\">\n",
            "42 block2b_se_excite False float32 <Policy \"mixed_float16\">\n",
            "43 block2b_project_conv False float32 <Policy \"mixed_float16\">\n",
            "44 block2b_project_bn False float32 <Policy \"mixed_float16\">\n",
            "45 block2b_drop False float32 <Policy \"mixed_float16\">\n",
            "46 block2b_add False float32 <Policy \"mixed_float16\">\n",
            "47 block3a_expand_conv False float32 <Policy \"mixed_float16\">\n",
            "48 block3a_expand_bn False float32 <Policy \"mixed_float16\">\n",
            "49 block3a_expand_activation False float32 <Policy \"mixed_float16\">\n",
            "50 block3a_dwconv_pad False float32 <Policy \"mixed_float16\">\n",
            "51 block3a_dwconv False float32 <Policy \"mixed_float16\">\n",
            "52 block3a_bn False float32 <Policy \"mixed_float16\">\n",
            "53 block3a_activation False float32 <Policy \"mixed_float16\">\n",
            "54 block3a_se_squeeze False float32 <Policy \"mixed_float16\">\n",
            "55 block3a_se_reshape False float32 <Policy \"mixed_float16\">\n",
            "56 block3a_se_reduce False float32 <Policy \"mixed_float16\">\n",
            "57 block3a_se_expand False float32 <Policy \"mixed_float16\">\n",
            "58 block3a_se_excite False float32 <Policy \"mixed_float16\">\n",
            "59 block3a_project_conv False float32 <Policy \"mixed_float16\">\n",
            "60 block3a_project_bn False float32 <Policy \"mixed_float16\">\n",
            "61 block3b_expand_conv False float32 <Policy \"mixed_float16\">\n",
            "62 block3b_expand_bn False float32 <Policy \"mixed_float16\">\n",
            "63 block3b_expand_activation False float32 <Policy \"mixed_float16\">\n",
            "64 block3b_dwconv False float32 <Policy \"mixed_float16\">\n",
            "65 block3b_bn False float32 <Policy \"mixed_float16\">\n",
            "66 block3b_activation False float32 <Policy \"mixed_float16\">\n",
            "67 block3b_se_squeeze False float32 <Policy \"mixed_float16\">\n",
            "68 block3b_se_reshape False float32 <Policy \"mixed_float16\">\n",
            "69 block3b_se_reduce False float32 <Policy \"mixed_float16\">\n",
            "70 block3b_se_expand False float32 <Policy \"mixed_float16\">\n",
            "71 block3b_se_excite False float32 <Policy \"mixed_float16\">\n",
            "72 block3b_project_conv False float32 <Policy \"mixed_float16\">\n",
            "73 block3b_project_bn False float32 <Policy \"mixed_float16\">\n",
            "74 block3b_drop False float32 <Policy \"mixed_float16\">\n",
            "75 block3b_add False float32 <Policy \"mixed_float16\">\n",
            "76 block4a_expand_conv False float32 <Policy \"mixed_float16\">\n",
            "77 block4a_expand_bn False float32 <Policy \"mixed_float16\">\n",
            "78 block4a_expand_activation False float32 <Policy \"mixed_float16\">\n",
            "79 block4a_dwconv_pad False float32 <Policy \"mixed_float16\">\n",
            "80 block4a_dwconv False float32 <Policy \"mixed_float16\">\n",
            "81 block4a_bn False float32 <Policy \"mixed_float16\">\n",
            "82 block4a_activation False float32 <Policy \"mixed_float16\">\n",
            "83 block4a_se_squeeze False float32 <Policy \"mixed_float16\">\n",
            "84 block4a_se_reshape False float32 <Policy \"mixed_float16\">\n",
            "85 block4a_se_reduce False float32 <Policy \"mixed_float16\">\n",
            "86 block4a_se_expand False float32 <Policy \"mixed_float16\">\n",
            "87 block4a_se_excite False float32 <Policy \"mixed_float16\">\n",
            "88 block4a_project_conv False float32 <Policy \"mixed_float16\">\n",
            "89 block4a_project_bn False float32 <Policy \"mixed_float16\">\n",
            "90 block4b_expand_conv False float32 <Policy \"mixed_float16\">\n",
            "91 block4b_expand_bn False float32 <Policy \"mixed_float16\">\n",
            "92 block4b_expand_activation False float32 <Policy \"mixed_float16\">\n",
            "93 block4b_dwconv False float32 <Policy \"mixed_float16\">\n",
            "94 block4b_bn False float32 <Policy \"mixed_float16\">\n",
            "95 block4b_activation False float32 <Policy \"mixed_float16\">\n",
            "96 block4b_se_squeeze False float32 <Policy \"mixed_float16\">\n",
            "97 block4b_se_reshape False float32 <Policy \"mixed_float16\">\n",
            "98 block4b_se_reduce False float32 <Policy \"mixed_float16\">\n",
            "99 block4b_se_expand False float32 <Policy \"mixed_float16\">\n",
            "100 block4b_se_excite False float32 <Policy \"mixed_float16\">\n",
            "101 block4b_project_conv False float32 <Policy \"mixed_float16\">\n",
            "102 block4b_project_bn False float32 <Policy \"mixed_float16\">\n",
            "103 block4b_drop False float32 <Policy \"mixed_float16\">\n",
            "104 block4b_add False float32 <Policy \"mixed_float16\">\n",
            "105 block4c_expand_conv False float32 <Policy \"mixed_float16\">\n",
            "106 block4c_expand_bn False float32 <Policy \"mixed_float16\">\n",
            "107 block4c_expand_activation False float32 <Policy \"mixed_float16\">\n",
            "108 block4c_dwconv False float32 <Policy \"mixed_float16\">\n",
            "109 block4c_bn False float32 <Policy \"mixed_float16\">\n",
            "110 block4c_activation False float32 <Policy \"mixed_float16\">\n",
            "111 block4c_se_squeeze False float32 <Policy \"mixed_float16\">\n",
            "112 block4c_se_reshape False float32 <Policy \"mixed_float16\">\n",
            "113 block4c_se_reduce False float32 <Policy \"mixed_float16\">\n",
            "114 block4c_se_expand False float32 <Policy \"mixed_float16\">\n",
            "115 block4c_se_excite False float32 <Policy \"mixed_float16\">\n",
            "116 block4c_project_conv False float32 <Policy \"mixed_float16\">\n",
            "117 block4c_project_bn False float32 <Policy \"mixed_float16\">\n",
            "118 block4c_drop False float32 <Policy \"mixed_float16\">\n",
            "119 block4c_add False float32 <Policy \"mixed_float16\">\n",
            "120 block5a_expand_conv False float32 <Policy \"mixed_float16\">\n",
            "121 block5a_expand_bn False float32 <Policy \"mixed_float16\">\n",
            "122 block5a_expand_activation False float32 <Policy \"mixed_float16\">\n",
            "123 block5a_dwconv False float32 <Policy \"mixed_float16\">\n",
            "124 block5a_bn False float32 <Policy \"mixed_float16\">\n",
            "125 block5a_activation False float32 <Policy \"mixed_float16\">\n",
            "126 block5a_se_squeeze False float32 <Policy \"mixed_float16\">\n",
            "127 block5a_se_reshape False float32 <Policy \"mixed_float16\">\n",
            "128 block5a_se_reduce False float32 <Policy \"mixed_float16\">\n",
            "129 block5a_se_expand False float32 <Policy \"mixed_float16\">\n",
            "130 block5a_se_excite False float32 <Policy \"mixed_float16\">\n",
            "131 block5a_project_conv False float32 <Policy \"mixed_float16\">\n",
            "132 block5a_project_bn False float32 <Policy \"mixed_float16\">\n",
            "133 block5b_expand_conv False float32 <Policy \"mixed_float16\">\n",
            "134 block5b_expand_bn False float32 <Policy \"mixed_float16\">\n",
            "135 block5b_expand_activation False float32 <Policy \"mixed_float16\">\n",
            "136 block5b_dwconv False float32 <Policy \"mixed_float16\">\n",
            "137 block5b_bn False float32 <Policy \"mixed_float16\">\n",
            "138 block5b_activation False float32 <Policy \"mixed_float16\">\n",
            "139 block5b_se_squeeze False float32 <Policy \"mixed_float16\">\n",
            "140 block5b_se_reshape False float32 <Policy \"mixed_float16\">\n",
            "141 block5b_se_reduce False float32 <Policy \"mixed_float16\">\n",
            "142 block5b_se_expand False float32 <Policy \"mixed_float16\">\n",
            "143 block5b_se_excite False float32 <Policy \"mixed_float16\">\n",
            "144 block5b_project_conv False float32 <Policy \"mixed_float16\">\n",
            "145 block5b_project_bn False float32 <Policy \"mixed_float16\">\n",
            "146 block5b_drop False float32 <Policy \"mixed_float16\">\n",
            "147 block5b_add False float32 <Policy \"mixed_float16\">\n",
            "148 block5c_expand_conv False float32 <Policy \"mixed_float16\">\n",
            "149 block5c_expand_bn False float32 <Policy \"mixed_float16\">\n",
            "150 block5c_expand_activation False float32 <Policy \"mixed_float16\">\n",
            "151 block5c_dwconv False float32 <Policy \"mixed_float16\">\n",
            "152 block5c_bn False float32 <Policy \"mixed_float16\">\n",
            "153 block5c_activation False float32 <Policy \"mixed_float16\">\n",
            "154 block5c_se_squeeze False float32 <Policy \"mixed_float16\">\n",
            "155 block5c_se_reshape False float32 <Policy \"mixed_float16\">\n",
            "156 block5c_se_reduce False float32 <Policy \"mixed_float16\">\n",
            "157 block5c_se_expand False float32 <Policy \"mixed_float16\">\n",
            "158 block5c_se_excite False float32 <Policy \"mixed_float16\">\n",
            "159 block5c_project_conv False float32 <Policy \"mixed_float16\">\n",
            "160 block5c_project_bn False float32 <Policy \"mixed_float16\">\n",
            "161 block5c_drop False float32 <Policy \"mixed_float16\">\n",
            "162 block5c_add False float32 <Policy \"mixed_float16\">\n",
            "163 block6a_expand_conv False float32 <Policy \"mixed_float16\">\n",
            "164 block6a_expand_bn False float32 <Policy \"mixed_float16\">\n",
            "165 block6a_expand_activation False float32 <Policy \"mixed_float16\">\n",
            "166 block6a_dwconv_pad False float32 <Policy \"mixed_float16\">\n",
            "167 block6a_dwconv False float32 <Policy \"mixed_float16\">\n",
            "168 block6a_bn False float32 <Policy \"mixed_float16\">\n",
            "169 block6a_activation False float32 <Policy \"mixed_float16\">\n",
            "170 block6a_se_squeeze False float32 <Policy \"mixed_float16\">\n",
            "171 block6a_se_reshape False float32 <Policy \"mixed_float16\">\n",
            "172 block6a_se_reduce False float32 <Policy \"mixed_float16\">\n",
            "173 block6a_se_expand False float32 <Policy \"mixed_float16\">\n",
            "174 block6a_se_excite False float32 <Policy \"mixed_float16\">\n",
            "175 block6a_project_conv False float32 <Policy \"mixed_float16\">\n",
            "176 block6a_project_bn False float32 <Policy \"mixed_float16\">\n",
            "177 block6b_expand_conv False float32 <Policy \"mixed_float16\">\n",
            "178 block6b_expand_bn False float32 <Policy \"mixed_float16\">\n",
            "179 block6b_expand_activation False float32 <Policy \"mixed_float16\">\n",
            "180 block6b_dwconv False float32 <Policy \"mixed_float16\">\n",
            "181 block6b_bn False float32 <Policy \"mixed_float16\">\n",
            "182 block6b_activation False float32 <Policy \"mixed_float16\">\n",
            "183 block6b_se_squeeze False float32 <Policy \"mixed_float16\">\n",
            "184 block6b_se_reshape False float32 <Policy \"mixed_float16\">\n",
            "185 block6b_se_reduce False float32 <Policy \"mixed_float16\">\n",
            "186 block6b_se_expand False float32 <Policy \"mixed_float16\">\n",
            "187 block6b_se_excite False float32 <Policy \"mixed_float16\">\n",
            "188 block6b_project_conv False float32 <Policy \"mixed_float16\">\n",
            "189 block6b_project_bn False float32 <Policy \"mixed_float16\">\n",
            "190 block6b_drop False float32 <Policy \"mixed_float16\">\n",
            "191 block6b_add False float32 <Policy \"mixed_float16\">\n",
            "192 block6c_expand_conv False float32 <Policy \"mixed_float16\">\n",
            "193 block6c_expand_bn False float32 <Policy \"mixed_float16\">\n",
            "194 block6c_expand_activation False float32 <Policy \"mixed_float16\">\n",
            "195 block6c_dwconv False float32 <Policy \"mixed_float16\">\n",
            "196 block6c_bn False float32 <Policy \"mixed_float16\">\n",
            "197 block6c_activation False float32 <Policy \"mixed_float16\">\n",
            "198 block6c_se_squeeze False float32 <Policy \"mixed_float16\">\n",
            "199 block6c_se_reshape False float32 <Policy \"mixed_float16\">\n",
            "200 block6c_se_reduce False float32 <Policy \"mixed_float16\">\n",
            "201 block6c_se_expand False float32 <Policy \"mixed_float16\">\n",
            "202 block6c_se_excite False float32 <Policy \"mixed_float16\">\n",
            "203 block6c_project_conv False float32 <Policy \"mixed_float16\">\n",
            "204 block6c_project_bn False float32 <Policy \"mixed_float16\">\n",
            "205 block6c_drop False float32 <Policy \"mixed_float16\">\n",
            "206 block6c_add False float32 <Policy \"mixed_float16\">\n",
            "207 block6d_expand_conv False float32 <Policy \"mixed_float16\">\n",
            "208 block6d_expand_bn False float32 <Policy \"mixed_float16\">\n",
            "209 block6d_expand_activation False float32 <Policy \"mixed_float16\">\n",
            "210 block6d_dwconv False float32 <Policy \"mixed_float16\">\n",
            "211 block6d_bn False float32 <Policy \"mixed_float16\">\n",
            "212 block6d_activation False float32 <Policy \"mixed_float16\">\n",
            "213 block6d_se_squeeze False float32 <Policy \"mixed_float16\">\n",
            "214 block6d_se_reshape False float32 <Policy \"mixed_float16\">\n",
            "215 block6d_se_reduce False float32 <Policy \"mixed_float16\">\n",
            "216 block6d_se_expand False float32 <Policy \"mixed_float16\">\n",
            "217 block6d_se_excite False float32 <Policy \"mixed_float16\">\n",
            "218 block6d_project_conv False float32 <Policy \"mixed_float16\">\n",
            "219 block6d_project_bn False float32 <Policy \"mixed_float16\">\n",
            "220 block6d_drop False float32 <Policy \"mixed_float16\">\n",
            "221 block6d_add False float32 <Policy \"mixed_float16\">\n",
            "222 block7a_expand_conv False float32 <Policy \"mixed_float16\">\n",
            "223 block7a_expand_bn False float32 <Policy \"mixed_float16\">\n",
            "224 block7a_expand_activation False float32 <Policy \"mixed_float16\">\n",
            "225 block7a_dwconv False float32 <Policy \"mixed_float16\">\n",
            "226 block7a_bn False float32 <Policy \"mixed_float16\">\n",
            "227 block7a_activation False float32 <Policy \"mixed_float16\">\n",
            "228 block7a_se_squeeze False float32 <Policy \"mixed_float16\">\n",
            "229 block7a_se_reshape False float32 <Policy \"mixed_float16\">\n",
            "230 block7a_se_reduce False float32 <Policy \"mixed_float16\">\n",
            "231 block7a_se_expand False float32 <Policy \"mixed_float16\">\n",
            "232 block7a_se_excite False float32 <Policy \"mixed_float16\">\n",
            "233 block7a_project_conv False float32 <Policy \"mixed_float16\">\n",
            "234 block7a_project_bn False float32 <Policy \"mixed_float16\">\n",
            "235 top_conv False float32 <Policy \"mixed_float16\">\n",
            "236 top_bn False float32 <Policy \"mixed_float16\">\n",
            "237 top_activation False float32 <Policy \"mixed_float16\">\n"
          ]
        }
      ]
    }
  ]
}